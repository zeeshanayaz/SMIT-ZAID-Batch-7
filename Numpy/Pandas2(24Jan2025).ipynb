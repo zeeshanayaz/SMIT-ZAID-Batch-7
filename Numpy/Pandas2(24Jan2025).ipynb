{
 "cells": [
  {
   "cell_type": "markdown",
   "id": "8c5e4d21-2614-4c2b-9aab-eb193702e4f2",
   "metadata": {},
   "source": [
    "# Explatory Data Analytis\n",
    "  - Descriptive Statistics\n",
    "  - Inferential Statistics\n",
    "  - Predictive Statistics\n",
    "  - Premitive Statistics\n",
    "  - https://www.geeksforgeeks.org/introduction-of-statistics-and-its-types/"
   ]
  },
  {
   "cell_type": "markdown",
   "id": "bba226f0-e484-42d3-a794-cea4172158aa",
   "metadata": {},
   "source": [
    "## Descriptive Statistics"
   ]
  },
  {
   "cell_type": "markdown",
   "id": "c897b1c9-c947-4baa-953f-e286f12db8aa",
   "metadata": {},
   "source": [
    "### Data Central Tendency\n",
    "  - Univariate Analysis\n",
    "  - Define Data in a single word/sentence\n",
    "  - Mean\n",
    "  - Median\n",
    "  - Mode\n",
    "      - Mean/Median/Mode, What to use defines Outliers"
   ]
  },
  {
   "cell_type": "markdown",
   "id": "892884a0-4302-4ffb-bc8f-5451f722e5e6",
   "metadata": {},
   "source": [
    "### Measure of Variability : Understanding Data Dispersion\n",
    "  - Variance  \n",
    "  - Standard Deviation  {The unit of variance}\n",
    "  - Range"
   ]
  },
  {
   "cell_type": "markdown",
   "id": "904a09ce-5288-41a5-80ee-390f69aee87b",
   "metadata": {},
   "source": [
    "### Measures of Frequency Distribution"
   ]
  },
  {
   "cell_type": "code",
   "execution_count": 1,
   "id": "eaf0f3db-a463-43ca-96d6-9dda17317ff5",
   "metadata": {},
   "outputs": [],
   "source": [
    "import pandas as pd"
   ]
  },
  {
   "cell_type": "code",
   "execution_count": 10,
   "id": "4a1e6cf6-75e0-43e6-9614-9f561fb693d0",
   "metadata": {},
   "outputs": [],
   "source": [
    "data = pd.read_excel(\"employee.xlsx\", index_col=\"Serial\")"
   ]
  },
  {
   "cell_type": "code",
   "execution_count": 11,
   "id": "6315a34e-4f74-4577-83b7-440a3217fba5",
   "metadata": {},
   "outputs": [
    {
     "data": {
      "text/html": [
       "<div>\n",
       "<style scoped>\n",
       "    .dataframe tbody tr th:only-of-type {\n",
       "        vertical-align: middle;\n",
       "    }\n",
       "\n",
       "    .dataframe tbody tr th {\n",
       "        vertical-align: top;\n",
       "    }\n",
       "\n",
       "    .dataframe thead th {\n",
       "        text-align: right;\n",
       "    }\n",
       "</style>\n",
       "<table border=\"1\" class=\"dataframe\">\n",
       "  <thead>\n",
       "    <tr style=\"text-align: right;\">\n",
       "      <th></th>\n",
       "      <th>Emp_ID</th>\n",
       "      <th>Designation</th>\n",
       "      <th>Department</th>\n",
       "      <th>Age</th>\n",
       "      <th>Salary</th>\n",
       "    </tr>\n",
       "    <tr>\n",
       "      <th>Serial</th>\n",
       "      <th></th>\n",
       "      <th></th>\n",
       "      <th></th>\n",
       "      <th></th>\n",
       "      <th></th>\n",
       "    </tr>\n",
       "  </thead>\n",
       "  <tbody>\n",
       "    <tr>\n",
       "      <th>1</th>\n",
       "      <td>1101</td>\n",
       "      <td>Manager</td>\n",
       "      <td>Accounts</td>\n",
       "      <td>50.0</td>\n",
       "      <td>200000.0</td>\n",
       "    </tr>\n",
       "    <tr>\n",
       "      <th>2</th>\n",
       "      <td>1107</td>\n",
       "      <td>Officer</td>\n",
       "      <td>IT</td>\n",
       "      <td>30.0</td>\n",
       "      <td>80000.0</td>\n",
       "    </tr>\n",
       "    <tr>\n",
       "      <th>3</th>\n",
       "      <td>1203</td>\n",
       "      <td>Officer</td>\n",
       "      <td>HR</td>\n",
       "      <td>28.0</td>\n",
       "      <td>NaN</td>\n",
       "    </tr>\n",
       "    <tr>\n",
       "      <th>4</th>\n",
       "      <td>1005</td>\n",
       "      <td>Manager</td>\n",
       "      <td>HR</td>\n",
       "      <td>45.0</td>\n",
       "      <td>120000.0</td>\n",
       "    </tr>\n",
       "    <tr>\n",
       "      <th>5</th>\n",
       "      <td>2123</td>\n",
       "      <td>Office Boy</td>\n",
       "      <td>Accounts</td>\n",
       "      <td>27.0</td>\n",
       "      <td>45000.0</td>\n",
       "    </tr>\n",
       "    <tr>\n",
       "      <th>6</th>\n",
       "      <td>2451</td>\n",
       "      <td>Accountant</td>\n",
       "      <td>NaN</td>\n",
       "      <td>34.0</td>\n",
       "      <td>100000.0</td>\n",
       "    </tr>\n",
       "    <tr>\n",
       "      <th>7</th>\n",
       "      <td>1111</td>\n",
       "      <td>Accountant</td>\n",
       "      <td>Accounts</td>\n",
       "      <td>NaN</td>\n",
       "      <td>110000.0</td>\n",
       "    </tr>\n",
       "    <tr>\n",
       "      <th>8</th>\n",
       "      <td>1001</td>\n",
       "      <td>Officer</td>\n",
       "      <td>IT</td>\n",
       "      <td>25.0</td>\n",
       "      <td>75000.0</td>\n",
       "    </tr>\n",
       "    <tr>\n",
       "      <th>9</th>\n",
       "      <td>1234</td>\n",
       "      <td>Manager</td>\n",
       "      <td>IT</td>\n",
       "      <td>23.0</td>\n",
       "      <td>NaN</td>\n",
       "    </tr>\n",
       "    <tr>\n",
       "      <th>10</th>\n",
       "      <td>2156</td>\n",
       "      <td>Engineer</td>\n",
       "      <td>Production</td>\n",
       "      <td>45.0</td>\n",
       "      <td>89000.0</td>\n",
       "    </tr>\n",
       "    <tr>\n",
       "      <th>11</th>\n",
       "      <td>6543</td>\n",
       "      <td>Officer</td>\n",
       "      <td>Production</td>\n",
       "      <td>29.0</td>\n",
       "      <td>100000.0</td>\n",
       "    </tr>\n",
       "    <tr>\n",
       "      <th>12</th>\n",
       "      <td>3214</td>\n",
       "      <td>Accountant</td>\n",
       "      <td>Account</td>\n",
       "      <td>49.0</td>\n",
       "      <td>123000.0</td>\n",
       "    </tr>\n",
       "    <tr>\n",
       "      <th>13</th>\n",
       "      <td>2156</td>\n",
       "      <td>Engineer</td>\n",
       "      <td>Production</td>\n",
       "      <td>45.0</td>\n",
       "      <td>89000.0</td>\n",
       "    </tr>\n",
       "    <tr>\n",
       "      <th>14</th>\n",
       "      <td>1098</td>\n",
       "      <td>Officer</td>\n",
       "      <td>IT</td>\n",
       "      <td>25.0</td>\n",
       "      <td>100000.0</td>\n",
       "    </tr>\n",
       "    <tr>\n",
       "      <th>15</th>\n",
       "      <td>2912</td>\n",
       "      <td>Officer</td>\n",
       "      <td>IT</td>\n",
       "      <td>31.0</td>\n",
       "      <td>90000.0</td>\n",
       "    </tr>\n",
       "    <tr>\n",
       "      <th>16</th>\n",
       "      <td>1222</td>\n",
       "      <td>Officer</td>\n",
       "      <td>NaN</td>\n",
       "      <td>25.0</td>\n",
       "      <td>NaN</td>\n",
       "    </tr>\n",
       "    <tr>\n",
       "      <th>17</th>\n",
       "      <td>2156</td>\n",
       "      <td>Engineer</td>\n",
       "      <td>Production</td>\n",
       "      <td>45.0</td>\n",
       "      <td>89000.0</td>\n",
       "    </tr>\n",
       "    <tr>\n",
       "      <th>18</th>\n",
       "      <td>2123</td>\n",
       "      <td>Office Boy</td>\n",
       "      <td>Accounts</td>\n",
       "      <td>27.0</td>\n",
       "      <td>45000.0</td>\n",
       "    </tr>\n",
       "  </tbody>\n",
       "</table>\n",
       "</div>"
      ],
      "text/plain": [
       "        Emp_ID Designation  Department   Age    Salary\n",
       "Serial                                                \n",
       "1         1101     Manager    Accounts  50.0  200000.0\n",
       "2         1107     Officer          IT  30.0   80000.0\n",
       "3         1203     Officer          HR  28.0       NaN\n",
       "4         1005     Manager          HR  45.0  120000.0\n",
       "5         2123  Office Boy    Accounts  27.0   45000.0\n",
       "6         2451  Accountant         NaN  34.0  100000.0\n",
       "7         1111  Accountant    Accounts   NaN  110000.0\n",
       "8         1001     Officer          IT  25.0   75000.0\n",
       "9         1234     Manager          IT  23.0       NaN\n",
       "10        2156    Engineer  Production  45.0   89000.0\n",
       "11        6543     Officer  Production  29.0  100000.0\n",
       "12        3214  Accountant     Account  49.0  123000.0\n",
       "13        2156    Engineer  Production  45.0   89000.0\n",
       "14        1098     Officer          IT  25.0  100000.0\n",
       "15        2912     Officer          IT  31.0   90000.0\n",
       "16        1222     Officer         NaN  25.0       NaN\n",
       "17        2156    Engineer  Production  45.0   89000.0\n",
       "18        2123  Office Boy    Accounts  27.0   45000.0"
      ]
     },
     "execution_count": 11,
     "metadata": {},
     "output_type": "execute_result"
    }
   ],
   "source": [
    "data"
   ]
  },
  {
   "cell_type": "code",
   "execution_count": 12,
   "id": "3d634410-3aee-4fcb-8115-4734bd6212f9",
   "metadata": {},
   "outputs": [
    {
     "data": {
      "text/plain": [
       "(18, 5)"
      ]
     },
     "execution_count": 12,
     "metadata": {},
     "output_type": "execute_result"
    }
   ],
   "source": [
    "data.shape"
   ]
  },
  {
   "cell_type": "code",
   "execution_count": 13,
   "id": "cebd9ed2-8887-4458-a3a1-2046e402da66",
   "metadata": {},
   "outputs": [
    {
     "data": {
      "text/html": [
       "<div>\n",
       "<style scoped>\n",
       "    .dataframe tbody tr th:only-of-type {\n",
       "        vertical-align: middle;\n",
       "    }\n",
       "\n",
       "    .dataframe tbody tr th {\n",
       "        vertical-align: top;\n",
       "    }\n",
       "\n",
       "    .dataframe thead th {\n",
       "        text-align: right;\n",
       "    }\n",
       "</style>\n",
       "<table border=\"1\" class=\"dataframe\">\n",
       "  <thead>\n",
       "    <tr style=\"text-align: right;\">\n",
       "      <th></th>\n",
       "      <th>Emp_ID</th>\n",
       "      <th>Designation</th>\n",
       "      <th>Department</th>\n",
       "      <th>Age</th>\n",
       "      <th>Salary</th>\n",
       "    </tr>\n",
       "    <tr>\n",
       "      <th>Serial</th>\n",
       "      <th></th>\n",
       "      <th></th>\n",
       "      <th></th>\n",
       "      <th></th>\n",
       "      <th></th>\n",
       "    </tr>\n",
       "  </thead>\n",
       "  <tbody>\n",
       "    <tr>\n",
       "      <th>1</th>\n",
       "      <td>1101</td>\n",
       "      <td>Manager</td>\n",
       "      <td>Accounts</td>\n",
       "      <td>50.0</td>\n",
       "      <td>200000.0</td>\n",
       "    </tr>\n",
       "    <tr>\n",
       "      <th>2</th>\n",
       "      <td>1107</td>\n",
       "      <td>Officer</td>\n",
       "      <td>IT</td>\n",
       "      <td>30.0</td>\n",
       "      <td>80000.0</td>\n",
       "    </tr>\n",
       "    <tr>\n",
       "      <th>3</th>\n",
       "      <td>1203</td>\n",
       "      <td>Officer</td>\n",
       "      <td>HR</td>\n",
       "      <td>28.0</td>\n",
       "      <td>NaN</td>\n",
       "    </tr>\n",
       "    <tr>\n",
       "      <th>4</th>\n",
       "      <td>1005</td>\n",
       "      <td>Manager</td>\n",
       "      <td>HR</td>\n",
       "      <td>45.0</td>\n",
       "      <td>120000.0</td>\n",
       "    </tr>\n",
       "    <tr>\n",
       "      <th>5</th>\n",
       "      <td>2123</td>\n",
       "      <td>Office Boy</td>\n",
       "      <td>Accounts</td>\n",
       "      <td>27.0</td>\n",
       "      <td>45000.0</td>\n",
       "    </tr>\n",
       "  </tbody>\n",
       "</table>\n",
       "</div>"
      ],
      "text/plain": [
       "        Emp_ID Designation Department   Age    Salary\n",
       "Serial                                               \n",
       "1         1101     Manager   Accounts  50.0  200000.0\n",
       "2         1107     Officer         IT  30.0   80000.0\n",
       "3         1203     Officer         HR  28.0       NaN\n",
       "4         1005     Manager         HR  45.0  120000.0\n",
       "5         2123  Office Boy   Accounts  27.0   45000.0"
      ]
     },
     "execution_count": 13,
     "metadata": {},
     "output_type": "execute_result"
    }
   ],
   "source": [
    "data.head()"
   ]
  },
  {
   "cell_type": "code",
   "execution_count": 14,
   "id": "5cdb2187-fa44-41bc-9750-d5eace862f9e",
   "metadata": {},
   "outputs": [
    {
     "name": "stdout",
     "output_type": "stream",
     "text": [
      "<class 'pandas.core.frame.DataFrame'>\n",
      "Index: 18 entries, 1 to 18\n",
      "Data columns (total 5 columns):\n",
      " #   Column       Non-Null Count  Dtype  \n",
      "---  ------       --------------  -----  \n",
      " 0   Emp_ID       18 non-null     int64  \n",
      " 1   Designation  18 non-null     object \n",
      " 2   Department   16 non-null     object \n",
      " 3   Age          17 non-null     float64\n",
      " 4   Salary       15 non-null     float64\n",
      "dtypes: float64(2), int64(1), object(2)\n",
      "memory usage: 864.0+ bytes\n"
     ]
    }
   ],
   "source": [
    "data.info()"
   ]
  },
  {
   "cell_type": "code",
   "execution_count": 15,
   "id": "9d4faf98-fbfc-4b44-b71c-284cc0f11d0d",
   "metadata": {},
   "outputs": [
    {
     "data": {
      "text/html": [
       "<div>\n",
       "<style scoped>\n",
       "    .dataframe tbody tr th:only-of-type {\n",
       "        vertical-align: middle;\n",
       "    }\n",
       "\n",
       "    .dataframe tbody tr th {\n",
       "        vertical-align: top;\n",
       "    }\n",
       "\n",
       "    .dataframe thead th {\n",
       "        text-align: right;\n",
       "    }\n",
       "</style>\n",
       "<table border=\"1\" class=\"dataframe\">\n",
       "  <thead>\n",
       "    <tr style=\"text-align: right;\">\n",
       "      <th></th>\n",
       "      <th>Emp_ID</th>\n",
       "      <th>Age</th>\n",
       "      <th>Salary</th>\n",
       "    </tr>\n",
       "  </thead>\n",
       "  <tbody>\n",
       "    <tr>\n",
       "      <th>count</th>\n",
       "      <td>18.000000</td>\n",
       "      <td>17.000000</td>\n",
       "      <td>15.000000</td>\n",
       "    </tr>\n",
       "    <tr>\n",
       "      <th>mean</th>\n",
       "      <td>1995.333333</td>\n",
       "      <td>34.294118</td>\n",
       "      <td>97000.000000</td>\n",
       "    </tr>\n",
       "    <tr>\n",
       "      <th>std</th>\n",
       "      <td>1334.508369</td>\n",
       "      <td>9.719598</td>\n",
       "      <td>36284.589409</td>\n",
       "    </tr>\n",
       "    <tr>\n",
       "      <th>min</th>\n",
       "      <td>1001.000000</td>\n",
       "      <td>23.000000</td>\n",
       "      <td>45000.000000</td>\n",
       "    </tr>\n",
       "    <tr>\n",
       "      <th>25%</th>\n",
       "      <td>1108.000000</td>\n",
       "      <td>27.000000</td>\n",
       "      <td>84500.000000</td>\n",
       "    </tr>\n",
       "    <tr>\n",
       "      <th>50%</th>\n",
       "      <td>1678.500000</td>\n",
       "      <td>30.000000</td>\n",
       "      <td>90000.000000</td>\n",
       "    </tr>\n",
       "    <tr>\n",
       "      <th>75%</th>\n",
       "      <td>2156.000000</td>\n",
       "      <td>45.000000</td>\n",
       "      <td>105000.000000</td>\n",
       "    </tr>\n",
       "    <tr>\n",
       "      <th>max</th>\n",
       "      <td>6543.000000</td>\n",
       "      <td>50.000000</td>\n",
       "      <td>200000.000000</td>\n",
       "    </tr>\n",
       "  </tbody>\n",
       "</table>\n",
       "</div>"
      ],
      "text/plain": [
       "            Emp_ID        Age         Salary\n",
       "count    18.000000  17.000000      15.000000\n",
       "mean   1995.333333  34.294118   97000.000000\n",
       "std    1334.508369   9.719598   36284.589409\n",
       "min    1001.000000  23.000000   45000.000000\n",
       "25%    1108.000000  27.000000   84500.000000\n",
       "50%    1678.500000  30.000000   90000.000000\n",
       "75%    2156.000000  45.000000  105000.000000\n",
       "max    6543.000000  50.000000  200000.000000"
      ]
     },
     "execution_count": 15,
     "metadata": {},
     "output_type": "execute_result"
    }
   ],
   "source": [
    "data.describe()"
   ]
  },
  {
   "cell_type": "markdown",
   "id": "7a69b881-befe-416d-9282-84cbf1f7f480",
   "metadata": {},
   "source": [
    "#### Box Plot"
   ]
  },
  {
   "cell_type": "code",
   "execution_count": 16,
   "id": "f232f1c4-1404-4ed9-9fae-151c7fec08ba",
   "metadata": {},
   "outputs": [],
   "source": [
    "import seaborn as sns"
   ]
  },
  {
   "cell_type": "code",
   "execution_count": 17,
   "id": "4241fc84-475b-468a-a27c-520a3a0eb5c0",
   "metadata": {},
   "outputs": [
    {
     "data": {
      "text/plain": [
       "<Axes: ylabel='Age'>"
      ]
     },
     "execution_count": 17,
     "metadata": {},
     "output_type": "execute_result"
    },
    {
     "data": {
      "image/png": "[encoded data removed]",
      "text/plain": [
       "<Figure size 640x480 with 1 Axes>"
      ]
     },
     "metadata": {},
     "output_type": "display_data"
    }
   ],
   "source": [
    "sns.boxplot(data.Age)"
   ]
  },
  {
   "cell_type": "markdown",
   "id": "97ad9539-b085-4d6a-bea0-434d3e0dbbbf",
   "metadata": {},
   "source": [
    "- minimum\n",
    "- maximum\n",
    "- median (50 Percentile)\n",
    "- 25 Percentile\n",
    "- 75 Percentile"
   ]
  },
  {
   "cell_type": "code",
   "execution_count": 18,
   "id": "72db840e-8dba-42fa-bd7a-2361774add6b",
   "metadata": {},
   "outputs": [
    {
     "data": {
      "text/plain": [
       "<Axes: ylabel='Salary'>"
      ]
     },
     "execution_count": 18,
     "metadata": {},
     "output_type": "execute_result"
    },
    {
     "data": {
      "image/png": "[encoded data removed]",
      "text/plain": [
       "<Figure size 640x480 with 1 Axes>"
      ]
     },
     "metadata": {},
     "output_type": "display_data"
    }
   ],
   "source": [
    "sns.boxplot(data.Salary)"
   ]
  },
  {
   "cell_type": "code",
   "execution_count": null,
   "id": "0410204b-796a-4e77-8d24-100a6b4d4198",
   "metadata": {},
   "outputs": [],
   "source": []
  }
 ],
 "metadata": {
  "kernelspec": {
   "display_name": "Python 3 (ipykernel)",
   "language": "python",
   "name": "python3"
  },
  "language_info": {
   "codemirror_mode": {
    "name": "ipython",
    "version": 3
   },
   "file_extension": ".py",
   "mimetype": "text/x-python",
   "name": "python",
   "nbconvert_exporter": "python",
   "pygments_lexer": "ipython3",
   "version": "3.12.7"
  }
 },
 "nbformat": 4,
 "nbformat_minor": 5
}
