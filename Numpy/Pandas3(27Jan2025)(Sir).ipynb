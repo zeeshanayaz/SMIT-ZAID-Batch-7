{
 "cells": [
  {
   "cell_type": "markdown",
   "id": "a00fd199-53f8-4f8d-9991-828165a9beac",
   "metadata": {},
   "source": [
    "# Exploratory Data Analysis\n",
    "    - Descritpive Statistics\n",
    "    - Inferential Statisitics\n",
    "    - Predictive Statistics\n",
    "    - Premtive Statistics\n",
    "    "
   ]
  },
  {
   "cell_type": "markdown",
   "id": "395d3cbc-800d-4f95-8053-4f9f2d424dc3",
   "metadata": {},
   "source": [
    "### Decritpive Statistics"
   ]
  },
  {
   "cell_type": "code",
   "execution_count": 1,
   "id": "37bbb7f9-d217-424b-82df-6fde1b3e4d22",
   "metadata": {},
   "outputs": [],
   "source": [
    "import pandas as pd"
   ]
  },
  {
   "cell_type": "code",
   "execution_count": 21,
   "id": "19db3d02-eaf8-4eb2-a041-84309789f2a6",
   "metadata": {},
   "outputs": [
    {
     "data": {
      "text/html": [
       "<div>\n",
       "<style scoped>\n",
       "    .dataframe tbody tr th:only-of-type {\n",
       "        vertical-align: middle;\n",
       "    }\n",
       "\n",
       "    .dataframe tbody tr th {\n",
       "        vertical-align: top;\n",
       "    }\n",
       "\n",
       "    .dataframe thead th {\n",
       "        text-align: right;\n",
       "    }\n",
       "</style>\n",
       "<table border=\"1\" class=\"dataframe\">\n",
       "  <thead>\n",
       "    <tr style=\"text-align: right;\">\n",
       "      <th></th>\n",
       "      <th>Emp_ID</th>\n",
       "      <th>Designation</th>\n",
       "      <th>Department</th>\n",
       "      <th>Age</th>\n",
       "      <th>Salary</th>\n",
       "    </tr>\n",
       "    <tr>\n",
       "      <th>Serial</th>\n",
       "      <th></th>\n",
       "      <th></th>\n",
       "      <th></th>\n",
       "      <th></th>\n",
       "      <th></th>\n",
       "    </tr>\n",
       "  </thead>\n",
       "  <tbody>\n",
       "    <tr>\n",
       "      <th>1</th>\n",
       "      <td>1101</td>\n",
       "      <td>Manager</td>\n",
       "      <td>Accounts</td>\n",
       "      <td>50.0</td>\n",
       "      <td>200000.0</td>\n",
       "    </tr>\n",
       "    <tr>\n",
       "      <th>2</th>\n",
       "      <td>1107</td>\n",
       "      <td>Officer</td>\n",
       "      <td>IT</td>\n",
       "      <td>30.0</td>\n",
       "      <td>80000.0</td>\n",
       "    </tr>\n",
       "    <tr>\n",
       "      <th>3</th>\n",
       "      <td>1203</td>\n",
       "      <td>Officer</td>\n",
       "      <td>HR</td>\n",
       "      <td>28.0</td>\n",
       "      <td>NaN</td>\n",
       "    </tr>\n",
       "    <tr>\n",
       "      <th>4</th>\n",
       "      <td>1005</td>\n",
       "      <td>Manager</td>\n",
       "      <td>HR</td>\n",
       "      <td>45.0</td>\n",
       "      <td>120000.0</td>\n",
       "    </tr>\n",
       "    <tr>\n",
       "      <th>5</th>\n",
       "      <td>2123</td>\n",
       "      <td>Office Boy</td>\n",
       "      <td>Accounts</td>\n",
       "      <td>27.0</td>\n",
       "      <td>45000.0</td>\n",
       "    </tr>\n",
       "    <tr>\n",
       "      <th>6</th>\n",
       "      <td>2451</td>\n",
       "      <td>Accountant</td>\n",
       "      <td>NaN</td>\n",
       "      <td>34.0</td>\n",
       "      <td>100000.0</td>\n",
       "    </tr>\n",
       "    <tr>\n",
       "      <th>7</th>\n",
       "      <td>1111</td>\n",
       "      <td>Accountant</td>\n",
       "      <td>Accounts</td>\n",
       "      <td>NaN</td>\n",
       "      <td>110000.0</td>\n",
       "    </tr>\n",
       "    <tr>\n",
       "      <th>8</th>\n",
       "      <td>1001</td>\n",
       "      <td>Officer</td>\n",
       "      <td>IT</td>\n",
       "      <td>25.0</td>\n",
       "      <td>75000.0</td>\n",
       "    </tr>\n",
       "    <tr>\n",
       "      <th>9</th>\n",
       "      <td>1234</td>\n",
       "      <td>Manager</td>\n",
       "      <td>IT</td>\n",
       "      <td>23.0</td>\n",
       "      <td>NaN</td>\n",
       "    </tr>\n",
       "    <tr>\n",
       "      <th>10</th>\n",
       "      <td>2156</td>\n",
       "      <td>Engineer</td>\n",
       "      <td>Production</td>\n",
       "      <td>45.0</td>\n",
       "      <td>89000.0</td>\n",
       "    </tr>\n",
       "    <tr>\n",
       "      <th>11</th>\n",
       "      <td>6543</td>\n",
       "      <td>Officer</td>\n",
       "      <td>Production</td>\n",
       "      <td>29.0</td>\n",
       "      <td>100000.0</td>\n",
       "    </tr>\n",
       "    <tr>\n",
       "      <th>12</th>\n",
       "      <td>3214</td>\n",
       "      <td>Accountant</td>\n",
       "      <td>Account</td>\n",
       "      <td>49.0</td>\n",
       "      <td>123000.0</td>\n",
       "    </tr>\n",
       "    <tr>\n",
       "      <th>13</th>\n",
       "      <td>2156</td>\n",
       "      <td>Engineer</td>\n",
       "      <td>Production</td>\n",
       "      <td>45.0</td>\n",
       "      <td>89000.0</td>\n",
       "    </tr>\n",
       "    <tr>\n",
       "      <th>14</th>\n",
       "      <td>1098</td>\n",
       "      <td>Officer</td>\n",
       "      <td>IT</td>\n",
       "      <td>25.0</td>\n",
       "      <td>100000.0</td>\n",
       "    </tr>\n",
       "    <tr>\n",
       "      <th>15</th>\n",
       "      <td>2912</td>\n",
       "      <td>Officer</td>\n",
       "      <td>IT</td>\n",
       "      <td>31.0</td>\n",
       "      <td>90000.0</td>\n",
       "    </tr>\n",
       "    <tr>\n",
       "      <th>16</th>\n",
       "      <td>1222</td>\n",
       "      <td>Officer</td>\n",
       "      <td>NaN</td>\n",
       "      <td>25.0</td>\n",
       "      <td>NaN</td>\n",
       "    </tr>\n",
       "    <tr>\n",
       "      <th>17</th>\n",
       "      <td>2156</td>\n",
       "      <td>Engineer</td>\n",
       "      <td>Production</td>\n",
       "      <td>45.0</td>\n",
       "      <td>89000.0</td>\n",
       "    </tr>\n",
       "    <tr>\n",
       "      <th>18</th>\n",
       "      <td>2123</td>\n",
       "      <td>Office Boy</td>\n",
       "      <td>Accounts</td>\n",
       "      <td>27.0</td>\n",
       "      <td>45000.0</td>\n",
       "    </tr>\n",
       "  </tbody>\n",
       "</table>\n",
       "</div>"
      ],
      "text/plain": [
       "        Emp_ID Designation  Department   Age    Salary\n",
       "Serial                                                \n",
       "1         1101     Manager    Accounts  50.0  200000.0\n",
       "2         1107     Officer          IT  30.0   80000.0\n",
       "3         1203     Officer          HR  28.0       NaN\n",
       "4         1005     Manager          HR  45.0  120000.0\n",
       "5         2123  Office Boy    Accounts  27.0   45000.0\n",
       "6         2451  Accountant         NaN  34.0  100000.0\n",
       "7         1111  Accountant    Accounts   NaN  110000.0\n",
       "8         1001     Officer          IT  25.0   75000.0\n",
       "9         1234     Manager          IT  23.0       NaN\n",
       "10        2156    Engineer  Production  45.0   89000.0\n",
       "11        6543     Officer  Production  29.0  100000.0\n",
       "12        3214  Accountant     Account  49.0  123000.0\n",
       "13        2156    Engineer  Production  45.0   89000.0\n",
       "14        1098     Officer          IT  25.0  100000.0\n",
       "15        2912     Officer          IT  31.0   90000.0\n",
       "16        1222     Officer         NaN  25.0       NaN\n",
       "17        2156    Engineer  Production  45.0   89000.0\n",
       "18        2123  Office Boy    Accounts  27.0   45000.0"
      ]
     },
     "execution_count": 21,
     "metadata": {},
     "output_type": "execute_result"
    }
   ],
   "source": [
    "data  = pd.read_excel(\"employee.xlsx\",index_col='Serial')\n",
    "data"
   ]
  },
  {
   "cell_type": "code",
   "execution_count": 3,
   "id": "f4ea2930-d2ce-46a1-969e-5bcc6aa042d4",
   "metadata": {},
   "outputs": [
    {
     "data": {
      "text/plain": [
       "(18, 5)"
      ]
     },
     "execution_count": 3,
     "metadata": {},
     "output_type": "execute_result"
    }
   ],
   "source": [
    "data.shape"
   ]
  },
  {
   "cell_type": "code",
   "execution_count": 4,
   "id": "3e71c04a-ac96-4fb6-9442-e73436fc7342",
   "metadata": {},
   "outputs": [
    {
     "data": {
      "text/html": [
       "<div>\n",
       "<style scoped>\n",
       "    .dataframe tbody tr th:only-of-type {\n",
       "        vertical-align: middle;\n",
       "    }\n",
       "\n",
       "    .dataframe tbody tr th {\n",
       "        vertical-align: top;\n",
       "    }\n",
       "\n",
       "    .dataframe thead th {\n",
       "        text-align: right;\n",
       "    }\n",
       "</style>\n",
       "<table border=\"1\" class=\"dataframe\">\n",
       "  <thead>\n",
       "    <tr style=\"text-align: right;\">\n",
       "      <th></th>\n",
       "      <th>Emp_ID</th>\n",
       "      <th>Designation</th>\n",
       "      <th>Department</th>\n",
       "      <th>Age</th>\n",
       "      <th>Salary</th>\n",
       "    </tr>\n",
       "    <tr>\n",
       "      <th>Serial</th>\n",
       "      <th></th>\n",
       "      <th></th>\n",
       "      <th></th>\n",
       "      <th></th>\n",
       "      <th></th>\n",
       "    </tr>\n",
       "  </thead>\n",
       "  <tbody>\n",
       "    <tr>\n",
       "      <th>1</th>\n",
       "      <td>1101</td>\n",
       "      <td>Manager</td>\n",
       "      <td>Accounts</td>\n",
       "      <td>50.0</td>\n",
       "      <td>200000.0</td>\n",
       "    </tr>\n",
       "    <tr>\n",
       "      <th>2</th>\n",
       "      <td>1107</td>\n",
       "      <td>Officer</td>\n",
       "      <td>IT</td>\n",
       "      <td>30.0</td>\n",
       "      <td>80000.0</td>\n",
       "    </tr>\n",
       "    <tr>\n",
       "      <th>3</th>\n",
       "      <td>1203</td>\n",
       "      <td>Officer</td>\n",
       "      <td>HR</td>\n",
       "      <td>28.0</td>\n",
       "      <td>NaN</td>\n",
       "    </tr>\n",
       "    <tr>\n",
       "      <th>4</th>\n",
       "      <td>1005</td>\n",
       "      <td>Manager</td>\n",
       "      <td>HR</td>\n",
       "      <td>45.0</td>\n",
       "      <td>120000.0</td>\n",
       "    </tr>\n",
       "    <tr>\n",
       "      <th>5</th>\n",
       "      <td>2123</td>\n",
       "      <td>Office Boy</td>\n",
       "      <td>Accounts</td>\n",
       "      <td>27.0</td>\n",
       "      <td>45000.0</td>\n",
       "    </tr>\n",
       "  </tbody>\n",
       "</table>\n",
       "</div>"
      ],
      "text/plain": [
       "        Emp_ID Designation Department   Age    Salary\n",
       "Serial                                               \n",
       "1         1101     Manager   Accounts  50.0  200000.0\n",
       "2         1107     Officer         IT  30.0   80000.0\n",
       "3         1203     Officer         HR  28.0       NaN\n",
       "4         1005     Manager         HR  45.0  120000.0\n",
       "5         2123  Office Boy   Accounts  27.0   45000.0"
      ]
     },
     "execution_count": 4,
     "metadata": {},
     "output_type": "execute_result"
    }
   ],
   "source": [
    "data.head()"
   ]
  },
  {
   "cell_type": "code",
   "execution_count": 5,
   "id": "e4491178-aa6c-47a5-a3b7-9d7c85d76d8d",
   "metadata": {},
   "outputs": [
    {
     "name": "stdout",
     "output_type": "stream",
     "text": [
      "<class 'pandas.core.frame.DataFrame'>\n",
      "Index: 18 entries, 1 to 18\n",
      "Data columns (total 5 columns):\n",
      " #   Column       Non-Null Count  Dtype  \n",
      "---  ------       --------------  -----  \n",
      " 0   Emp_ID       18 non-null     int64  \n",
      " 1   Designation  18 non-null     object \n",
      " 2   Department   16 non-null     object \n",
      " 3   Age          17 non-null     float64\n",
      " 4   Salary       15 non-null     float64\n",
      "dtypes: float64(2), int64(1), object(2)\n",
      "memory usage: 864.0+ bytes\n"
     ]
    }
   ],
   "source": [
    "data.info()"
   ]
  },
  {
   "cell_type": "code",
   "execution_count": 6,
   "id": "126c150d-a879-49cc-bea0-b32a50a4a386",
   "metadata": {},
   "outputs": [
    {
     "data": {
      "text/html": [
       "<div>\n",
       "<style scoped>\n",
       "    .dataframe tbody tr th:only-of-type {\n",
       "        vertical-align: middle;\n",
       "    }\n",
       "\n",
       "    .dataframe tbody tr th {\n",
       "        vertical-align: top;\n",
       "    }\n",
       "\n",
       "    .dataframe thead th {\n",
       "        text-align: right;\n",
       "    }\n",
       "</style>\n",
       "<table border=\"1\" class=\"dataframe\">\n",
       "  <thead>\n",
       "    <tr style=\"text-align: right;\">\n",
       "      <th></th>\n",
       "      <th>Emp_ID</th>\n",
       "      <th>Age</th>\n",
       "      <th>Salary</th>\n",
       "    </tr>\n",
       "  </thead>\n",
       "  <tbody>\n",
       "    <tr>\n",
       "      <th>count</th>\n",
       "      <td>18.000000</td>\n",
       "      <td>17.000000</td>\n",
       "      <td>15.000000</td>\n",
       "    </tr>\n",
       "    <tr>\n",
       "      <th>mean</th>\n",
       "      <td>1995.333333</td>\n",
       "      <td>34.294118</td>\n",
       "      <td>97000.000000</td>\n",
       "    </tr>\n",
       "    <tr>\n",
       "      <th>std</th>\n",
       "      <td>1334.508369</td>\n",
       "      <td>9.719598</td>\n",
       "      <td>36284.589409</td>\n",
       "    </tr>\n",
       "    <tr>\n",
       "      <th>min</th>\n",
       "      <td>1001.000000</td>\n",
       "      <td>23.000000</td>\n",
       "      <td>45000.000000</td>\n",
       "    </tr>\n",
       "    <tr>\n",
       "      <th>25%</th>\n",
       "      <td>1108.000000</td>\n",
       "      <td>27.000000</td>\n",
       "      <td>84500.000000</td>\n",
       "    </tr>\n",
       "    <tr>\n",
       "      <th>50%</th>\n",
       "      <td>1678.500000</td>\n",
       "      <td>30.000000</td>\n",
       "      <td>90000.000000</td>\n",
       "    </tr>\n",
       "    <tr>\n",
       "      <th>75%</th>\n",
       "      <td>2156.000000</td>\n",
       "      <td>45.000000</td>\n",
       "      <td>105000.000000</td>\n",
       "    </tr>\n",
       "    <tr>\n",
       "      <th>max</th>\n",
       "      <td>6543.000000</td>\n",
       "      <td>50.000000</td>\n",
       "      <td>200000.000000</td>\n",
       "    </tr>\n",
       "  </tbody>\n",
       "</table>\n",
       "</div>"
      ],
      "text/plain": [
       "            Emp_ID        Age         Salary\n",
       "count    18.000000  17.000000      15.000000\n",
       "mean   1995.333333  34.294118   97000.000000\n",
       "std    1334.508369   9.719598   36284.589409\n",
       "min    1001.000000  23.000000   45000.000000\n",
       "25%    1108.000000  27.000000   84500.000000\n",
       "50%    1678.500000  30.000000   90000.000000\n",
       "75%    2156.000000  45.000000  105000.000000\n",
       "max    6543.000000  50.000000  200000.000000"
      ]
     },
     "execution_count": 6,
     "metadata": {},
     "output_type": "execute_result"
    }
   ],
   "source": [
    "data.describe()"
   ]
  },
  {
   "cell_type": "code",
   "execution_count": 7,
   "id": "ec473dac-54f5-4d7c-975e-bef2a703efa6",
   "metadata": {},
   "outputs": [],
   "source": [
    "import seaborn as sns "
   ]
  },
  {
   "cell_type": "code",
   "execution_count": 8,
   "id": "1bf02d7b-bea9-496d-9a3b-2b6cab6d5bec",
   "metadata": {},
   "outputs": [
    {
     "data": {
      "text/plain": [
       "<Axes: ylabel='Age'>"
      ]
     },
     "execution_count": 8,
     "metadata": {},
     "output_type": "execute_result"
    },
    {
     "data": {
      "image/png": "[encoded data removed]",
      "text/plain": [
       "<Figure size 640x480 with 1 Axes>"
      ]
     },
     "metadata": {},
     "output_type": "display_data"
    }
   ],
   "source": [
    "sns.boxplot(data.Age)"
   ]
  },
  {
   "cell_type": "code",
   "execution_count": 9,
   "id": "a55cb4dd-2538-46f4-8da7-92f6367b76b9",
   "metadata": {},
   "outputs": [
    {
     "data": {
      "text/plain": [
       "<Axes: ylabel='Salary'>"
      ]
     },
     "execution_count": 9,
     "metadata": {},
     "output_type": "execute_result"
    },
    {
     "data": {
      "image/png": "[encoded data removed]",
      "text/plain": [
       "<Figure size 640x480 with 1 Axes>"
      ]
     },
     "metadata": {},
     "output_type": "display_data"
    }
   ],
   "source": [
    "sns.boxplot(data.Salary)"
   ]
  },
  {
   "cell_type": "code",
   "execution_count": 22,
   "id": "1d87965c-5abf-44be-bdd2-e3ad172e4e2c",
   "metadata": {},
   "outputs": [],
   "source": [
    "new_data = pd.DataFrame({\n",
    "                   \"Roll\":[1,2,3,4,5,6,7,8,9,10],\n",
    "                   \"name\":['Asad', 'Raza', 'Ali', 'Ahmed','Rahim','Qasim','Nasir', 'Imran', 'Faiz', 'Salah'],\n",
    "                   \"Python\":[90,67,65,89,90,87,86,65,89,45],\n",
    "                   \"Pandas\":[45,67,54,76,78,45,34,78,54,76],\n",
    "                   \"ML\":    [90,45,67,65,78,45,67,87,89,34]\n",
    "})"
   ]
  },
  {
   "cell_type": "code",
   "execution_count": 23,
   "id": "9c0befb0-9aa2-4e36-b028-05b3566c0403",
   "metadata": {},
   "outputs": [],
   "source": [
    "new_data.set_index('Roll',inplace=True)"
   ]
  },
  {
   "cell_type": "code",
   "execution_count": 24,
   "id": "e1107c16-4dc5-4693-8cec-185e87d99118",
   "metadata": {},
   "outputs": [
    {
     "data": {
      "text/html": [
       "<div>\n",
       "<style scoped>\n",
       "    .dataframe tbody tr th:only-of-type {\n",
       "        vertical-align: middle;\n",
       "    }\n",
       "\n",
       "    .dataframe tbody tr th {\n",
       "        vertical-align: top;\n",
       "    }\n",
       "\n",
       "    .dataframe thead th {\n",
       "        text-align: right;\n",
       "    }\n",
       "</style>\n",
       "<table border=\"1\" class=\"dataframe\">\n",
       "  <thead>\n",
       "    <tr style=\"text-align: right;\">\n",
       "      <th></th>\n",
       "      <th>name</th>\n",
       "      <th>Python</th>\n",
       "      <th>Pandas</th>\n",
       "      <th>ML</th>\n",
       "    </tr>\n",
       "    <tr>\n",
       "      <th>Roll</th>\n",
       "      <th></th>\n",
       "      <th></th>\n",
       "      <th></th>\n",
       "      <th></th>\n",
       "    </tr>\n",
       "  </thead>\n",
       "  <tbody>\n",
       "    <tr>\n",
       "      <th>1</th>\n",
       "      <td>Asad</td>\n",
       "      <td>90</td>\n",
       "      <td>45</td>\n",
       "      <td>90</td>\n",
       "    </tr>\n",
       "    <tr>\n",
       "      <th>2</th>\n",
       "      <td>Raza</td>\n",
       "      <td>67</td>\n",
       "      <td>67</td>\n",
       "      <td>45</td>\n",
       "    </tr>\n",
       "    <tr>\n",
       "      <th>3</th>\n",
       "      <td>Ali</td>\n",
       "      <td>65</td>\n",
       "      <td>54</td>\n",
       "      <td>67</td>\n",
       "    </tr>\n",
       "    <tr>\n",
       "      <th>4</th>\n",
       "      <td>Ahmed</td>\n",
       "      <td>89</td>\n",
       "      <td>76</td>\n",
       "      <td>65</td>\n",
       "    </tr>\n",
       "    <tr>\n",
       "      <th>5</th>\n",
       "      <td>Rahim</td>\n",
       "      <td>90</td>\n",
       "      <td>78</td>\n",
       "      <td>78</td>\n",
       "    </tr>\n",
       "    <tr>\n",
       "      <th>6</th>\n",
       "      <td>Qasim</td>\n",
       "      <td>87</td>\n",
       "      <td>45</td>\n",
       "      <td>45</td>\n",
       "    </tr>\n",
       "    <tr>\n",
       "      <th>7</th>\n",
       "      <td>Nasir</td>\n",
       "      <td>86</td>\n",
       "      <td>34</td>\n",
       "      <td>67</td>\n",
       "    </tr>\n",
       "    <tr>\n",
       "      <th>8</th>\n",
       "      <td>Imran</td>\n",
       "      <td>65</td>\n",
       "      <td>78</td>\n",
       "      <td>87</td>\n",
       "    </tr>\n",
       "    <tr>\n",
       "      <th>9</th>\n",
       "      <td>Faiz</td>\n",
       "      <td>89</td>\n",
       "      <td>54</td>\n",
       "      <td>89</td>\n",
       "    </tr>\n",
       "    <tr>\n",
       "      <th>10</th>\n",
       "      <td>Salah</td>\n",
       "      <td>45</td>\n",
       "      <td>76</td>\n",
       "      <td>34</td>\n",
       "    </tr>\n",
       "  </tbody>\n",
       "</table>\n",
       "</div>"
      ],
      "text/plain": [
       "       name  Python  Pandas  ML\n",
       "Roll                           \n",
       "1      Asad      90      45  90\n",
       "2      Raza      67      67  45\n",
       "3       Ali      65      54  67\n",
       "4     Ahmed      89      76  65\n",
       "5     Rahim      90      78  78\n",
       "6     Qasim      87      45  45\n",
       "7     Nasir      86      34  67\n",
       "8     Imran      65      78  87\n",
       "9      Faiz      89      54  89\n",
       "10    Salah      45      76  34"
      ]
     },
     "execution_count": 24,
     "metadata": {},
     "output_type": "execute_result"
    }
   ],
   "source": [
    "new_data"
   ]
  },
  {
   "cell_type": "code",
   "execution_count": 25,
   "id": "331e1fc2-f192-4864-b321-ae92645fc597",
   "metadata": {},
   "outputs": [
    {
     "data": {
      "text/html": [
       "<div>\n",
       "<style scoped>\n",
       "    .dataframe tbody tr th:only-of-type {\n",
       "        vertical-align: middle;\n",
       "    }\n",
       "\n",
       "    .dataframe tbody tr th {\n",
       "        vertical-align: top;\n",
       "    }\n",
       "\n",
       "    .dataframe thead th {\n",
       "        text-align: right;\n",
       "    }\n",
       "</style>\n",
       "<table border=\"1\" class=\"dataframe\">\n",
       "  <thead>\n",
       "    <tr style=\"text-align: right;\">\n",
       "      <th></th>\n",
       "      <th>Emp_ID</th>\n",
       "      <th>Designation</th>\n",
       "      <th>Department</th>\n",
       "      <th>Age</th>\n",
       "      <th>Salary</th>\n",
       "    </tr>\n",
       "    <tr>\n",
       "      <th>Serial</th>\n",
       "      <th></th>\n",
       "      <th></th>\n",
       "      <th></th>\n",
       "      <th></th>\n",
       "      <th></th>\n",
       "    </tr>\n",
       "  </thead>\n",
       "  <tbody>\n",
       "    <tr>\n",
       "      <th>1</th>\n",
       "      <td>1101</td>\n",
       "      <td>Manager</td>\n",
       "      <td>Accounts</td>\n",
       "      <td>50.0</td>\n",
       "      <td>200000.0</td>\n",
       "    </tr>\n",
       "    <tr>\n",
       "      <th>2</th>\n",
       "      <td>1107</td>\n",
       "      <td>Officer</td>\n",
       "      <td>IT</td>\n",
       "      <td>30.0</td>\n",
       "      <td>80000.0</td>\n",
       "    </tr>\n",
       "    <tr>\n",
       "      <th>3</th>\n",
       "      <td>1203</td>\n",
       "      <td>Officer</td>\n",
       "      <td>HR</td>\n",
       "      <td>28.0</td>\n",
       "      <td>NaN</td>\n",
       "    </tr>\n",
       "    <tr>\n",
       "      <th>4</th>\n",
       "      <td>1005</td>\n",
       "      <td>Manager</td>\n",
       "      <td>HR</td>\n",
       "      <td>45.0</td>\n",
       "      <td>120000.0</td>\n",
       "    </tr>\n",
       "    <tr>\n",
       "      <th>5</th>\n",
       "      <td>2123</td>\n",
       "      <td>Office Boy</td>\n",
       "      <td>Accounts</td>\n",
       "      <td>27.0</td>\n",
       "      <td>45000.0</td>\n",
       "    </tr>\n",
       "    <tr>\n",
       "      <th>6</th>\n",
       "      <td>2451</td>\n",
       "      <td>Accountant</td>\n",
       "      <td>NaN</td>\n",
       "      <td>34.0</td>\n",
       "      <td>100000.0</td>\n",
       "    </tr>\n",
       "    <tr>\n",
       "      <th>7</th>\n",
       "      <td>1111</td>\n",
       "      <td>Accountant</td>\n",
       "      <td>Accounts</td>\n",
       "      <td>NaN</td>\n",
       "      <td>110000.0</td>\n",
       "    </tr>\n",
       "    <tr>\n",
       "      <th>8</th>\n",
       "      <td>1001</td>\n",
       "      <td>Officer</td>\n",
       "      <td>IT</td>\n",
       "      <td>25.0</td>\n",
       "      <td>75000.0</td>\n",
       "    </tr>\n",
       "    <tr>\n",
       "      <th>9</th>\n",
       "      <td>1234</td>\n",
       "      <td>Manager</td>\n",
       "      <td>IT</td>\n",
       "      <td>23.0</td>\n",
       "      <td>NaN</td>\n",
       "    </tr>\n",
       "    <tr>\n",
       "      <th>10</th>\n",
       "      <td>2156</td>\n",
       "      <td>Engineer</td>\n",
       "      <td>Production</td>\n",
       "      <td>45.0</td>\n",
       "      <td>89000.0</td>\n",
       "    </tr>\n",
       "    <tr>\n",
       "      <th>11</th>\n",
       "      <td>6543</td>\n",
       "      <td>Officer</td>\n",
       "      <td>Production</td>\n",
       "      <td>29.0</td>\n",
       "      <td>100000.0</td>\n",
       "    </tr>\n",
       "    <tr>\n",
       "      <th>12</th>\n",
       "      <td>3214</td>\n",
       "      <td>Accountant</td>\n",
       "      <td>Account</td>\n",
       "      <td>49.0</td>\n",
       "      <td>123000.0</td>\n",
       "    </tr>\n",
       "    <tr>\n",
       "      <th>13</th>\n",
       "      <td>2156</td>\n",
       "      <td>Engineer</td>\n",
       "      <td>Production</td>\n",
       "      <td>45.0</td>\n",
       "      <td>89000.0</td>\n",
       "    </tr>\n",
       "    <tr>\n",
       "      <th>14</th>\n",
       "      <td>1098</td>\n",
       "      <td>Officer</td>\n",
       "      <td>IT</td>\n",
       "      <td>25.0</td>\n",
       "      <td>100000.0</td>\n",
       "    </tr>\n",
       "    <tr>\n",
       "      <th>15</th>\n",
       "      <td>2912</td>\n",
       "      <td>Officer</td>\n",
       "      <td>IT</td>\n",
       "      <td>31.0</td>\n",
       "      <td>90000.0</td>\n",
       "    </tr>\n",
       "    <tr>\n",
       "      <th>16</th>\n",
       "      <td>1222</td>\n",
       "      <td>Officer</td>\n",
       "      <td>NaN</td>\n",
       "      <td>25.0</td>\n",
       "      <td>NaN</td>\n",
       "    </tr>\n",
       "    <tr>\n",
       "      <th>17</th>\n",
       "      <td>2156</td>\n",
       "      <td>Engineer</td>\n",
       "      <td>Production</td>\n",
       "      <td>45.0</td>\n",
       "      <td>89000.0</td>\n",
       "    </tr>\n",
       "    <tr>\n",
       "      <th>18</th>\n",
       "      <td>2123</td>\n",
       "      <td>Office Boy</td>\n",
       "      <td>Accounts</td>\n",
       "      <td>27.0</td>\n",
       "      <td>45000.0</td>\n",
       "    </tr>\n",
       "  </tbody>\n",
       "</table>\n",
       "</div>"
      ],
      "text/plain": [
       "        Emp_ID Designation  Department   Age    Salary\n",
       "Serial                                                \n",
       "1         1101     Manager    Accounts  50.0  200000.0\n",
       "2         1107     Officer          IT  30.0   80000.0\n",
       "3         1203     Officer          HR  28.0       NaN\n",
       "4         1005     Manager          HR  45.0  120000.0\n",
       "5         2123  Office Boy    Accounts  27.0   45000.0\n",
       "6         2451  Accountant         NaN  34.0  100000.0\n",
       "7         1111  Accountant    Accounts   NaN  110000.0\n",
       "8         1001     Officer          IT  25.0   75000.0\n",
       "9         1234     Manager          IT  23.0       NaN\n",
       "10        2156    Engineer  Production  45.0   89000.0\n",
       "11        6543     Officer  Production  29.0  100000.0\n",
       "12        3214  Accountant     Account  49.0  123000.0\n",
       "13        2156    Engineer  Production  45.0   89000.0\n",
       "14        1098     Officer          IT  25.0  100000.0\n",
       "15        2912     Officer          IT  31.0   90000.0\n",
       "16        1222     Officer         NaN  25.0       NaN\n",
       "17        2156    Engineer  Production  45.0   89000.0\n",
       "18        2123  Office Boy    Accounts  27.0   45000.0"
      ]
     },
     "execution_count": 25,
     "metadata": {},
     "output_type": "execute_result"
    }
   ],
   "source": [
    "data"
   ]
  },
  {
   "cell_type": "code",
   "execution_count": 33,
   "id": "161d3c66-d1f1-4bc0-8f2c-dcac955658fa",
   "metadata": {},
   "outputs": [
    {
     "data": {
      "text/plain": [
       "Designation\n",
       "Officer       7\n",
       "Manager       3\n",
       "Accountant    3\n",
       "Engineer      3\n",
       "Office Boy    2\n",
       "Name: count, dtype: int64"
      ]
     },
     "execution_count": 33,
     "metadata": {},
     "output_type": "execute_result"
    }
   ],
   "source": [
    "data['Designation'].value_counts()"
   ]
  },
  {
   "cell_type": "code",
   "execution_count": 30,
   "id": "0edd2d1a-b03d-410f-976c-39c612bf87ce",
   "metadata": {},
   "outputs": [
    {
     "data": {
      "text/plain": [
       "<Axes: ylabel='Designation'>"
      ]
     },
     "execution_count": 30,
     "metadata": {},
     "output_type": "execute_result"
    },
    {
     "data": {
      "image/png": "[encoded data removed]",
      "text/plain": [
       "<Figure size 640x480 with 1 Axes>"
      ]
     },
     "metadata": {},
     "output_type": "display_data"
    }
   ],
   "source": [
    "data['Designation'].value_counts().plot(kind=\"barh\")"
   ]
  },
  {
   "cell_type": "code",
   "execution_count": 29,
   "id": "18418b7b-dc7a-4773-b1ea-7229a56f3a08",
   "metadata": {},
   "outputs": [
    {
     "data": {
      "text/plain": [
       "<Axes: xlabel='Department'>"
      ]
     },
     "execution_count": 29,
     "metadata": {},
     "output_type": "execute_result"
    },
    {
     "data": {
      "image/png": "[encoded data removed]",
      "text/plain": [
       "<Figure size 640x480 with 1 Axes>"
      ]
     },
     "metadata": {},
     "output_type": "display_data"
    }
   ],
   "source": [
    "data['Department'].value_counts().plot(kind=\"bar\")"
   ]
  },
  {
   "cell_type": "code",
   "execution_count": 31,
   "id": "848c8aa8-182e-45d7-ba73-257ad5859675",
   "metadata": {},
   "outputs": [],
   "source": [
    "import matplotlib.pyplot as plt"
   ]
  },
  {
   "cell_type": "code",
   "execution_count": 38,
   "id": "bda9a105-b6ad-4d1b-8341-b191756329b1",
   "metadata": {},
   "outputs": [],
   "source": [
    "x = data['Designation'].value_counts().index\n",
    "y = data['Designation'].value_counts().values"
   ]
  },
  {
   "cell_type": "code",
   "execution_count": 39,
   "id": "a8ac7cc4-d36f-49fd-b363-eea5925621b5",
   "metadata": {},
   "outputs": [
    {
     "data": {
      "text/plain": [
       "<BarContainer object of 5 artists>"
      ]
     },
     "execution_count": 39,
     "metadata": {},
     "output_type": "execute_result"
    },
    {
     "data": {
      "image/png": "[encoded data removed]",
      "text/plain": [
       "<Figure size 640x480 with 1 Axes>"
      ]
     },
     "metadata": {},
     "output_type": "display_data"
    }
   ],
   "source": [
    "plt.bar(height=y, x=x)"
   ]
  },
  {
   "cell_type": "code",
   "execution_count": 40,
   "id": "f05cdfb8-4cd9-4978-ae04-8b3fbc080685",
   "metadata": {},
   "outputs": [],
   "source": [
    "import seaborn as sns"
   ]
  },
  {
   "cell_type": "code",
   "execution_count": 43,
   "id": "9b1c07e4-3d81-40e0-8064-3a9a8166412d",
   "metadata": {},
   "outputs": [
    {
     "data": {
      "text/plain": [
       "<Axes: xlabel='Serial', ylabel='Department'>"
      ]
     },
     "execution_count": 43,
     "metadata": {},
     "output_type": "execute_result"
    },
    {
     "data": {
      "image/png": "[encoded data removed]",
      "text/plain": [
       "<Figure size 640x480 with 1 Axes>"
      ]
     },
     "metadata": {},
     "output_type": "display_data"
    }
   ],
   "source": [
    "sns.barplot(data.Department)"
   ]
  },
  {
   "cell_type": "code",
   "execution_count": 44,
   "id": "23e52b3d-1636-40e1-9cd9-328d6cb5456e",
   "metadata": {},
   "outputs": [
    {
     "data": {
      "text/plain": [
       "array(['Accounts', 'IT', 'HR', nan, 'Production', 'Account'], dtype=object)"
      ]
     },
     "execution_count": 44,
     "metadata": {},
     "output_type": "execute_result"
    }
   ],
   "source": [
    "data.Department.unique()"
   ]
  },
  {
   "cell_type": "code",
   "execution_count": 47,
   "id": "42999890-437f-477e-a633-c91673572637",
   "metadata": {},
   "outputs": [],
   "source": [
    "data['Department'].replace(\"Account\", \"Accounts\", inplace=True)"
   ]
  },
  {
   "cell_type": "code",
   "execution_count": 48,
   "id": "7710fa38-5d62-46d7-90a1-626832741057",
   "metadata": {},
   "outputs": [
    {
     "data": {
      "text/plain": [
       "array(['Accounts', 'IT', 'HR', nan, 'Production'], dtype=object)"
      ]
     },
     "execution_count": 48,
     "metadata": {},
     "output_type": "execute_result"
    }
   ],
   "source": [
    "data.Department.unique()"
   ]
  },
  {
   "cell_type": "code",
   "execution_count": 50,
   "id": "2797bfaa-de06-4a93-85cb-f63e7405c9ba",
   "metadata": {},
   "outputs": [
    {
     "data": {
      "text/plain": [
       "200000.0"
      ]
     },
     "execution_count": 50,
     "metadata": {},
     "output_type": "execute_result"
    }
   ],
   "source": [
    "data.Salary.max()"
   ]
  },
  {
   "cell_type": "code",
   "execution_count": 53,
   "id": "c436609a-ec99-4fe5-aa88-112ad4790fcb",
   "metadata": {},
   "outputs": [
    {
     "data": {
      "text/html": [
       "<div>\n",
       "<style scoped>\n",
       "    .dataframe tbody tr th:only-of-type {\n",
       "        vertical-align: middle;\n",
       "    }\n",
       "\n",
       "    .dataframe tbody tr th {\n",
       "        vertical-align: top;\n",
       "    }\n",
       "\n",
       "    .dataframe thead th {\n",
       "        text-align: right;\n",
       "    }\n",
       "</style>\n",
       "<table border=\"1\" class=\"dataframe\">\n",
       "  <thead>\n",
       "    <tr style=\"text-align: right;\">\n",
       "      <th></th>\n",
       "      <th>Designation</th>\n",
       "      <th>Department</th>\n",
       "    </tr>\n",
       "    <tr>\n",
       "      <th>Serial</th>\n",
       "      <th></th>\n",
       "      <th></th>\n",
       "    </tr>\n",
       "  </thead>\n",
       "  <tbody>\n",
       "    <tr>\n",
       "      <th>1</th>\n",
       "      <td>Manager</td>\n",
       "      <td>Accounts</td>\n",
       "    </tr>\n",
       "  </tbody>\n",
       "</table>\n",
       "</div>"
      ],
      "text/plain": [
       "       Designation Department\n",
       "Serial                       \n",
       "1          Manager   Accounts"
      ]
     },
     "execution_count": 53,
     "metadata": {},
     "output_type": "execute_result"
    }
   ],
   "source": [
    "data[data.Salary==200000][['Designation','Department']]"
   ]
  },
  {
   "cell_type": "code",
   "execution_count": 55,
   "id": "352a59ba-3256-4579-8c76-e379baac38d0",
   "metadata": {},
   "outputs": [
    {
     "data": {
      "text/html": [
       "<div>\n",
       "<style scoped>\n",
       "    .dataframe tbody tr th:only-of-type {\n",
       "        vertical-align: middle;\n",
       "    }\n",
       "\n",
       "    .dataframe tbody tr th {\n",
       "        vertical-align: top;\n",
       "    }\n",
       "\n",
       "    .dataframe thead th {\n",
       "        text-align: right;\n",
       "    }\n",
       "</style>\n",
       "<table border=\"1\" class=\"dataframe\">\n",
       "  <thead>\n",
       "    <tr style=\"text-align: right;\">\n",
       "      <th></th>\n",
       "      <th>Emp_ID</th>\n",
       "      <th>Designation</th>\n",
       "      <th>Department</th>\n",
       "      <th>Age</th>\n",
       "      <th>Salary</th>\n",
       "    </tr>\n",
       "    <tr>\n",
       "      <th>Serial</th>\n",
       "      <th></th>\n",
       "      <th></th>\n",
       "      <th></th>\n",
       "      <th></th>\n",
       "      <th></th>\n",
       "    </tr>\n",
       "  </thead>\n",
       "  <tbody>\n",
       "    <tr>\n",
       "      <th>1</th>\n",
       "      <td>1101</td>\n",
       "      <td>Manager</td>\n",
       "      <td>Accounts</td>\n",
       "      <td>50.0</td>\n",
       "      <td>200000.0</td>\n",
       "    </tr>\n",
       "    <tr>\n",
       "      <th>7</th>\n",
       "      <td>1111</td>\n",
       "      <td>Accountant</td>\n",
       "      <td>Accounts</td>\n",
       "      <td>NaN</td>\n",
       "      <td>110000.0</td>\n",
       "    </tr>\n",
       "    <tr>\n",
       "      <th>12</th>\n",
       "      <td>3214</td>\n",
       "      <td>Accountant</td>\n",
       "      <td>Accounts</td>\n",
       "      <td>49.0</td>\n",
       "      <td>123000.0</td>\n",
       "    </tr>\n",
       "  </tbody>\n",
       "</table>\n",
       "</div>"
      ],
      "text/plain": [
       "        Emp_ID Designation Department   Age    Salary\n",
       "Serial                                               \n",
       "1         1101     Manager   Accounts  50.0  200000.0\n",
       "7         1111  Accountant   Accounts   NaN  110000.0\n",
       "12        3214  Accountant   Accounts  49.0  123000.0"
      ]
     },
     "execution_count": 55,
     "metadata": {},
     "output_type": "execute_result"
    }
   ],
   "source": [
    "data[(data.Department==\"Accounts\")   & (data.Salary>=100000)]"
   ]
  },
  {
   "cell_type": "code",
   "execution_count": 56,
   "id": "fb942cf1-20d5-4907-ae27-273af00a76ce",
   "metadata": {},
   "outputs": [
    {
     "data": {
      "text/html": [
       "<div>\n",
       "<style scoped>\n",
       "    .dataframe tbody tr th:only-of-type {\n",
       "        vertical-align: middle;\n",
       "    }\n",
       "\n",
       "    .dataframe tbody tr th {\n",
       "        vertical-align: top;\n",
       "    }\n",
       "\n",
       "    .dataframe thead th {\n",
       "        text-align: right;\n",
       "    }\n",
       "</style>\n",
       "<table border=\"1\" class=\"dataframe\">\n",
       "  <thead>\n",
       "    <tr style=\"text-align: right;\">\n",
       "      <th></th>\n",
       "      <th>Emp_ID</th>\n",
       "      <th>Designation</th>\n",
       "      <th>Department</th>\n",
       "      <th>Age</th>\n",
       "      <th>Salary</th>\n",
       "    </tr>\n",
       "    <tr>\n",
       "      <th>Serial</th>\n",
       "      <th></th>\n",
       "      <th></th>\n",
       "      <th></th>\n",
       "      <th></th>\n",
       "      <th></th>\n",
       "    </tr>\n",
       "  </thead>\n",
       "  <tbody>\n",
       "    <tr>\n",
       "      <th>5</th>\n",
       "      <td>2123</td>\n",
       "      <td>Office Boy</td>\n",
       "      <td>Accounts</td>\n",
       "      <td>27.0</td>\n",
       "      <td>45000.0</td>\n",
       "    </tr>\n",
       "    <tr>\n",
       "      <th>18</th>\n",
       "      <td>2123</td>\n",
       "      <td>Office Boy</td>\n",
       "      <td>Accounts</td>\n",
       "      <td>27.0</td>\n",
       "      <td>45000.0</td>\n",
       "    </tr>\n",
       "  </tbody>\n",
       "</table>\n",
       "</div>"
      ],
      "text/plain": [
       "        Emp_ID Designation Department   Age   Salary\n",
       "Serial                                              \n",
       "5         2123  Office Boy   Accounts  27.0  45000.0\n",
       "18        2123  Office Boy   Accounts  27.0  45000.0"
      ]
     },
     "execution_count": 56,
     "metadata": {},
     "output_type": "execute_result"
    }
   ],
   "source": [
    "data[(data.Department==\"Accounts\")   & (data.Salary<=100000)]"
   ]
  },
  {
   "cell_type": "code",
   "execution_count": null,
   "id": "29a8ce48-ac18-4124-939b-eb59b658ee25",
   "metadata": {},
   "outputs": [],
   "source": []
  }
 ],
 "metadata": {
  "kernelspec": {
   "display_name": "Python 3 (ipykernel)",
   "language": "python",
   "name": "python3"
  },
  "language_info": {
   "codemirror_mode": {
    "name": "ipython",
    "version": 3
   },
   "file_extension": ".py",
   "mimetype": "text/x-python",
   "name": "python",
   "nbconvert_exporter": "python",
   "pygments_lexer": "ipython3",
   "version": "3.12.7"
  }
 },
 "nbformat": 4,
 "nbformat_minor": 5
}
