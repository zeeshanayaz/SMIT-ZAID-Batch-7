{
 "cells": [
  {
   "cell_type": "markdown",
   "id": "3d5d8fa6-2313-46fe-aa00-8933ba93ae55",
   "metadata": {},
   "source": [
    "# Whats is Numpy? \n",
    "        - Numerical Python: maths stats, sciences , physics\n",
    "        - Its an array. Not similar to python list. \n",
    "        - Array holds uniform data type."
   ]
  },
  {
   "cell_type": "code",
   "execution_count": 3,
   "id": "d48eeaf1-5faf-41f4-9c3b-be7647d33369",
   "metadata": {},
   "outputs": [],
   "source": [
    "def squares(values):\n",
    "    result = []\n",
    "    for v in values:\n",
    "        result.append(v * v)\n",
    "    return result"
   ]
  },
  {
   "cell_type": "code",
   "execution_count": 5,
   "id": "1aeda772-cbac-4bef-a7d1-6791523c6c3b",
   "metadata": {},
   "outputs": [],
   "source": [
    "to_square = range(100000)"
   ]
  },
  {
   "cell_type": "code",
   "execution_count": 6,
   "id": "3183ecd2-f522-4f8c-b9a0-aaeffa6536e1",
   "metadata": {},
   "outputs": [
    {
     "name": "stdout",
     "output_type": "stream",
     "text": [
      "21.3 ms ± 319 μs per loop (mean ± std. dev. of 7 runs, 100 loops each)\n"
     ]
    }
   ],
   "source": [
    "%timeit squares(to_square)"
   ]
  },
  {
   "cell_type": "code",
   "execution_count": 10,
   "id": "bf8aa731-7bcb-4083-98b7-1aea663038e7",
   "metadata": {},
   "outputs": [],
   "source": [
    "import numpy as np"
   ]
  },
  {
   "cell_type": "code",
   "execution_count": 8,
   "id": "9db3f718-c7ed-4931-8d96-4582aba484ee",
   "metadata": {},
   "outputs": [
    {
     "name": "stdout",
     "output_type": "stream",
     "text": [
      "<class 'list'>\n"
     ]
    }
   ],
   "source": [
    "lst = [1,2,3,4,5,6,7,8,9,10]\n",
    "print(type(lst))"
   ]
  },
  {
   "cell_type": "code",
   "execution_count": 11,
   "id": "511d9b36-4526-43f5-8e8c-2f80475dfb96",
   "metadata": {},
   "outputs": [
    {
     "name": "stdout",
     "output_type": "stream",
     "text": [
      "<class 'numpy.ndarray'>\n"
     ]
    }
   ],
   "source": [
    "arr = np.array(lst) \n",
    "print(type(arr))"
   ]
  },
  {
   "cell_type": "code",
   "execution_count": 12,
   "id": "e2ce4eba-f2e2-45a4-82e4-ca7c7df19ff6",
   "metadata": {},
   "outputs": [
    {
     "data": {
      "text/plain": [
       "array([ 1,  2,  3,  4,  5,  6,  7,  8,  9, 10])"
      ]
     },
     "execution_count": 12,
     "metadata": {},
     "output_type": "execute_result"
    }
   ],
   "source": [
    "arr"
   ]
  },
  {
   "cell_type": "code",
   "execution_count": 13,
   "id": "b4706fb6-1ca1-4132-b912-3a75462b7e01",
   "metadata": {},
   "outputs": [
    {
     "data": {
      "text/plain": [
       "array([  1,   4,   9,  16,  25,  36,  49,  64,  81, 100])"
      ]
     },
     "execution_count": 13,
     "metadata": {},
     "output_type": "execute_result"
    }
   ],
   "source": [
    "arr**2"
   ]
  },
  {
   "cell_type": "code",
   "execution_count": 14,
   "id": "90ab84b9-940e-4fe1-ac8a-41e7eea49804",
   "metadata": {},
   "outputs": [
    {
     "data": {
      "text/plain": [
       "array([ 10,  20,  30,  40,  50,  60,  70,  80,  90, 100])"
      ]
     },
     "execution_count": 14,
     "metadata": {},
     "output_type": "execute_result"
    }
   ],
   "source": [
    "arr*10"
   ]
  },
  {
   "cell_type": "code",
   "execution_count": 16,
   "id": "79981818-ad5c-48b9-9e70-3048e37a92c4",
   "metadata": {},
   "outputs": [
    {
     "name": "stdout",
     "output_type": "stream",
     "text": [
      "166 μs ± 20 μs per loop (mean ± std. dev. of 7 runs, 10,000 loops each)\n"
     ]
    }
   ],
   "source": [
    "arr = np.arange(100000)\n",
    "%timeit arr**2"
   ]
  },
  {
   "cell_type": "markdown",
   "id": "375f9e87-116f-414d-a342-7ba641211a8e",
   "metadata": {},
   "source": [
    "# Creating Numpy Arrays\n",
    "    - numpy.array()\n",
    "    - numpy.arange()\n",
    "    - type cast python list"
   ]
  },
  {
   "cell_type": "markdown",
   "id": "c3ab1150-758c-44e1-a614-075708bee836",
   "metadata": {},
   "source": [
    "# 1D array"
   ]
  },
  {
   "cell_type": "code",
   "execution_count": null,
   "id": "cc41ecef-3b5d-4773-8dd8-e0bdb156c130",
   "metadata": {},
   "outputs": [],
   "source": [
    "arr = np.array(lst)\n",
    "arr"
   ]
  },
  {
   "cell_type": "code",
   "execution_count": 19,
   "id": "8e7e426b-56ea-4b72-aa3e-29444a9aeba4",
   "metadata": {},
   "outputs": [
    {
     "data": {
      "text/plain": [
       "array([0, 1, 2, 3, 4, 5, 6, 7, 8, 9])"
      ]
     },
     "execution_count": 19,
     "metadata": {},
     "output_type": "execute_result"
    }
   ],
   "source": [
    "arr = np.arange(10)\n",
    "arr"
   ]
  },
  {
   "cell_type": "code",
   "execution_count": 21,
   "id": "c3ac8788-6240-4868-85dc-13eb6b444094",
   "metadata": {},
   "outputs": [
    {
     "data": {
      "text/plain": [
       "array([1, 2, 3, 4])"
      ]
     },
     "execution_count": 21,
     "metadata": {},
     "output_type": "execute_result"
    }
   ],
   "source": [
    "arr = np.array((1,2,3,4))\n",
    "arr"
   ]
  },
  {
   "cell_type": "code",
   "execution_count": 22,
   "id": "8e76a7d4-1464-4040-8780-8dc81308f837",
   "metadata": {},
   "outputs": [
    {
     "data": {
      "text/plain": [
       "4"
      ]
     },
     "execution_count": 22,
     "metadata": {},
     "output_type": "execute_result"
    }
   ],
   "source": [
    "arr.size"
   ]
  },
  {
   "cell_type": "code",
   "execution_count": 23,
   "id": "07a0b09e-ed54-4415-abe6-17d8679e9571",
   "metadata": {},
   "outputs": [
    {
     "data": {
      "text/plain": [
       "(4,)"
      ]
     },
     "execution_count": 23,
     "metadata": {},
     "output_type": "execute_result"
    }
   ],
   "source": [
    "arr.shape"
   ]
  },
  {
   "cell_type": "code",
   "execution_count": 24,
   "id": "d9f2c37e-ee55-4764-bf26-2c821c7806b0",
   "metadata": {},
   "outputs": [
    {
     "data": {
      "text/plain": [
       "dtype('int32')"
      ]
     },
     "execution_count": 24,
     "metadata": {},
     "output_type": "execute_result"
    }
   ],
   "source": [
    "arr.dtype"
   ]
  },
  {
   "cell_type": "code",
   "execution_count": 27,
   "id": "213e31b9-fb33-424e-9261-2e5c62198469",
   "metadata": {},
   "outputs": [],
   "source": [
    "lst = [1,2,3,4,5,'apple']"
   ]
  },
  {
   "cell_type": "code",
   "execution_count": 28,
   "id": "4ec526a8-e5c5-433c-b9ec-47c2229c704e",
   "metadata": {},
   "outputs": [
    {
     "data": {
      "text/plain": [
       "array(['1', '2', '3', '4', '5', 'apple'], dtype='<U11')"
      ]
     },
     "execution_count": 28,
     "metadata": {},
     "output_type": "execute_result"
    }
   ],
   "source": [
    "arr = np.array(lst)\n",
    "arr"
   ]
  },
  {
   "cell_type": "code",
   "execution_count": 29,
   "id": "d318c82d-8dc9-456e-9dae-2dd505088224",
   "metadata": {},
   "outputs": [
    {
     "data": {
      "text/plain": [
       "1"
      ]
     },
     "execution_count": 29,
     "metadata": {},
     "output_type": "execute_result"
    }
   ],
   "source": [
    "arr.ndim"
   ]
  },
  {
   "cell_type": "code",
   "execution_count": 34,
   "id": "6f1aa5ee-ffc7-480c-b14c-a7d1585a3b63",
   "metadata": {},
   "outputs": [],
   "source": [
    "lst = [1,2,3,4,5,6,7,8,9,10]\n",
    "arr = np.array(lst)"
   ]
  },
  {
   "cell_type": "code",
   "execution_count": 35,
   "id": "68a0418b-3860-4bdf-9cd3-7c2f6049301d",
   "metadata": {},
   "outputs": [
    {
     "data": {
      "text/plain": [
       "array([11, 12, 13, 14, 15, 16, 17, 18, 19, 20])"
      ]
     },
     "execution_count": 35,
     "metadata": {},
     "output_type": "execute_result"
    }
   ],
   "source": [
    "arr+10"
   ]
  },
  {
   "cell_type": "code",
   "execution_count": 36,
   "id": "410f4440-4402-4e44-969a-52fd279d1330",
   "metadata": {},
   "outputs": [
    {
     "data": {
      "text/plain": [
       "array([20, 21, 22, 23, 24, 25, 26, 27, 28, 29])"
      ]
     },
     "execution_count": 36,
     "metadata": {},
     "output_type": "execute_result"
    }
   ],
   "source": [
    "arr1 = np.arange(20,30)\n",
    "arr1"
   ]
  },
  {
   "cell_type": "code",
   "execution_count": 37,
   "id": "e43108ec-536b-499b-9c11-95688cf2bbef",
   "metadata": {},
   "outputs": [
    {
     "data": {
      "text/plain": [
       "array([21, 23, 25, 27, 29, 31, 33, 35, 37, 39])"
      ]
     },
     "execution_count": 37,
     "metadata": {},
     "output_type": "execute_result"
    }
   ],
   "source": [
    "arr1 + arr"
   ]
  },
  {
   "cell_type": "code",
   "execution_count": 38,
   "id": "12806675-a82e-4c45-a08a-45d486f9a644",
   "metadata": {},
   "outputs": [
    {
     "data": {
      "text/plain": [
       "array([0, 1, 2, 3, 4, 5, 6, 7, 8])"
      ]
     },
     "execution_count": 38,
     "metadata": {},
     "output_type": "execute_result"
    }
   ],
   "source": [
    "arr2 = np.arange(9)\n",
    "arr2"
   ]
  },
  {
   "cell_type": "code",
   "execution_count": 39,
   "id": "78df54ed-4065-4dec-95c8-19925b31b192",
   "metadata": {},
   "outputs": [
    {
     "ename": "ValueError",
     "evalue": "operands could not be broadcast together with shapes (10,) (9,) ",
     "output_type": "error",
     "traceback": [
      "\u001b[1;31m---------------------------------------------------------------------------\u001b[0m",
      "\u001b[1;31mValueError\u001b[0m                                Traceback (most recent call last)",
      "Cell \u001b[1;32mIn[39], line 1\u001b[0m\n\u001b[1;32m----> 1\u001b[0m arr1\u001b[38;5;241m+\u001b[39marr2\n",
      "\u001b[1;31mValueError\u001b[0m: operands could not be broadcast together with shapes (10,) (9,) "
     ]
    }
   ],
   "source": [
    "arr1+arr2"
   ]
  },
  {
   "cell_type": "markdown",
   "id": "e38b72f6-c896-4bf3-a8e5-e08c6b699912",
   "metadata": {},
   "source": [
    "# 2-D Array"
   ]
  },
  {
   "cell_type": "code",
   "execution_count": 40,
   "id": "2fd548a1-c5de-4819-a2bb-1aa1d45510b7",
   "metadata": {},
   "outputs": [
    {
     "data": {
      "text/plain": [
       "[[1, 2, 3], [4, 5, 6], [7, 8, 9]]"
      ]
     },
     "execution_count": 40,
     "metadata": {},
     "output_type": "execute_result"
    }
   ],
   "source": [
    "lst  = [[1,2,3],[4,5,6],[7,8,9]]\n",
    "lst"
   ]
  },
  {
   "cell_type": "code",
   "execution_count": 42,
   "id": "90aee4b7-a480-4e03-9c00-eaae2a16d3bd",
   "metadata": {},
   "outputs": [
    {
     "data": {
      "text/plain": [
       "array([[1, 2, 3],\n",
       "       [4, 5, 6],\n",
       "       [7, 8, 9]])"
      ]
     },
     "execution_count": 42,
     "metadata": {},
     "output_type": "execute_result"
    }
   ],
   "source": [
    "arr2d = np.array(lst)\n",
    "arr2d"
   ]
  },
  {
   "cell_type": "code",
   "execution_count": 43,
   "id": "61e0e095-bf51-4b84-9e22-c9078cf78e96",
   "metadata": {},
   "outputs": [
    {
     "data": {
      "text/plain": [
       "9"
      ]
     },
     "execution_count": 43,
     "metadata": {},
     "output_type": "execute_result"
    }
   ],
   "source": [
    "arr2d.size"
   ]
  },
  {
   "cell_type": "code",
   "execution_count": 44,
   "id": "367bf52b-f317-4019-9008-228bf34749c3",
   "metadata": {},
   "outputs": [
    {
     "data": {
      "text/plain": [
       "(3, 3)"
      ]
     },
     "execution_count": 44,
     "metadata": {},
     "output_type": "execute_result"
    }
   ],
   "source": [
    "arr2d.shape"
   ]
  },
  {
   "cell_type": "code",
   "execution_count": 45,
   "id": "06613fd5-85b8-4369-a691-45ce5d3d544e",
   "metadata": {},
   "outputs": [
    {
     "data": {
      "text/plain": [
       "2"
      ]
     },
     "execution_count": 45,
     "metadata": {},
     "output_type": "execute_result"
    }
   ],
   "source": [
    "arr2d.ndim"
   ]
  },
  {
   "cell_type": "code",
   "execution_count": 49,
   "id": "00026355-9b1f-40b6-8788-26f318ca0635",
   "metadata": {},
   "outputs": [
    {
     "data": {
      "text/plain": [
       "array([[0, 1, 2],\n",
       "       [3, 4, 5],\n",
       "       [6, 7, 8]])"
      ]
     },
     "execution_count": 49,
     "metadata": {},
     "output_type": "execute_result"
    }
   ],
   "source": [
    "arr2d2 = np.arange(9).reshape(3,3)\n",
    "arr2d2"
   ]
  },
  {
   "cell_type": "code",
   "execution_count": 56,
   "id": "56f4db33-9b0a-4af1-a93c-3c0e05b6935f",
   "metadata": {},
   "outputs": [
    {
     "data": {
      "text/plain": [
       "array([[ 0,  1],\n",
       "       [ 2,  3],\n",
       "       [ 4,  5],\n",
       "       [ 6,  7],\n",
       "       [ 8,  9],\n",
       "       [10, 11],\n",
       "       [12, 13],\n",
       "       [14, 15],\n",
       "       [16, 17],\n",
       "       [18, 19],\n",
       "       [20, 21],\n",
       "       [22, 23],\n",
       "       [24, 25],\n",
       "       [26, 27],\n",
       "       [28, 29],\n",
       "       [30, 31],\n",
       "       [32, 33],\n",
       "       [34, 35],\n",
       "       [36, 37],\n",
       "       [38, 39],\n",
       "       [40, 41],\n",
       "       [42, 43],\n",
       "       [44, 45],\n",
       "       [46, 47],\n",
       "       [48, 49]])"
      ]
     },
     "execution_count": 56,
     "metadata": {},
     "output_type": "execute_result"
    }
   ],
   "source": [
    "arr2d3 = np.arange(50).reshape(25,2)\n",
    "arr2d3"
   ]
  },
  {
   "cell_type": "code",
   "execution_count": 57,
   "id": "5346a141-2eec-49eb-b165-25f32b8df37b",
   "metadata": {},
   "outputs": [
    {
     "data": {
      "text/plain": [
       "array([[[ 0,  1,  2],\n",
       "        [ 3,  4,  5],\n",
       "        [ 6,  7,  8]],\n",
       "\n",
       "       [[ 9, 10, 11],\n",
       "        [12, 13, 14],\n",
       "        [15, 16, 17]],\n",
       "\n",
       "       [[18, 19, 20],\n",
       "        [21, 22, 23],\n",
       "        [24, 25, 26]]])"
      ]
     },
     "execution_count": 57,
     "metadata": {},
     "output_type": "execute_result"
    }
   ],
   "source": [
    "arr3d = np.arange(27).reshape(3,3,3) # copy/Depth, Rows , Columns\n",
    "arr3d"
   ]
  },
  {
   "cell_type": "code",
   "execution_count": 63,
   "id": "8e47480d-0501-47e2-966f-0a9a75038d32",
   "metadata": {},
   "outputs": [
    {
     "data": {
      "text/plain": [
       "2"
      ]
     },
     "execution_count": 63,
     "metadata": {},
     "output_type": "execute_result"
    }
   ],
   "source": [
    "arr = np.array([[10]])\n",
    "arr.ndim"
   ]
  },
  {
   "cell_type": "code",
   "execution_count": 66,
   "id": "ec264c0c-9b07-47eb-9447-c15ebf63e5b1",
   "metadata": {},
   "outputs": [
    {
     "name": "stdout",
     "output_type": "stream",
     "text": [
      "<class 'PIL.JpegImagePlugin.JpegImageFile'>\n",
      "<class 'numpy.ndarray'>\n",
      "(2003, 3000, 3)\n"
     ]
    },
    {
     "data": {
      "text/plain": [
       "array([[[ 53,  58,  54],\n",
       "        [ 54,  59,  55],\n",
       "        [ 55,  60,  56],\n",
       "        ...,\n",
       "        [227, 232, 235],\n",
       "        [227, 232, 235],\n",
       "        [227, 232, 235]],\n",
       "\n",
       "       [[ 54,  59,  55],\n",
       "        [ 54,  59,  55],\n",
       "        [ 55,  60,  56],\n",
       "        ...,\n",
       "        [227, 232, 235],\n",
       "        [227, 232, 235],\n",
       "        [227, 232, 235]],\n",
       "\n",
       "       [[ 55,  60,  56],\n",
       "        [ 55,  60,  56],\n",
       "        [ 55,  60,  56],\n",
       "        ...,\n",
       "        [227, 232, 235],\n",
       "        [227, 232, 235],\n",
       "        [227, 232, 235]],\n",
       "\n",
       "       ...,\n",
       "\n",
       "       [[187, 183, 172],\n",
       "        [187, 183, 172],\n",
       "        [188, 184, 173],\n",
       "        ...,\n",
       "        [129, 130, 132],\n",
       "        [126, 127, 129],\n",
       "        [125, 126, 128]],\n",
       "\n",
       "       [[187, 183, 172],\n",
       "        [187, 183, 172],\n",
       "        [188, 184, 173],\n",
       "        ...,\n",
       "        [129, 130, 132],\n",
       "        [126, 127, 129],\n",
       "        [125, 126, 128]],\n",
       "\n",
       "       [[187, 183, 172],\n",
       "        [187, 183, 172],\n",
       "        [188, 184, 173],\n",
       "        ...,\n",
       "        [129, 130, 132],\n",
       "        [126, 127, 129],\n",
       "        [125, 126, 128]]], dtype=uint8)"
      ]
     },
     "execution_count": 66,
     "metadata": {},
     "output_type": "execute_result"
    }
   ],
   "source": [
    "# Import the necessary libraries\n",
    "from PIL import Image\n",
    "\n",
    "# load the image and convert into\n",
    "# numpy array\n",
    "image = Image.open('pic.jpg')\n",
    "print(type(image))\n",
    "# asarray() class is used to convert\n",
    "# PIL images into NumPy arrays\n",
    "numpydata = np.asarray(image)\n",
    "\n",
    "# <class 'numpy.ndarray'>\n",
    "print(type(numpydata))\n",
    "\n",
    "# shape\n",
    "print(numpydata.shape)\n",
    "\n",
    "numpydata"
   ]
  },
  {
   "cell_type": "code",
   "execution_count": 67,
   "id": "b8b8a8ad-e5fc-4d4c-8caa-1f27415d873f",
   "metadata": {},
   "outputs": [
    {
     "data": {
      "text/plain": [
       "array([[ 0,  1,  2,  3,  4,  5,  6,  7,  8,  9],\n",
       "       [10, 11, 12, 13, 14, 15, 16, 17, 18, 19],\n",
       "       [20, 21, 22, 23, 24, 25, 26, 27, 28, 29],\n",
       "       [30, 31, 32, 33, 34, 35, 36, 37, 38, 39],\n",
       "       [40, 41, 42, 43, 44, 45, 46, 47, 48, 49],\n",
       "       [50, 51, 52, 53, 54, 55, 56, 57, 58, 59],\n",
       "       [60, 61, 62, 63, 64, 65, 66, 67, 68, 69],\n",
       "       [70, 71, 72, 73, 74, 75, 76, 77, 78, 79],\n",
       "       [80, 81, 82, 83, 84, 85, 86, 87, 88, 89],\n",
       "       [90, 91, 92, 93, 94, 95, 96, 97, 98, 99]])"
      ]
     },
     "execution_count": 67,
     "metadata": {},
     "output_type": "execute_result"
    }
   ],
   "source": [
    "arr = np.arange(100).reshape(10,10)\n",
    "arr"
   ]
  },
  {
   "cell_type": "code",
   "execution_count": 72,
   "id": "d9de8dd0-25c6-46e5-8bae-01d01fea7515",
   "metadata": {},
   "outputs": [
    {
     "data": {
      "text/plain": [
       "array([0, 1, 2, 3, 4, 5, 6, 7, 8, 9])"
      ]
     },
     "execution_count": 72,
     "metadata": {},
     "output_type": "execute_result"
    }
   ],
   "source": [
    "arr[0]"
   ]
  },
  {
   "cell_type": "code",
   "execution_count": 73,
   "id": "d356ddd1-bcea-4eb6-ac0d-9d12727b0226",
   "metadata": {},
   "outputs": [
    {
     "data": {
      "text/plain": [
       "57"
      ]
     },
     "execution_count": 73,
     "metadata": {},
     "output_type": "execute_result"
    }
   ],
   "source": [
    "arr[5,7]"
   ]
  },
  {
   "cell_type": "code",
   "execution_count": 74,
   "id": "511ef00a-c297-43be-b400-9ed393ef75f5",
   "metadata": {},
   "outputs": [
    {
     "data": {
      "text/plain": [
       "array([[57]])"
      ]
     },
     "execution_count": 74,
     "metadata": {},
     "output_type": "execute_result"
    }
   ],
   "source": [
    "arr[5:6,7:8]"
   ]
  },
  {
   "cell_type": "code",
   "execution_count": 75,
   "id": "fec55c06-95af-48b5-a390-bced4c2bc3a5",
   "metadata": {},
   "outputs": [
    {
     "data": {
      "text/plain": [
       "array([90, 91, 92, 93, 94, 95, 96, 97, 98, 99])"
      ]
     },
     "execution_count": 75,
     "metadata": {},
     "output_type": "execute_result"
    }
   ],
   "source": [
    "arr[-1]"
   ]
  },
  {
   "cell_type": "code",
   "execution_count": 78,
   "id": "31955043-d881-4d43-be78-64aaf86080a5",
   "metadata": {},
   "outputs": [
    {
     "data": {
      "text/plain": [
       "array([[ 9],\n",
       "       [19],\n",
       "       [29],\n",
       "       [39],\n",
       "       [49],\n",
       "       [59],\n",
       "       [69],\n",
       "       [79],\n",
       "       [89],\n",
       "       [99]])"
      ]
     },
     "execution_count": 78,
     "metadata": {},
     "output_type": "execute_result"
    }
   ],
   "source": [
    "arr[:, 9:]"
   ]
  },
  {
   "cell_type": "code",
   "execution_count": 80,
   "id": "8dfc15c5-2704-4164-bfdd-cfa0a52f1ae5",
   "metadata": {},
   "outputs": [
    {
     "data": {
      "text/plain": [
       "array([[ 5],\n",
       "       [15],\n",
       "       [25],\n",
       "       [35],\n",
       "       [45],\n",
       "       [55],\n",
       "       [65],\n",
       "       [75],\n",
       "       [85],\n",
       "       [95]])"
      ]
     },
     "execution_count": 80,
     "metadata": {},
     "output_type": "execute_result"
    }
   ],
   "source": [
    "arr[:,5:6]"
   ]
  },
  {
   "cell_type": "code",
   "execution_count": 81,
   "id": "a2b1e194-3c8a-47b8-8f94-3cc62155dee2",
   "metadata": {},
   "outputs": [
    {
     "data": {
      "text/plain": [
       "array([[[ 53,  58,  54],\n",
       "        [ 54,  59,  55],\n",
       "        [ 55,  60,  56],\n",
       "        ...,\n",
       "        [227, 232, 235],\n",
       "        [227, 232, 235],\n",
       "        [227, 232, 235]],\n",
       "\n",
       "       [[ 54,  59,  55],\n",
       "        [ 54,  59,  55],\n",
       "        [ 55,  60,  56],\n",
       "        ...,\n",
       "        [227, 232, 235],\n",
       "        [227, 232, 235],\n",
       "        [227, 232, 235]],\n",
       "\n",
       "       [[ 55,  60,  56],\n",
       "        [ 55,  60,  56],\n",
       "        [ 55,  60,  56],\n",
       "        ...,\n",
       "        [227, 232, 235],\n",
       "        [227, 232, 235],\n",
       "        [227, 232, 235]],\n",
       "\n",
       "       ...,\n",
       "\n",
       "       [[187, 183, 172],\n",
       "        [187, 183, 172],\n",
       "        [188, 184, 173],\n",
       "        ...,\n",
       "        [129, 130, 132],\n",
       "        [126, 127, 129],\n",
       "        [125, 126, 128]],\n",
       "\n",
       "       [[187, 183, 172],\n",
       "        [187, 183, 172],\n",
       "        [188, 184, 173],\n",
       "        ...,\n",
       "        [129, 130, 132],\n",
       "        [126, 127, 129],\n",
       "        [125, 126, 128]],\n",
       "\n",
       "       [[187, 183, 172],\n",
       "        [187, 183, 172],\n",
       "        [188, 184, 173],\n",
       "        ...,\n",
       "        [129, 130, 132],\n",
       "        [126, 127, 129],\n",
       "        [125, 126, 128]]], dtype=uint8)"
      ]
     },
     "execution_count": 81,
     "metadata": {},
     "output_type": "execute_result"
    }
   ],
   "source": [
    "numpydata"
   ]
  },
  {
   "cell_type": "code",
   "execution_count": 82,
   "id": "07ee73e4-1461-448b-ae16-727f126102ad",
   "metadata": {},
   "outputs": [
    {
     "data": {
      "text/plain": [
       "(2003, 3000, 3)"
      ]
     },
     "execution_count": 82,
     "metadata": {},
     "output_type": "execute_result"
    }
   ],
   "source": [
    "numpydata.shape"
   ]
  },
  {
   "cell_type": "code",
   "execution_count": 83,
   "id": "9ce4afc3-bb57-4d84-9ebb-fe7b580a84df",
   "metadata": {},
   "outputs": [
    {
     "data": {
      "text/plain": [
       "array([[[ 54,  58,  59],\n",
       "        [ 54,  58,  59],\n",
       "        [ 54,  58,  59],\n",
       "        ...,\n",
       "        [228, 233, 236],\n",
       "        [228, 233, 236],\n",
       "        [228, 233, 236]],\n",
       "\n",
       "       [[ 54,  58,  59],\n",
       "        [ 54,  58,  59],\n",
       "        [ 54,  58,  59],\n",
       "        ...,\n",
       "        [228, 233, 236],\n",
       "        [228, 233, 236],\n",
       "        [228, 233, 236]],\n",
       "\n",
       "       [[ 54,  58,  59],\n",
       "        [ 54,  58,  59],\n",
       "        [ 54,  58,  59],\n",
       "        ...,\n",
       "        [228, 233, 236],\n",
       "        [228, 233, 236],\n",
       "        [228, 233, 236]],\n",
       "\n",
       "       ...,\n",
       "\n",
       "       [[187, 183, 172],\n",
       "        [190, 186, 175],\n",
       "        [191, 187, 176],\n",
       "        ...,\n",
       "        [129, 130, 132],\n",
       "        [126, 127, 129],\n",
       "        [125, 126, 128]],\n",
       "\n",
       "       [[188, 184, 173],\n",
       "        [191, 187, 176],\n",
       "        [191, 187, 176],\n",
       "        ...,\n",
       "        [129, 130, 132],\n",
       "        [126, 127, 129],\n",
       "        [125, 126, 128]],\n",
       "\n",
       "       [[189, 185, 174],\n",
       "        [191, 187, 176],\n",
       "        [191, 187, 176],\n",
       "        ...,\n",
       "        [129, 130, 132],\n",
       "        [126, 127, 129],\n",
       "        [125, 126, 128]]], dtype=uint8)"
      ]
     },
     "execution_count": 83,
     "metadata": {},
     "output_type": "execute_result"
    }
   ],
   "source": [
    "numpydata[10:, 10:, :]"
   ]
  },
  {
   "cell_type": "code",
   "execution_count": null,
   "id": "804cc378-9baa-4fcc-a4a6-0c8043d96462",
   "metadata": {},
   "outputs": [],
   "source": []
  }
 ],
 "metadata": {
  "kernelspec": {
   "display_name": "Python 3 (ipykernel)",
   "language": "python",
   "name": "python3"
  },
  "language_info": {
   "codemirror_mode": {
    "name": "ipython",
    "version": 3
   },
   "file_extension": ".py",
   "mimetype": "text/x-python",
   "name": "python",
   "nbconvert_exporter": "python",
   "pygments_lexer": "ipython3",
   "version": "3.12.7"
  }
 },
 "nbformat": 4,
 "nbformat_minor": 5
}
