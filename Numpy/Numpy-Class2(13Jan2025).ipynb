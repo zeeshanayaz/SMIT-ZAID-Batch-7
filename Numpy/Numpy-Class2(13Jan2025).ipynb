{
 "cells": [
  {
   "cell_type": "code",
   "execution_count": 1,
   "id": "7640bad5-1260-47c5-9440-9ced8dcda157",
   "metadata": {},
   "outputs": [],
   "source": [
    "import numpy as np"
   ]
  },
  {
   "cell_type": "code",
   "execution_count": 5,
   "id": "536ee04e-a463-4243-8ff5-826b5b3e026a",
   "metadata": {},
   "outputs": [
    {
     "name": "stdout",
     "output_type": "stream",
     "text": [
      "[0.24723308 0.18068597 0.6870654  0.90962518 0.88335   ]\n"
     ]
    }
   ],
   "source": [
    "random_array = np.random.rand(5)\n",
    "print(random_array)"
   ]
  },
  {
   "cell_type": "code",
   "execution_count": 6,
   "id": "9f191183-0b4e-4907-8b21-9c8140befd1b",
   "metadata": {},
   "outputs": [
    {
     "name": "stdout",
     "output_type": "stream",
     "text": [
      "[-0.05345889 -0.36830057  0.26569024  0.24045333 -0.24570766]\n"
     ]
    }
   ],
   "source": [
    "random_array = np.random.randn(5)\n",
    "print(random_array)"
   ]
  },
  {
   "cell_type": "code",
   "execution_count": 7,
   "id": "a3d867b0-f358-446a-9dc6-c30d06fb3359",
   "metadata": {},
   "outputs": [],
   "source": [
    "random_int_array = np.random.randint(10, 50, size=5)"
   ]
  },
  {
   "cell_type": "code",
   "execution_count": 8,
   "id": "2ad28117-b378-4b4e-a247-f38cb64e9880",
   "metadata": {},
   "outputs": [
    {
     "name": "stdout",
     "output_type": "stream",
     "text": [
      "[13 47 28 18 31]\n"
     ]
    }
   ],
   "source": [
    "print(random_int_array)"
   ]
  },
  {
   "cell_type": "code",
   "execution_count": 13,
   "id": "96650966-2571-4a9d-b001-df73b290b2ff",
   "metadata": {},
   "outputs": [
    {
     "data": {
      "text/plain": [
       "array([False,  True, False, False, False])"
      ]
     },
     "execution_count": 13,
     "metadata": {},
     "output_type": "execute_result"
    }
   ],
   "source": [
    "random_int_array >= 40"
   ]
  },
  {
   "cell_type": "markdown",
   "id": "47c88cc2-7e9f-44f1-a428-3217a67c2cc9",
   "metadata": {},
   "source": [
    "## Boolean Selection"
   ]
  },
  {
   "cell_type": "markdown",
   "id": "155d3729-376f-4dc2-af8b-1762270d51a1",
   "metadata": {},
   "source": [
    "## Masking"
   ]
  },
  {
   "cell_type": "code",
   "execution_count": null,
   "id": "099f6287-94f6-449b-966f-a3a4d10b308a",
   "metadata": {},
   "outputs": [],
   "source": []
  }
 ],
 "metadata": {
  "kernelspec": {
   "display_name": "Python 3 (ipykernel)",
   "language": "python",
   "name": "python3"
  },
  "language_info": {
   "codemirror_mode": {
    "name": "ipython",
    "version": 3
   },
   "file_extension": ".py",
   "mimetype": "text/x-python",
   "name": "python",
   "nbconvert_exporter": "python",
   "pygments_lexer": "ipython3",
   "version": "3.12.7"
  }
 },
 "nbformat": 4,
 "nbformat_minor": 5
}
