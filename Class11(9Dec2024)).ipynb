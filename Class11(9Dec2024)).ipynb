{
 "cells": [
  {
   "cell_type": "code",
   "execution_count": 19,
   "id": "13fef90b-4fb9-41c7-b347-20aefe2324a5",
   "metadata": {},
   "outputs": [],
   "source": [
    "import utils\n",
    "%run utils.py"
   ]
  },
  {
   "cell_type": "code",
   "execution_count": 20,
   "id": "735f50e6-f00a-4f45-86d4-bcf40a811472",
   "metadata": {},
   "outputs": [
    {
     "name": "stdout",
     "output_type": "stream",
     "text": [
      "Helle Zeeshan\n"
     ]
    }
   ],
   "source": [
    "utils.greetings(\"Zeeshan\")"
   ]
  },
  {
   "cell_type": "code",
   "execution_count": 21,
   "id": "8a192819-238f-4aa7-8c6f-f1c1b6602c11",
   "metadata": {},
   "outputs": [
    {
     "ename": "AttributeError",
     "evalue": "module 'utils' has no attribute 'email'",
     "output_type": "error",
     "traceback": [
      "\u001b[1;31m---------------------------------------------------------------------------\u001b[0m",
      "\u001b[1;31mAttributeError\u001b[0m                            Traceback (most recent call last)",
      "Cell \u001b[1;32mIn[21], line 1\u001b[0m\n\u001b[1;32m----> 1\u001b[0m utils\u001b[38;5;241m.\u001b[39mgreetings(utils\u001b[38;5;241m.\u001b[39memail)\n",
      "\u001b[1;31mAttributeError\u001b[0m: module 'utils' has no attribute 'email'"
     ]
    }
   ],
   "source": [
    "utils.greetings(utils.email)"
   ]
  },
  {
   "cell_type": "code",
   "execution_count": 22,
   "id": "84b9d45a-677e-4cca-9a21-09fcdd101617",
   "metadata": {},
   "outputs": [
    {
     "ename": "AttributeError",
     "evalue": "module 'utils' has no attribute 'email'",
     "output_type": "error",
     "traceback": [
      "\u001b[1;31m---------------------------------------------------------------------------\u001b[0m",
      "\u001b[1;31mAttributeError\u001b[0m                            Traceback (most recent call last)",
      "Cell \u001b[1;32mIn[22], line 1\u001b[0m\n\u001b[1;32m----> 1\u001b[0m \u001b[38;5;28mprint\u001b[39m(utils\u001b[38;5;241m.\u001b[39memail)\n",
      "\u001b[1;31mAttributeError\u001b[0m: module 'utils' has no attribute 'email'"
     ]
    }
   ],
   "source": [
    "print(utils.email)"
   ]
  },
  {
   "cell_type": "code",
   "execution_count": 24,
   "id": "d8867208-087e-453d-bda2-797bf43959da",
   "metadata": {},
   "outputs": [
    {
     "name": "stdout",
     "output_type": "stream",
     "text": [
      "D:\\Projects\\Learning\\AI & Data Science\\anaconda\\utils.py\n"
     ]
    }
   ],
   "source": [
    "import utils\n",
    "print(utils.__file__)"
   ]
  },
  {
   "cell_type": "code",
   "execution_count": 25,
   "id": "d8479dc7-032d-4835-b0cb-d34b07aabf35",
   "metadata": {},
   "outputs": [],
   "source": [
    "import importlib\n",
    "import utils"
   ]
  },
  {
   "cell_type": "code",
   "execution_count": 26,
   "id": "edca5915-fb1e-4855-87f1-42ea3034fd8a",
   "metadata": {},
   "outputs": [
    {
     "name": "stdout",
     "output_type": "stream",
     "text": [
      "zeeshan@email.com\n"
     ]
    }
   ],
   "source": [
    "importlib.reload(utils)\n",
    "print(utils.email)"
   ]
  },
  {
   "cell_type": "code",
   "execution_count": 27,
   "id": "cf206f07-57e6-4cf6-9e51-48970972e59e",
   "metadata": {},
   "outputs": [
    {
     "data": {
      "text/plain": [
       "'zeeshan@email.com'"
      ]
     },
     "execution_count": 27,
     "metadata": {},
     "output_type": "execute_result"
    }
   ],
   "source": [
    "utils.email"
   ]
  },
  {
   "cell_type": "markdown",
   "id": "26c5f3e9-5a27-4c69-9a71-9e635699d0ee",
   "metadata": {},
   "source": [
    "# Exceptions\n",
    "    - Error Handling / Exception Handling\n",
    "    - try except"
   ]
  },
  {
   "cell_type": "code",
   "execution_count": null,
   "id": "96fde619-1530-4005-8b7f-c5fb0454060b",
   "metadata": {},
   "outputs": [],
   "source": []
  }
 ],
 "metadata": {
  "kernelspec": {
   "display_name": "Python 3 (ipykernel)",
   "language": "python",
   "name": "python3"
  },
  "language_info": {
   "codemirror_mode": {
    "name": "ipython",
    "version": 3
   },
   "file_extension": ".py",
   "mimetype": "text/x-python",
   "name": "python",
   "nbconvert_exporter": "python",
   "pygments_lexer": "ipython3",
   "version": "3.12.7"
  }
 },
 "nbformat": 4,
 "nbformat_minor": 5
}
