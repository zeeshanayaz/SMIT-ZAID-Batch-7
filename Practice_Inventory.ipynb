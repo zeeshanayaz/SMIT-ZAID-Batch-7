{
 "cells": [
  {
   "cell_type": "code",
   "execution_count": 1,
   "id": "fa3ddc9a-0b04-4131-a68d-fb010e0c5387",
   "metadata": {},
   "outputs": [],
   "source": [
    "mobile_accessories_shop = {\n",
    "    \"phonecase\": {\n",
    "        \"stock_quantity\": 10,\n",
    "        \"price\": 12.99\n",
    "    },\n",
    "    \"protector\": {\n",
    "        \"stock_quantity\": 10,\n",
    "        \"price\": 7.99\n",
    "    },\n",
    "    \"earbuds\": {\n",
    "        \"stock_quantity\": 10,\n",
    "        \"price\": 39.99\n",
    "    },\n",
    "    \"cable\": {\n",
    "        \"stock_quantity\": 10,\n",
    "        \"price\": 5.49\n",
    "    },\n",
    "    \"powerbank\": {\n",
    "        \"stock_quantity\": 10,\n",
    "        \"price\": 29.99\n",
    "    },\n",
    "    \"speaker\": {\n",
    "        \"stock_quantity\": 10,\n",
    "        \"price\": 49.99\n",
    "    },\n",
    "    \"usb\": {\n",
    "        \"stock_quantity\": 10,\n",
    "        \"price\": 9.99\n",
    "    },\n",
    "    \"headphone\": {\n",
    "        \"stock_quantity\": 10,\n",
    "        \"price\": 25.99\n",
    "    },\n",
    "    \"smartwatch\": {\n",
    "        \"stock_quantity\": 10,\n",
    "        \"price\": 19.99\n",
    "    }\n",
    "}"
   ]
  },
  {
   "cell_type": "code",
   "execution_count": 2,
   "id": "7f7be1af-0505-4d29-989e-dea8817188ae",
   "metadata": {},
   "outputs": [
    {
     "data": {
      "text/plain": [
       "9"
      ]
     },
     "execution_count": 2,
     "metadata": {},
     "output_type": "execute_result"
    }
   ],
   "source": [
    "len(mobile_accessories_shop.keys())"
   ]
  },
  {
   "cell_type": "code",
   "execution_count": 3,
   "id": "0ab70438-e036-49d9-b7c7-8844c5ba4f76",
   "metadata": {},
   "outputs": [
    {
     "name": "stdout",
     "output_type": "stream",
     "text": [
      "Welcome to Mobile Accessories Shop\n",
      "\n"
     ]
    },
    {
     "name": "stdin",
     "output_type": "stream",
     "text": [
      "What do you want to purchase? or type q to quit q\n"
     ]
    },
    {
     "name": "stdout",
     "output_type": "stream",
     "text": [
      "------------------------------\n",
      "You have not purchased any item.\n",
      "------------------------------\n"
     ]
    }
   ],
   "source": [
    "print(\"Welcome to Mobile Accessories Shop\", end=\"\\n\\n\")\n",
    "\n",
    "help = \"\"\"\n",
    "    Type product name to purchase any product.\n",
    "    Type menu to see available products.\n",
    "    Type q or Q to quit\n",
    "\"\"\"\n",
    "\n",
    "cart = {}\n",
    "\n",
    "while True:\n",
    "    product = input('What do you want to purchase? or type q to quit').lower()\n",
    "    if product == '':\n",
    "        # Checking if user has pressed blank input\n",
    "        print('Please type a valid product name')\n",
    "        continue\n",
    "    elif product == 'q':\n",
    "        # Checking if user has pressed q or Q to quit the purchasing\n",
    "        break\n",
    "    elif product == 'help':\n",
    "        # Checking if user has asked for help\n",
    "        print(help)\n",
    "    elif product == 'menu':\n",
    "        # Checking if user has asked for menu\n",
    "        print(f\"{'Product Name':<20} {'Price':>10}\")\n",
    "        print(\"-\" * 30)\n",
    "        for item in mobile_accessories_shop:\n",
    "            print(f\"{item:<20} {mobile_accessories_shop[item]['price']:>10.2f}\")\n",
    "    else:\n",
    "        # Checking product availibility in menu\n",
    "        if product in mobile_accessories_shop:\n",
    "            # Checking in stock availibility\n",
    "            stock_quantity = mobile_accessories_shop[product]['stock_quantity']\n",
    "            if stock_quantity > 0:\n",
    "                print(f\"{product} is for Rs.{mobile_accessories_shop[product]['price']}\")\n",
    "                quantity = int(input(f\"How many {product} you want to purchase? \"))\n",
    "                if quantity <=stock_quantity:\n",
    "                    if product in cart:\n",
    "                        cart_item = cart[product]\n",
    "                        cart_item[\"quantity\"]+=quantity\n",
    "                        cart[product] = cart_item\n",
    "                    else:\n",
    "                        cart_item = {\"price\": mobile_accessories_shop[product]['price'], \"quantity\": quantity}\n",
    "                        cart[product] = cart_item\n",
    "                    mobile_accessories_shop[product]['stock_quantity']-=quantity\n",
    "                else:\n",
    "                    print(f'Required quantity of {product} is not available. We only have {stock_quantity} in stock.')\n",
    "            else:\n",
    "                print(f'{product} is out of stock')\n",
    "        else:\n",
    "            print(f'{product} is not available')\n",
    "\n",
    "\n",
    "if len(cart) > 0:\n",
    "    total_amount = 0\n",
    "    tax_percentage = 8\n",
    "    discount_percentage = 5\n",
    "\n",
    "    #Printing Summarry\n",
    "    print(\"-\" * 40)\n",
    "    print(f\"{'Product Name':<20}  {'Quantity':>10} {'Amount($)':>10}\")\n",
    "    print(\"-\" * 40)\n",
    "    for item in cart:\n",
    "        amount = cart[item]['price'] * cart[item]['quantity']\n",
    "        total_amount +=amount\n",
    "        print(f\"{item:<20} {cart[item]['quantity']:>10} {amount:>10.2f}\")\n",
    "    \n",
    "    print(\"-\" * 40)\n",
    "    print(\"Bill Summarry\")\n",
    "    print(\"-\" * 40)\n",
    "    tax_amount = total_amount * tax_percentage / 100\n",
    "    discount_amount = (total_amount + tax_amount) * discount_percentage / 100\n",
    "    \n",
    "    print(f\"{'Total Amount':<20} {total_amount:>10.2f}\")\n",
    "    print(f\"{f'Tax ({tax_percentage})%':<20} {tax_amount:>10.2f}\")\n",
    "    print(f\"{f'Discount ({discount_percentage})%':<20} {discount_amount:>10.2f}\")\n",
    "    print(f\"{'Net Payable Amount':<20} {total_amount + tax_amount - discount_amount:>10.2f}\")\n",
    "    print(\"-\" * 40)\n",
    "else:\n",
    "    print(\"-\" * 30)\n",
    "    print(\"You have not purchased any item.\")\n",
    "    print(\"-\" * 30)"
   ]
  },
  {
   "cell_type": "code",
   "execution_count": null,
   "id": "5659ef50-5390-4f53-8f91-e24d44203cf3",
   "metadata": {},
   "outputs": [],
   "source": []
  }
 ],
 "metadata": {
  "kernelspec": {
   "display_name": "Python 3 (ipykernel)",
   "language": "python",
   "name": "python3"
  },
  "language_info": {
   "codemirror_mode": {
    "name": "ipython",
    "version": 3
   },
   "file_extension": ".py",
   "mimetype": "text/x-python",
   "name": "python",
   "nbconvert_exporter": "python",
   "pygments_lexer": "ipython3",
   "version": "3.12.7"
  }
 },
 "nbformat": 4,
 "nbformat_minor": 5
}
