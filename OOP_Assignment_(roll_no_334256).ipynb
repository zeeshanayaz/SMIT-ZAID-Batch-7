{
 "cells": [
  {
   "cell_type": "markdown",
   "id": "6595e1a2-6c84-431f-a83c-a0d356ab7813",
   "metadata": {},
   "source": [
    "## 1. \n",
    "Write a Python program to create a class called \"Person\" with properties for name, age and country. Include a method to display the person's details. Create two instances of the 'Person' class and display their details"
   ]
  },
  {
   "cell_type": "code",
   "execution_count": 1,
   "id": "8ede898c-a2ed-4200-a02d-022fbad2288c",
   "metadata": {},
   "outputs": [],
   "source": [
    "class Person:\n",
    "    def __init__(self, name, age, country):\n",
    "        self.name = name\n",
    "        self.age = age\n",
    "        self.country = country\n",
    "\n",
    "    def detail(self):\n",
    "        return f'Name: {self.name} - Age: {self.age} - Country: {self.country}'"
   ]
  },
  {
   "cell_type": "code",
   "execution_count": 2,
   "id": "7aea8c65-b729-4281-a8ab-59ef0ed77f71",
   "metadata": {},
   "outputs": [],
   "source": [
    "p1 = Person(name='Zeeshan', age=20, country='Pakistan')"
   ]
  },
  {
   "cell_type": "code",
   "execution_count": 3,
   "id": "e9fd7481-a2d5-4769-9c85-27ab950ca992",
   "metadata": {},
   "outputs": [],
   "source": [
    "p2 = Person(name='Tahir', age=25, country='Canada')"
   ]
  },
  {
   "cell_type": "code",
   "execution_count": 4,
   "id": "3e09ced6-822e-4b16-a578-822e0f763c4b",
   "metadata": {},
   "outputs": [
    {
     "name": "stdout",
     "output_type": "stream",
     "text": [
      "Name: Zeeshan - Age: 20 - Country: Pakistan\n",
      "Name: Tahir - Age: 25 - Country: Canada\n"
     ]
    }
   ],
   "source": [
    "print(p1.detail())\n",
    "print(p2.detail())"
   ]
  },
  {
   "cell_type": "markdown",
   "id": "f244f142-8871-4c47-8d2b-0f31ade37a02",
   "metadata": {},
   "source": [
    "## 2. \n",
    "Write a Python program to create a class called 'Rectangle' with properties for width and height. Include two methods to calculate rectangle area and perimeter. Create an instance of the 'Rectangle' class and calculate its area and perimeter. "
   ]
  },
  {
   "cell_type": "code",
   "execution_count": 6,
   "id": "dcb7d77f-c313-4a70-a811-e2b930191844",
   "metadata": {},
   "outputs": [],
   "source": [
    "class Rectangle:\n",
    "    def __init__(self, width, height):\n",
    "        self.width = width\n",
    "        self.height = height\n",
    "\n",
    "    def area(self):\n",
    "        return f'Area: {self.width * self.height}'\n",
    "\n",
    "    def perimeter(self):\n",
    "        return f'Perimeter: {self.width + self.height}'"
   ]
  },
  {
   "cell_type": "code",
   "execution_count": 7,
   "id": "1c1e94a4-1eda-4c47-8296-d7c1c25795de",
   "metadata": {},
   "outputs": [],
   "source": [
    "r1 = Rectangle(width=10, height=12)"
   ]
  },
  {
   "cell_type": "code",
   "execution_count": 8,
   "id": "715aa18e-95c0-41ce-b6a6-eccca8b86b77",
   "metadata": {},
   "outputs": [
    {
     "data": {
      "text/plain": [
       "'Area: 120'"
      ]
     },
     "execution_count": 8,
     "metadata": {},
     "output_type": "execute_result"
    }
   ],
   "source": [
    "r1.area()"
   ]
  },
  {
   "cell_type": "code",
   "execution_count": 9,
   "id": "5a868a48-8218-49fc-b61e-b6519c88dcff",
   "metadata": {},
   "outputs": [
    {
     "data": {
      "text/plain": [
       "'Perimeter: 22'"
      ]
     },
     "execution_count": 9,
     "metadata": {},
     "output_type": "execute_result"
    }
   ],
   "source": [
    "r1.perimeter()"
   ]
  },
  {
   "cell_type": "markdown",
   "id": "032ebec9-570c-4dad-8e31-28d4691d6935",
   "metadata": {},
   "source": [
    "## 3.\n",
    "Write a Python program that creates a class called 'Vehicle' with properties for make, model, and year. Include a method to display vehicle details. Create a subclass called 'Car' that inherits from the 'Vehicle' class and includes an additional property for the number of doors. Override the display method to include the number of doors."
   ]
  },
  {
   "cell_type": "code",
   "execution_count": 12,
   "id": "1507a370-bce9-42dc-a82d-cb8fcba3f424",
   "metadata": {},
   "outputs": [],
   "source": [
    "class Vehicle:\n",
    "    def __init__(self, make, model, year):\n",
    "        self.make = make\n",
    "        self.model = model\n",
    "        self.year = year\n",
    "\n",
    "    def detail(self):\n",
    "        return f'Make: {self.make} - Model: {self.model} - Year: {self.year}'"
   ]
  },
  {
   "cell_type": "code",
   "execution_count": 13,
   "id": "e2fc1a5a-3f3e-4acd-8060-9d7a0e89d2ac",
   "metadata": {},
   "outputs": [],
   "source": [
    "class Car(Vehicle):\n",
    "    def __init__(self, make, model, year, doors):\n",
    "        super().__init__(make, model, year)\n",
    "        self.doors = doors\n",
    "\n",
    "    def detail(self):\n",
    "        return f'Make: {self.make} - Model: {self.model} - Year: {self.year}'"
   ]
  },
  {
   "cell_type": "code",
   "execution_count": 14,
   "id": "4e369bc8-fb6c-4f16-ac93-7503bea069d8",
   "metadata": {},
   "outputs": [],
   "source": [
    "c = Car('abc', 'def', 'ghi', 'jkl')"
   ]
  },
  {
   "cell_type": "code",
   "execution_count": 15,
   "id": "d3b612f1-02f8-40e4-bb93-2a0db9350716",
   "metadata": {},
   "outputs": [
    {
     "data": {
      "text/plain": [
       "'Make: abc - Model: def - Year: ghi'"
      ]
     },
     "execution_count": 15,
     "metadata": {},
     "output_type": "execute_result"
    }
   ],
   "source": [
    "c.detail()"
   ]
  },
  {
   "cell_type": "markdown",
   "id": "764b1164-4072-41f4-a2cf-5b71db08fd1a",
   "metadata": {},
   "source": [
    "## 4.\n",
    "Write a Python program that creates a class called \"BankAccount\" with properties for account number and balance. Include methods to deposit and\n",
    "withdraw money from the account. Create some instances of the \"BankAccount\" class, deposit some money, and withdraw a portion of it."
   ]
  },
  {
   "cell_type": "code",
   "execution_count": 16,
   "id": "48abe043-059a-4808-8e81-cfd04a4c5327",
   "metadata": {},
   "outputs": [],
   "source": [
    "class BankAccount:\n",
    "    def __init__(self, account_number, balance = 0.0):\n",
    "        self.account_number = account_number\n",
    "        self.balance = balance\n",
    "\n",
    "    def deposit(self, amount):\n",
    "        pass\n",
    "\n",
    "    def withdraw(self, amount):\n",
    "        pass"
   ]
  },
  {
   "cell_type": "code",
   "execution_count": null,
   "id": "3f761d44-93da-4ca9-8d08-2de8c77710c1",
   "metadata": {},
   "outputs": [],
   "source": []
  }
 ],
 "metadata": {
  "kernelspec": {
   "display_name": "Python 3 (ipykernel)",
   "language": "python",
   "name": "python3"
  },
  "language_info": {
   "codemirror_mode": {
    "name": "ipython",
    "version": 3
   },
   "file_extension": ".py",
   "mimetype": "text/x-python",
   "name": "python",
   "nbconvert_exporter": "python",
   "pygments_lexer": "ipython3",
   "version": "3.12.7"
  }
 },
 "nbformat": 4,
 "nbformat_minor": 5
}
