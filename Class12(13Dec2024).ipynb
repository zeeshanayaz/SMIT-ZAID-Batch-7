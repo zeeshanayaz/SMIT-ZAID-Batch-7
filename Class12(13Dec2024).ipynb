{
 "cells": [
  {
   "cell_type": "markdown",
   "id": "9a9cadde-9184-49d7-98e3-a991ebc24a54",
   "metadata": {},
   "source": [
    "# File: Reading and writing Text Files, I/O Stream"
   ]
  },
  {
   "cell_type": "code",
   "execution_count": 5,
   "id": "b59c3ce3-d636-431d-982c-1f7b6601f62c",
   "metadata": {},
   "outputs": [
    {
     "name": "stdout",
     "output_type": "stream",
     "text": [
      "This is sample text file\n"
     ]
    }
   ],
   "source": [
    "try:\n",
    "    f = open('sample.txt', 'r')\n",
    "    data = f.read()\n",
    "    print(data)\n",
    "except FileNotFoundError:\n",
    "    print('File not found')\n",
    "finally:\n",
    "    f.close()"
   ]
  },
  {
   "cell_type": "code",
   "execution_count": 6,
   "id": "bd185e76-5c25-40ce-87d3-3d412f821aad",
   "metadata": {},
   "outputs": [],
   "source": [
    "try:\n",
    "    f = open('sample.txt', 'w')\n",
    "    f.write('This is updated text file')\n",
    "except FileNotFoundError:\n",
    "    print('File not found')\n",
    "finally:\n",
    "    f.close()"
   ]
  },
  {
   "cell_type": "code",
   "execution_count": 7,
   "id": "a1eee485-e537-4cf9-9583-ef37fceab40c",
   "metadata": {},
   "outputs": [
    {
     "name": "stdout",
     "output_type": "stream",
     "text": [
      "This is updated text file\n"
     ]
    }
   ],
   "source": [
    "try:\n",
    "    f = open('sample.txt', 'r')\n",
    "    data = f.read()\n",
    "    print(data)\n",
    "except FileNotFoundError:\n",
    "    print('File not found')\n",
    "finally:\n",
    "    f.close()"
   ]
  },
  {
   "cell_type": "code",
   "execution_count": 8,
   "id": "1e09b071-1162-4876-a0cf-7dd0a42ffd5e",
   "metadata": {},
   "outputs": [],
   "source": [
    "try:\n",
    "    f = open('sample2.txt', 'w')\n",
    "    f.write('This is sample 2 file')\n",
    "except FileNotFoundError:\n",
    "    print('File not found')\n",
    "finally:\n",
    "    f.close()"
   ]
  },
  {
   "cell_type": "code",
   "execution_count": 9,
   "id": "d0c1ec67-c027-408f-bc41-7de4ad46360d",
   "metadata": {},
   "outputs": [
    {
     "name": "stdout",
     "output_type": "stream",
     "text": [
      "This is sample 2 file\n"
     ]
    }
   ],
   "source": [
    "try:\n",
    "    f = open('sample2.txt', 'r')\n",
    "    data = f.read()\n",
    "    print(data)\n",
    "except FileNotFoundError:\n",
    "    print('File not found')\n",
    "finally:\n",
    "    f.close()"
   ]
  },
  {
   "cell_type": "markdown",
   "id": "a64cbdd0-b0a1-4c41-8062-6916326abcce",
   "metadata": {},
   "source": [
    "# Context Manager"
   ]
  },
  {
   "cell_type": "code",
   "execution_count": 10,
   "id": "4d9fa083-1d6a-4d85-a9db-e715c78749e9",
   "metadata": {},
   "outputs": [],
   "source": [
    "with open('sample3.txt', 'w') as fi:\n",
    "    fi.write('Line 1\\n')\n",
    "    fi.write('Line 2\\n')\n",
    "    fi.write('Line 3\\n')\n",
    "    fi.write('Line 4\\n')\n",
    "\n"
   ]
  },
  {
   "cell_type": "code",
   "execution_count": 11,
   "id": "7885647c-46bb-432b-96d0-333dd3e21ecf",
   "metadata": {},
   "outputs": [
    {
     "name": "stdout",
     "output_type": "stream",
     "text": [
      "Line 1\n",
      "Line 2\n",
      "Line 3\n",
      "Line 4\n",
      "\n"
     ]
    }
   ],
   "source": [
    "with open('sample3.txt', 'r') as fi:\n",
    "    print(fi.read())"
   ]
  },
  {
   "cell_type": "code",
   "execution_count": 12,
   "id": "f82cdc46-8a6d-41fc-92c1-054e180031fc",
   "metadata": {},
   "outputs": [],
   "source": [
    "# Append new data to existing file\n",
    "with open('sample3.txt','a') as fi:\n",
    "    fi.write('Line 6\\n')\n",
    "    fi.write('Line 7\\n')\n",
    "\n"
   ]
  },
  {
   "cell_type": "code",
   "execution_count": 13,
   "id": "32c5b884-0bb0-4270-b90d-077ddafa18c2",
   "metadata": {},
   "outputs": [
    {
     "name": "stdout",
     "output_type": "stream",
     "text": [
      "Line 1\n",
      "Line 2\n",
      "Line 3\n",
      "Line 4\n",
      "Line 6\n",
      "Line 7\n",
      "\n"
     ]
    }
   ],
   "source": [
    "with open('sample3.txt', 'r') as fi:\n",
    "    print(fi.read())"
   ]
  },
  {
   "cell_type": "code",
   "execution_count": null,
   "id": "a3ae1375-e67d-4c9e-a239-93776f0e3215",
   "metadata": {},
   "outputs": [],
   "source": []
  }
 ],
 "metadata": {
  "kernelspec": {
   "display_name": "Python 3 (ipykernel)",
   "language": "python",
   "name": "python3"
  },
  "language_info": {
   "codemirror_mode": {
    "name": "ipython",
    "version": 3
   },
   "file_extension": ".py",
   "mimetype": "text/x-python",
   "name": "python",
   "nbconvert_exporter": "python",
   "pygments_lexer": "ipython3",
   "version": "3.12.7"
  }
 },
 "nbformat": 4,
 "nbformat_minor": 5
}
