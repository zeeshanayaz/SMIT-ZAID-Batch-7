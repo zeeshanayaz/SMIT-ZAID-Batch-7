{
 "cells": [
  {
   "cell_type": "code",
   "execution_count": 4,
   "id": "3dd6e738-2671-4e1c-970f-46ce59bc43ea",
   "metadata": {},
   "outputs": [],
   "source": [
    "class Bank_Account_Opening():\n",
    "    def __init__ (self, name, father_name, cnic, income, religion = 'Islam'):\n",
    "        self.name = name\n",
    "        self.father_name = father_name\n",
    "        self.cnic = cnic\n",
    "        self.income = income\n",
    "        self.religion = religion\n",
    "\n",
    "    def print_detail(self):\n",
    "        print(f\"\"\"\n",
    "        Name:           {self.name}\n",
    "        Father Name:    {self.father_name}\n",
    "        CNIC:           {self.cnic}\n",
    "        Income:         {self.income}\n",
    "        Religion:       {self.religion}\n",
    "        \"\"\")\n",
    "\n",
    "account_opening = Bank_Account_Opening(name='Muhammad Zeeshan', father_name='Muhammad Ayaz', cnic='42301-8051911-1', income=100000)"
   ]
  },
  {
   "cell_type": "code",
   "execution_count": 5,
   "id": "1969f4e5-f410-4577-9c4e-42199416a937",
   "metadata": {},
   "outputs": [
    {
     "name": "stdout",
     "output_type": "stream",
     "text": [
      "\n",
      "        Name:           Muhammad Zeeshan\n",
      "        Father Name:    Muhammad Ayaz\n",
      "        CNIC:           42301-8051911-1\n",
      "        Income:         100000\n",
      "        Religion:       Islam\n",
      "        \n"
     ]
    }
   ],
   "source": [
    "account_opening.print_detail()"
   ]
  },
  {
   "cell_type": "code",
   "execution_count": null,
   "id": "b9413901-c0f7-429d-8335-6edd8d50712f",
   "metadata": {},
   "outputs": [],
   "source": []
  }
 ],
 "metadata": {
  "kernelspec": {
   "display_name": "Python 3 (ipykernel)",
   "language": "python",
   "name": "python3"
  },
  "language_info": {
   "codemirror_mode": {
    "name": "ipython",
    "version": 3
   },
   "file_extension": ".py",
   "mimetype": "text/x-python",
   "name": "python",
   "nbconvert_exporter": "python",
   "pygments_lexer": "ipython3",
   "version": "3.12.7"
  }
 },
 "nbformat": 4,
 "nbformat_minor": 5
}
