{
 "cells": [
  {
   "cell_type": "markdown",
   "id": "8927b4a3-1df0-459c-a8a9-ae56d859f06c",
   "metadata": {},
   "source": [
    "# 1. Area of a Rectangle:\n",
    "Write a Python program to calculate the area of a rectangle. Use the formula:\n",
    "    𝐴𝒓𝒆𝒂 = 𝒍𝒆𝒏𝒈𝒕𝒉 × 𝒘𝒊𝒅𝒕𝒉\n",
    "Take length and width as inputs from the user."
   ]
  },
  {
   "cell_type": "code",
   "execution_count": 3,
   "id": "5ba9cb67-8b81-421a-a96d-466092e3f59a",
   "metadata": {},
   "outputs": [
    {
     "name": "stdin",
     "output_type": "stream",
     "text": [
      "Enter Length: > 20\n",
      "Enter Width: > 10\n"
     ]
    },
    {
     "name": "stdout",
     "output_type": "stream",
     "text": [
      "Area of rectangle is 200.0\n"
     ]
    }
   ],
   "source": [
    "length = float(input(\"Enter Length: >\"))\n",
    "width = float(input(\"Enter Width: >\"))\n",
    "area = length * width\n",
    "print(f\"Area of rectangle is {area}\")"
   ]
  },
  {
   "cell_type": "markdown",
   "id": "50a471ab-a4f4-4acc-94be-093aa38aac70",
   "metadata": {},
   "source": [
    "# 2. Circumference of a Circle:\n",
    "Write a Python program to calculate the circumference of a circle. Use the formula:\n",
    "    𝑪𝒊𝒓𝒄𝒖𝒎𝒇𝒆𝒓𝒆𝒏𝒄𝒆 = 𝟐𝝅𝒓\n",
    "Take the radius r as input from the user."
   ]
  },
  {
   "cell_type": "code",
   "execution_count": 7,
   "id": "56948c6f-8de0-46c7-bcdd-a3d3339e45e6",
   "metadata": {},
   "outputs": [
    {
     "name": "stdin",
     "output_type": "stream",
     "text": [
      "Enter Radius of Circle:>  5\n"
     ]
    },
    {
     "name": "stdout",
     "output_type": "stream",
     "text": [
      "Circumference of circle is 31.419999999999998\n"
     ]
    }
   ],
   "source": [
    "pie_value = 3.142\n",
    "radius = float(input(\"Enter Radius of Circle:> \"))\n",
    "circumference = 2 * pie_value * radius\n",
    "print(f\"Circumference of circle is {circumference}\")"
   ]
  },
  {
   "cell_type": "markdown",
   "id": "0984692a-023a-4a45-a998-2bcc54b02b08",
   "metadata": {},
   "source": [
    "# 3. Simple Interest:\n",
    "Write a Python program to calculate the simple interest. Use the formula:\n",
    "    𝑺𝒊𝒎𝒑𝒍𝒆 𝑰𝒏𝒕𝒆𝒓𝒆𝒔𝒕 = 𝑷𝒓𝒊𝒏𝒄𝒊𝒑𝒂𝒍 × 𝑹𝒂𝒕𝒆 × 𝑻𝒊𝒎𝒆\n",
    "Take Principal, Rate, and Time as inputs from the user. "
   ]
  },
  {
   "cell_type": "code",
   "execution_count": 12,
   "id": "18c83e61-0551-47fb-93c5-2d073536edef",
   "metadata": {},
   "outputs": [
    {
     "name": "stdin",
     "output_type": "stream",
     "text": [
      "Enter the principal amount:  100\n",
      "What is the Interest Rate:  5\n",
      "Specify the time period:  1\n"
     ]
    },
    {
     "name": "stdout",
     "output_type": "stream",
     "text": [
      "The simple interest against provided input is 500.0\n"
     ]
    }
   ],
   "source": [
    "principal_amount = float(input(\"Enter the principal amount: \"))\n",
    "interest_rate = float(input(\"What is the Interest Rate: \"))\n",
    "time_period = float(input(\"Specify the time period: \"))\n",
    "simple_interest = principal_amount * interest_rate * time_period\n",
    "print(f\"The simple interest against provided input is {simple_interest}\")"
   ]
  },
  {
   "cell_type": "markdown",
   "id": "35229535-94f0-413c-a259-ae63121e2d63",
   "metadata": {},
   "source": [
    "# 4. Speed of an Object:\n",
    "Write a Python program to calculate the speed of an object. Use the formula:\n",
    "    𝑆𝒑𝒆𝒆𝒅 = 𝑫𝒊𝒔𝒕𝒂𝒏𝒄𝒆 / 𝑻𝒊𝒎𝒆\n",
    "Take Distance and Time as inputs from the user. "
   ]
  },
  {
   "cell_type": "code",
   "execution_count": 15,
   "id": "13085cf4-8030-4fa9-8181-fc3574afd31a",
   "metadata": {},
   "outputs": [
    {
     "name": "stdin",
     "output_type": "stream",
     "text": [
      "What is the distance(Km) you want to cover:  5\n",
      "In how much Time(h) you want to cover that distance:  2\n"
     ]
    },
    {
     "name": "stdout",
     "output_type": "stream",
     "text": [
      "You need to maintain the speed of 2.5km/h to cover 5.0km in 2.0hours\n"
     ]
    }
   ],
   "source": [
    "distance = float(input(\"What is the distance(Km) you want to cover: \"))\n",
    "time = float(input(\"In how much Time(h) you want to cover that distance: \"))\n",
    "speed = distance / time\n",
    "print(f\"You need to maintain the speed of {speed}km/h to cover {distance}km in {time}hours\")"
   ]
  },
  {
   "cell_type": "markdown",
   "id": "4e01d5b4-ef6b-4c86-a47c-f19ba61169b7",
   "metadata": {},
   "source": [
    "# 5. BMI Calculator:\n",
    "Write a Python program to calculate the Body Mass Index (BMI). Use the formula:\n",
    "    BMI = Weight in KG / (height) exponent 2\n",
    "Take Weight (in kilograms) and Height (in meters) as inputs from the user. "
   ]
  },
  {
   "cell_type": "code",
   "execution_count": 18,
   "id": "9313b268-ac2e-4f48-a9ec-b06da1ae786d",
   "metadata": {},
   "outputs": [
    {
     "name": "stdin",
     "output_type": "stream",
     "text": [
      "Enter your weight in kg:  50\n",
      "Enter your height in meters:  1.67\n"
     ]
    },
    {
     "name": "stdout",
     "output_type": "stream",
     "text": [
      "The Body Mass Index (BMI) is 17.92821542543655\n"
     ]
    }
   ],
   "source": [
    "weight_in_kg = float(input(\"Enter your weight in kg: \"))\n",
    "height_in_meter = float(input(\"Enter your height in meters: \"))\n",
    "bmi = weight_in_kg / height_in_meter ** 2\n",
    "print(f\"The Body Mass Index (BMI) is {bmi}\")"
   ]
  },
  {
   "cell_type": "markdown",
   "id": "d5e57af0-3f42-4433-b206-b9a99c01d744",
   "metadata": {},
   "source": [
    "# 6. Force Using Newton's Second Law:\n",
    "Write a Python program to calculate the force on an object. Use the formula:\n",
    "    F = m x a\n",
    "Take m (mass in kilograms) and a (acceleration in meters/second²) as inputs from the\n",
    "user. "
   ]
  },
  {
   "cell_type": "code",
   "execution_count": 35,
   "id": "9805e01e-ccc9-40cc-a490-fda2e10dba3a",
   "metadata": {},
   "outputs": [
    {
     "name": "stdin",
     "output_type": "stream",
     "text": [
      "Enter mass of an object in Kg:  10\n",
      "Enter acceleration of an object in meters/second²:  2\n"
     ]
    },
    {
     "name": "stdout",
     "output_type": "stream",
     "text": [
      "Force on an abject by Newton's Second Law is 20.0N.\n"
     ]
    }
   ],
   "source": [
    "mass_in_kg = float(input(\"Enter mass of an object in Kg: \"))\n",
    "acceleration = float(input(\"Enter acceleration of an object in meters/second²: \"))\n",
    "force = mass_in_kg * acceleration\n",
    "print(f\"Force on an abject by Newton's Second Law is {force}N.\")"
   ]
  },
  {
   "cell_type": "markdown",
   "id": "7e645d98-f480-4fb7-854c-6eb88ff2dbe3",
   "metadata": {},
   "source": [
    "# 7. Compound Interest:\n",
    "Write a Python program to calculate compound interest. Use the formula: \n",
    "Where:\n",
    "- A = total amount\n",
    "- P = principal amount\n",
    "- r = annual interest rate (decimal)\n",
    "- n = number of times interest is compounded per year\n",
    "- t = time in years\n",
    "- Take P, r, n, and t as inputs from the user. "
   ]
  },
  {
   "cell_type": "code",
   "execution_count": 6,
   "id": "f46050ea-6509-4dd7-b96c-3e53d1d0db29",
   "metadata": {},
   "outputs": [
    {
     "name": "stdin",
     "output_type": "stream",
     "text": [
      "Enter the Princpal Amount:  50000\n",
      "Enter the Annual Interest Rate:  1.5\n",
      "Enter the number of times interest is compounded per year:  1\n",
      "Enter the time in years:  4\n"
     ]
    },
    {
     "name": "stdout",
     "output_type": "stream",
     "text": [
      "The total amount after compound interest is: Rs. 3200.0\n"
     ]
    }
   ],
   "source": [
    "principal_amount = float(input(\"Enter the Princpal Amount: \"))\n",
    "annual_interest_rate = float(input(\"Enter the Annual Interest Rate: \"))\n",
    "number_times_interest = float(input(\"Enter the number of times interest is compounded per year: \"))\n",
    "times_in_year = float(input(\"Enter the time in years: \"))\n",
    "\n",
    "total_amount = principal_amount * (1 + annual_interest_rate / number_times_interest) ** (number_times_interest - times_in_year)\n",
    "print(f\"The total amount after compound interest is: Rs. {total_amount}\")"
   ]
  },
  {
   "cell_type": "markdown",
   "id": "ee8019d0-f9c9-4cca-b3a2-9eda45e871c1",
   "metadata": {},
   "source": [
    "# 8.  Perimeter of a Triangle:\n",
    "Write a Python program to calculate the perimeter of a triangle. Use the formula:\n",
    "### 𝑷𝒆𝒓𝒊𝒎𝒆𝒕𝒆𝒓 = 𝒂 + 𝒃 + 𝒄\n",
    "Take a, b, and c (lengths of the three sides) as inputs from the user.\n"
   ]
  },
  {
   "cell_type": "code",
   "execution_count": 42,
   "id": "5a269670-40d7-44c3-9af5-5fbb6e1fbe7b",
   "metadata": {},
   "outputs": [
    {
     "name": "stdin",
     "output_type": "stream",
     "text": [
      "Length of first side of Triangle:  4\n",
      "Length of second side of Triangle:  4\n",
      "Length of third side of Triangle:  5\n"
     ]
    },
    {
     "name": "stdout",
     "output_type": "stream",
     "text": [
      "The Perimeter of provided triangle is 13.0\n"
     ]
    }
   ],
   "source": [
    "first_side = float(input(\"Length of first side of Triangle: \"))\n",
    "second_side = float(input(\"Length of second side of Triangle: \"))\n",
    "third_side = float(input(\"Length of third side of Triangle: \"))\n",
    "perimeter = first_side + second_side + third_side\n",
    "print(f\"The Perimeter of provided triangle is {perimeter}\")"
   ]
  },
  {
   "cell_type": "markdown",
   "id": "8dcc362a-79b6-488e-b43c-d26d6e749d73",
   "metadata": {},
   "source": [
    "# 9.  Volume of a Sphere:\n",
    "Write a Python program to calculate the volume of a sphere. Use the formula: \n",
    "Take r (radius) as input from the user. "
   ]
  },
  {
   "cell_type": "code",
   "execution_count": 47,
   "id": "476e6761-5b13-4e61-84d4-740731c83af9",
   "metadata": {},
   "outputs": [
    {
     "name": "stdin",
     "output_type": "stream",
     "text": [
      "Enter radius of sphere:  4\n"
     ]
    },
    {
     "name": "stdout",
     "output_type": "stream",
     "text": [
      "The volume of provided sphere is 268.1173333333333\n"
     ]
    }
   ],
   "source": [
    "pie_value = 3.142\n",
    "radius_sphere = float(input(\"Enter radius of sphere: \"))\n",
    "volume_sphere = (4 / 3) * pie_value * radius_sphere ** 3\n",
    "print(f\"The volume of provided sphere is {volume_sphere}\")"
   ]
  },
  {
   "cell_type": "markdown",
   "id": "c37f5edb-b0db-4db9-914d-78a461c16866",
   "metadata": {},
   "source": [
    "# 10. Kinetic Energy:\n",
    "Write a Python program to calculate the kinetic energy of an object. Use the formula:\n",
    "### 𝑲𝑬 = 𝟏/𝟐 𝒎 𝑽²\n",
    "Take m (mass in kilograms) and v (velocity in meters/second) as inputs from the user."
   ]
  },
  {
   "cell_type": "code",
   "execution_count": 53,
   "id": "1b8860d6-815e-4909-b269-20177d7ed943",
   "metadata": {},
   "outputs": [
    {
     "name": "stdin",
     "output_type": "stream",
     "text": [
      "Enter mass in kilograms:  120\n",
      "Enter velocity in meters/second:  4\n"
     ]
    },
    {
     "name": "stdout",
     "output_type": "stream",
     "text": [
      "The Kinetic Energy of provided object is 960.0Joules\n"
     ]
    }
   ],
   "source": [
    "mass_kilogram = float(input(\"Enter mass in kilograms: \"))\n",
    "velocity = float(input(\"Enter velocity in meters/second: \"))\n",
    "kinetic_energy = (1/2)*mass_kilogram * velocity ** 2\n",
    "print(f\"The Kinetic Energy of provided object is {kinetic_energy}Joules\")"
   ]
  },
  {
   "cell_type": "markdown",
   "id": "c21921f5-0cf7-4688-a424-6295d8389101",
   "metadata": {},
   "source": [
    "# 11. Quadratic Equation Roots: \n",
    "Write a Python program to find the roots of a quadratic equation. Use the formula:\n",
    "### \n",
    "Take a, b, and c as inputs from the user. "
   ]
  },
  {
   "cell_type": "code",
   "execution_count": 13,
   "id": "dcac7d10-2dc9-41c8-a313-cd5ac8841178",
   "metadata": {},
   "outputs": [
    {
     "name": "stdin",
     "output_type": "stream",
     "text": [
      "Enter the coefficient a:  1\n",
      "Enter the coefficient b:  -3\n",
      "Enter the coefficient c:  2\n"
     ]
    },
    {
     "name": "stdout",
     "output_type": "stream",
     "text": [
      "The roots are 2.0 and 1.0\n"
     ]
    }
   ],
   "source": [
    "import math\n",
    "\n",
    "def quadratic_root(a, b, c):\n",
    "    discriminant = b**2 - 4*a*c\n",
    "    root1 = (-b + math.sqrt(discriminant)) / (2 * a)\n",
    "    root2 = (-b - math.sqrt(discriminant)) / (2 * a)\n",
    "    return root1, root2\n",
    "    \n",
    "\n",
    "a = float(input(\"Enter the coefficient a: \"))\n",
    "b = float(input(\"Enter the coefficient b: \"))\n",
    "c = float(input(\"Enter the coefficient c: \"))\n",
    "root1, root2 = quadratic_root(a, b, c)\n",
    "print(f\"The roots are {root1} and {root2}\")"
   ]
  },
  {
   "cell_type": "markdown",
   "id": "8721dc3d-9303-4c60-a0f8-c5bc44b286ca",
   "metadata": {},
   "source": [
    "# 12. Temperature Conversion: \n",
    "Write a Python program to convert a temperature from Celsius to Fahrenheit. Use the\n",
    "formula:\n",
    "### F = (9/5)*C + 32\n",
    "Take C (temperature in Celsius) as input from the user. "
   ]
  },
  {
   "cell_type": "code",
   "execution_count": 59,
   "id": "eff59a41-57cd-4102-b66a-f1e511408128",
   "metadata": {},
   "outputs": [
    {
     "name": "stdin",
     "output_type": "stream",
     "text": [
      "Enter temperature in Celcius:  50\n"
     ]
    },
    {
     "name": "stdout",
     "output_type": "stream",
     "text": [
      "Temperature in Fahrenheit is 122.0\n"
     ]
    }
   ],
   "source": [
    "temperature_celcius = float(input(\"Enter temperature in Celcius: \"))\n",
    "temperature_fahrenheit = (9/5) * temperature_celcius + 32\n",
    "print(f\"Temperature in Fahrenheit is {temperature_fahrenheit}\")"
   ]
  },
  {
   "cell_type": "markdown",
   "id": "33ede820-719c-4122-b389-a01fb0d3b621",
   "metadata": {},
   "source": [
    "# 13. Gravitational Force: \n",
    "Write a Python program to calculate the gravitational force between two objects. Use\n",
    "the formula\n",
    "### 𝑭 = 𝑮 ((𝒎𝟏 ∗ 𝒎𝟐) / 𝒓𝟐)\n",
    "- m1, m2 are the masses of the objects\n",
    "- r = distance between the centers of the objects\n",
    "- Take m1, m2 and r as inputs from the user."
   ]
  },
  {
   "cell_type": "code",
   "execution_count": 66,
   "id": "a55d614b-1932-417c-902e-2f25b39c6d45",
   "metadata": {},
   "outputs": [
    {
     "name": "stdin",
     "output_type": "stream",
     "text": [
      "Enter mass of First Object:  20\n",
      "Enter mass of Second Object:  25\n",
      "Enter distance between the centers of the objects:  10\n"
     ]
    },
    {
     "name": "stdout",
     "output_type": "stream",
     "text": [
      "The gravitational force between two objects is 3.3371499999999997e-10\n"
     ]
    }
   ],
   "source": [
    "gravitational_constant = 6.6743e-11\n",
    "mass_first_object = float(input(\"Enter mass of First Object: \"))\n",
    "mass_second_object = float(input(\"Enter mass of Second Object: \"))\n",
    "distance = float(input(\"Enter distance between the centers of the objects: \"))\n",
    "gravitational_force = gravitational_constant * ((mass_first_object * mass_second_object) / distance ** 2)\n",
    "print(f\"The gravitational force between two objects is {gravitational_force}\")"
   ]
  },
  {
   "cell_type": "markdown",
   "id": "00dd7fe8-6845-429e-b2c5-8a23745b8f8a",
   "metadata": {},
   "source": [
    "# 14. Volume of a Cylinder:\n",
    "Write a Python program to calculate the volume of a cylinder. Use the formula:\n",
    "### 𝑽𝒐𝒍𝒖𝒎𝒆 = 𝝅𝒓𝟐𝒉\n",
    "Take radius(r) and height(h) as inputs from the user"
   ]
  },
  {
   "cell_type": "code",
   "execution_count": 70,
   "id": "73931156-ed44-4304-81fd-822c62da53d0",
   "metadata": {},
   "outputs": [
    {
     "name": "stdin",
     "output_type": "stream",
     "text": [
      "Enter radius of cylinder:  5\n",
      "Enter height of cylinder:  2\n"
     ]
    },
    {
     "name": "stdout",
     "output_type": "stream",
     "text": [
      "The volume of cylinder is 157.1\n"
     ]
    }
   ],
   "source": [
    "radius_cylinder = float(input(\"Enter radius of cylinder: \"))\n",
    "height_cylinder = float(input(\"Enter height of cylinder: \"))\n",
    "volume_cylinder = pie_value * radius_cylinder ** 2 * height_cylinder\n",
    "print(f\"The volume of cylinder is {volume_cylinder}\")"
   ]
  },
  {
   "cell_type": "markdown",
   "id": "2f280b1a-1fe0-4ef5-bc21-a8a8a591d901",
   "metadata": {},
   "source": [
    "# 15. Pressure:\n",
    "Write a Python program to calculate the pressure exerted by a force on a surface. Use\n",
    "the formula:\n",
    "### 𝑷 = 𝑭 / 𝑨\n",
    "- P = pressure\n",
    "- F = force\n",
    "- A = area\n",
    "Take F(force) and A(area) as inputs from the user."
   ]
  },
  {
   "cell_type": "code",
   "execution_count": 73,
   "id": "ee35eac3-868c-41db-bb3d-abc50b327025",
   "metadata": {},
   "outputs": [
    {
     "name": "stdin",
     "output_type": "stream",
     "text": [
      "Enter the Force on a surface applied:  20\n",
      "Enter the area on which the force applied:  10\n"
     ]
    },
    {
     "name": "stdout",
     "output_type": "stream",
     "text": [
      "The pressure exerted by a force in a surface is 2.0\n"
     ]
    }
   ],
   "source": [
    "force = float(input(\"Enter the Force on a surface applied: \"))\n",
    "area = float(input(\"Enter the area on which the force applied: \"))\n",
    "pressure = force / area\n",
    "print(f\"The pressure exerted by a force in a surface is {pressure}\")"
   ]
  },
  {
   "cell_type": "markdown",
   "id": "e4f0d2b4-9286-4122-944a-e66d5ae33830",
   "metadata": {},
   "source": [
    "# 16. Electric Power:\n",
    "Write a Python program to calculate the electric power consumed. Use the formula:\n",
    "where:\n",
    "### P = V / I\n",
    "- P = power\n",
    "- V = voltage\n",
    "- I = current\n",
    "Take V(voltage) and I(current) as inputs from the user.\n"
   ]
  },
  {
   "cell_type": "code",
   "execution_count": 76,
   "id": "211d1d1d-a04a-4a68-a3cb-2a450b2edbdc",
   "metadata": {},
   "outputs": [
    {
     "name": "stdin",
     "output_type": "stream",
     "text": [
      "Enter the voltage:  10\n",
      "Enter the current:  2\n"
     ]
    },
    {
     "name": "stdout",
     "output_type": "stream",
     "text": [
      "The Electric Power consumed is 5.0\n"
     ]
    }
   ],
   "source": [
    "voltage = float(input(\"Enter the voltage: \"))\n",
    "current = float(input(\"Enter the current: \"))\n",
    "power = voltage / current\n",
    "print(f\"The Electric Power consumed is {power}\")"
   ]
  },
  {
   "cell_type": "markdown",
   "id": "3f3f2ca6-58a8-45ea-a5ac-850d51047f29",
   "metadata": {},
   "source": [
    "# 17. Perimeter of a Circle (Circumference):\n",
    "Write a Python program to calculate the perimeter (circumference) of a circle. Use the\n",
    "formula:\n",
    "### P = 2𝝅r\n",
    "Take r (radius) as input from the user. "
   ]
  },
  {
   "cell_type": "code",
   "execution_count": 79,
   "id": "205d8960-ac23-4958-8205-07dbb48512e8",
   "metadata": {},
   "outputs": [
    {
     "name": "stdin",
     "output_type": "stream",
     "text": [
      "Enter radius of circle:  5\n"
     ]
    },
    {
     "name": "stdout",
     "output_type": "stream",
     "text": [
      "The perimeter(circumference) of a circle is 31.419999999999998\n"
     ]
    }
   ],
   "source": [
    "pie_value = 3.142\n",
    "radius_circle = float(input(\"Enter radius of circle: \"))\n",
    "perimeter_circle = 2 * pie_value * radius_circle\n",
    "print(f\"The perimeter(circumference) of a circle is {perimeter_circle}\")"
   ]
  },
  {
   "cell_type": "markdown",
   "id": "b7c4fa2a-f23d-4731-97f1-a45324ba4a2e",
   "metadata": {},
   "source": [
    "# 18. Future Value in Savings:\n",
    "Write a Python program to calculate the future value of an investment. Use the formula:\n",
    "### 𝐹𝑉 = 𝑃𝑉(1 + 𝑟)e t\n",
    "where:\n",
    "- FV= future value\n",
    "- PV= present value\n",
    "- r= annual interest rate (as a decimal)\n",
    "- t= time in years\n",
    "- Take PV, r, and t as inputs from the user. "
   ]
  },
  {
   "cell_type": "code",
   "execution_count": 84,
   "id": "d33ed398-01a0-46ff-b651-3177bf6a86c1",
   "metadata": {},
   "outputs": [
    {
     "name": "stdin",
     "output_type": "stream",
     "text": [
      "Enter present value:  100\n",
      "Enter annual interest rate:  2.5\n",
      "Enter time in year:  12\n"
     ]
    },
    {
     "name": "stdout",
     "output_type": "stream",
     "text": [
      "The future value of an investment is 337922050.80566406\n"
     ]
    }
   ],
   "source": [
    "present_value = float(input(\"Enter present value: \"))\n",
    "annual_interest_rate = float(input(\"Enter annual interest rate: \"))\n",
    "times_in_year = float(input(\"Enter time in year: \"))\n",
    "future_value = present_value * (1 + annual_interest_rate) ** times_in_year\n",
    "print(f\"The future value of an investment is {future_value}\")"
   ]
  },
  {
   "cell_type": "markdown",
   "id": "cc15ade5-b938-46c6-8ff6-6c45d279fdb7",
   "metadata": {},
   "source": [
    "# 19. Work Done by a Force:\n",
    "Write a Python program to calculate the work done by a force. Use the formula:\n",
    "where:\n",
    "- W = work done\n",
    "- f= force\n",
    "- d = distance\n",
    "- theta = angle between force and direction of movement (in degrees)\n",
    "- Take f, d, and θ as inputs from the user."
   ]
  },
  {
   "cell_type": "code",
   "execution_count": 9,
   "id": "41d57c38-b2c9-4899-887b-9d5e83210aec",
   "metadata": {},
   "outputs": [
    {
     "name": "stdin",
     "output_type": "stream",
     "text": [
      "Enter the force applied (in Newtons):  20\n",
      "Enter the distance moved (in meters):  10\n",
      "Enter the angle between force and movement direction (in degrees):  20\n"
     ]
    },
    {
     "name": "stdout",
     "output_type": "stream",
     "text": [
      "The work done by the force is: 187.9385241571817 Joules\n"
     ]
    }
   ],
   "source": [
    "import math\n",
    "\n",
    "force = float(input(\"Enter the force applied (in Newtons): \"))\n",
    "distance = float(input(\"Enter the distance moved (in meters): \"))\n",
    "angle_degrees = float(input(\"Enter the angle between force and movement direction (in degrees): \"))\n",
    "angle_radians = math.radians(angle_degrees)\n",
    "\n",
    "work_done = force * distance * math.cos(angle_radians)\n",
    "print(f\"The work done by the force is: {work_done} Joules\")"
   ]
  },
  {
   "cell_type": "markdown",
   "id": "817d48d2-03f9-43b8-a1fd-cb44b3582307",
   "metadata": {},
   "source": [
    "# 20. Heat Transfer:\n",
    "Write a Python program to calculate the amount of heat transferred. Use the formula:\n",
    "### 𝑄 = 𝑚𝑐 (∆T)\n",
    "where:\n",
    "- Q= heat transfer\n",
    "- m = mass\n",
    "- c = specific heat capacity\n",
    "- ΔT\n",
    "- Take m, c, T as inputs from the user."
   ]
  },
  {
   "cell_type": "code",
   "execution_count": 2,
   "id": "50712251-bd90-4ecd-973a-dd639b129c6e",
   "metadata": {},
   "outputs": [
    {
     "name": "stdin",
     "output_type": "stream",
     "text": [
      "Enter the mass (in kilograms):  20\n",
      "Enter the specific heat capacity (in J/kg°C):  5\n",
      "Enter the initial temperature (in °C):  10\n",
      "Enter the final temperature (in °C):  15\n"
     ]
    },
    {
     "name": "stdout",
     "output_type": "stream",
     "text": [
      "The amount of heat transferred is: 500.0 Joules\n"
     ]
    }
   ],
   "source": [
    "mass = float(input(\"Enter the mass (in kilograms): \"))\n",
    "specific_heat = float(input(\"Enter the specific heat capacity (in J/kg°C): \"))\n",
    "initial_temperature = float(input(\"Enter the initial temperature (in °C): \"))\n",
    "final_temperature = float(input(\"Enter the final temperature (in °C): \"))\n",
    "\n",
    "delta_temperature = final_temperature - initial_temperature\n",
    "heat_transfer = mass * specific_heat * delta_temperature\n",
    "print(f\"The amount of heat transferred is: {heat_transfer} Joules\")"
   ]
  },
  {
   "cell_type": "code",
   "execution_count": null,
   "id": "37aac047-faba-49df-a7fd-0a3c1c478b15",
   "metadata": {},
   "outputs": [],
   "source": []
  }
 ],
 "metadata": {
  "kernelspec": {
   "display_name": "Python 3 (ipykernel)",
   "language": "python",
   "name": "python3"
  },
  "language_info": {
   "codemirror_mode": {
    "name": "ipython",
    "version": 3
   },
   "file_extension": ".py",
   "mimetype": "text/x-python",
   "name": "python",
   "nbconvert_exporter": "python",
   "pygments_lexer": "ipython3",
   "version": "3.12.7"
  }
 },
 "nbformat": 4,
 "nbformat_minor": 5
}
