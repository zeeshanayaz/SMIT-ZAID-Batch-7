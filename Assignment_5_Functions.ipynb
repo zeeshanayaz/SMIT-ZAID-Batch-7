{
 "cells": [
  {
   "cell_type": "markdown",
   "id": "b0dace5d-4a46-49c5-8681-b9d52d70c075",
   "metadata": {},
   "source": [
    "# Assignment 4\n",
    "### Name: Muhammad Zeeshan\n",
    "### Email: zeeshanayaz1@gmail.com\n",
    "### Roll: 334256"
   ]
  },
  {
   "cell_type": "markdown",
   "id": "18f1b983-411e-46f2-a529-cfb989662b57",
   "metadata": {
    "jp-MarkdownHeadingCollapsed": true
   },
   "source": [
    "## 1. Write a Python function to find the maximum of three numbers. "
   ]
  },
  {
   "cell_type": "code",
   "execution_count": 5,
   "id": "c82bada2-0288-443d-879a-54a5e4467734",
   "metadata": {},
   "outputs": [],
   "source": [
    "def max_number(numbers):\n",
    "    max_number = numbers[0]\n",
    "    for number in numbers:\n",
    "        if number > max_number:\n",
    "            max_number = number\n",
    "    return max_number"
   ]
  },
  {
   "cell_type": "code",
   "execution_count": 7,
   "id": "7489f105-7ab0-43a0-a47d-be7f40914510",
   "metadata": {},
   "outputs": [
    {
     "data": {
      "text/plain": [
       "5"
      ]
     },
     "execution_count": 7,
     "metadata": {},
     "output_type": "execute_result"
    }
   ],
   "source": [
    "max_number([2,5,4])"
   ]
  },
  {
   "cell_type": "markdown",
   "id": "50527d4b-1ccd-490a-ba54-621303a7103c",
   "metadata": {
    "jp-MarkdownHeadingCollapsed": true
   },
   "source": [
    "## 2. Write a Python function to sum all the numbers in a list.\n",
    "- Sample List : (8, 2, 3, 0, 7)\n",
    "- Expected Output : 20"
   ]
  },
  {
   "cell_type": "code",
   "execution_count": 8,
   "id": "856ced24-f8f9-4936-a821-20f6a6e867bf",
   "metadata": {},
   "outputs": [],
   "source": [
    "def sum_list(numbers):\n",
    "    sum = 0\n",
    "    for number in numbers:\n",
    "        sum+=number\n",
    "    return sum"
   ]
  },
  {
   "cell_type": "code",
   "execution_count": 9,
   "id": "d00dd84f-4eb3-4d20-a517-236a076d5559",
   "metadata": {},
   "outputs": [
    {
     "data": {
      "text/plain": [
       "20"
      ]
     },
     "execution_count": 9,
     "metadata": {},
     "output_type": "execute_result"
    }
   ],
   "source": [
    "sum_list([8,2,3,0,7])"
   ]
  },
  {
   "cell_type": "markdown",
   "id": "91ea3aa6-f899-470f-a8fb-45f52adfd138",
   "metadata": {},
   "source": [
    "## 3. Write a Python function to multiply all the numbers in a list.\n",
    "- Sample List : (8, 2, 3, -1, 7)\n",
    "- Expected Output : -336 "
   ]
  },
  {
   "cell_type": "code",
   "execution_count": 10,
   "id": "6b7cc7c6-7a29-4f5c-9824-a562e1294438",
   "metadata": {},
   "outputs": [],
   "source": [
    "def multiply_list(numbers):\n",
    "    product = 1\n",
    "    for number in numbers:\n",
    "        product = product * number\n",
    "    return product"
   ]
  },
  {
   "cell_type": "code",
   "execution_count": 11,
   "id": "f483b46a-fb9d-413f-9d06-a6f09c70b080",
   "metadata": {},
   "outputs": [
    {
     "data": {
      "text/plain": [
       "-336"
      ]
     },
     "execution_count": 11,
     "metadata": {},
     "output_type": "execute_result"
    }
   ],
   "source": [
    "multiply_list([8,2,3,-1,7])"
   ]
  },
  {
   "cell_type": "markdown",
   "id": "d68f738a-dcd2-49d5-829b-10e37e906660",
   "metadata": {},
   "source": [
    "## 4. Write a Python program to reverse a string.\n",
    "- Sample String : \"1234abcd\"\n",
    "- Expected Output : \"dcba4321\""
   ]
  },
  {
   "cell_type": "code",
   "execution_count": 1,
   "id": "2840ca34-6724-405e-8f52-5d287cb5ccd8",
   "metadata": {},
   "outputs": [],
   "source": [
    "def reverse_string(original_string):\n",
    "    reversed_string = original_string[::-1]\n",
    "    return reversed_string"
   ]
  },
  {
   "cell_type": "code",
   "execution_count": 2,
   "id": "b26d5818-a95f-42f8-ac10-4ed3ec8a9a39",
   "metadata": {},
   "outputs": [
    {
     "data": {
      "text/plain": [
       "'dcba4321'"
      ]
     },
     "execution_count": 2,
     "metadata": {},
     "output_type": "execute_result"
    }
   ],
   "source": [
    "reverse_string(\"1234abcd\")"
   ]
  },
  {
   "cell_type": "markdown",
   "id": "b6789e8e-ce00-430d-8fd0-fb66bf2663c6",
   "metadata": {},
   "source": [
    "## 5. . Write a Python function to calculate the factorial of a number (a non-negative integer). The function accepts the number as an argument. "
   ]
  },
  {
   "cell_type": "code",
   "execution_count": 3,
   "id": "3e75994d-f693-4baf-8160-08a803c39242",
   "metadata": {},
   "outputs": [],
   "source": [
    "def factorial(n):\n",
    "    if n < 0:\n",
    "        return \"Factorial is not defined for negative numbers.\"\n",
    "    result = 1\n",
    "    for i in range(1, n + 1):\n",
    "        result *= i\n",
    "    return result"
   ]
  },
  {
   "cell_type": "code",
   "execution_count": 8,
   "id": "f218a597-3165-4547-b0de-9d9b0dad415a",
   "metadata": {},
   "outputs": [
    {
     "name": "stdin",
     "output_type": "stream",
     "text": [
      "Enter non negative number for factorial:  4\n"
     ]
    },
    {
     "name": "stdout",
     "output_type": "stream",
     "text": [
      "24\n"
     ]
    }
   ],
   "source": [
    "number = int(input('Enter non negative number for factorial: '))\n",
    "print(factorial(number))"
   ]
  },
  {
   "cell_type": "markdown",
   "id": "abc25444-994d-495a-826f-d5207792ee4d",
   "metadata": {},
   "source": [
    "## 6. Write a Python function to check whether a number falls within a given range."
   ]
  },
  {
   "cell_type": "code",
   "execution_count": 9,
   "id": "f763cc44-d62a-48cc-824a-4426df97d5f0",
   "metadata": {},
   "outputs": [],
   "source": [
    "pass"
   ]
  },
  {
   "cell_type": "markdown",
   "id": "18c6cd98-8d3a-4a08-896d-e5b97bb9e3b8",
   "metadata": {},
   "source": [
    "## 7. Write a Python function that accepts a string and counts the number of upper and lower case letters.\n",
    "- Sample String : 'The quick Brow Fox'\n",
    "- Expected Output :\n",
    "     - No. of Upper case characters : 3\n",
    "     - No. of Lower case Characters : 12 "
   ]
  },
  {
   "cell_type": "code",
   "execution_count": 17,
   "id": "c305198a-1c9f-4701-94dd-0535f90e9c13",
   "metadata": {},
   "outputs": [],
   "source": [
    "data = \"The quick Brown Fox\"\n",
    "\n",
    "def count_upper_case(data):\n",
    "    upper_case_count = 0\n",
    "    for char in data:\n",
    "        if char.isupper():\n",
    "            upper_case_count+=1\n",
    "    return upper_case_count\n",
    "\n",
    "def count_lower_case(data):\n",
    "    lower_case_count = 0\n",
    "    for char in data:\n",
    "        if char.islower():\n",
    "            lower_case_count+=1\n",
    "    return lower_case_count"
   ]
  },
  {
   "cell_type": "code",
   "execution_count": 18,
   "id": "421482b2-c211-4ba1-ac43-15ffc0f3a81f",
   "metadata": {},
   "outputs": [
    {
     "name": "stdout",
     "output_type": "stream",
     "text": [
      "The Upper case letter count is 3\n",
      "The Lower case letter count is 13\n"
     ]
    }
   ],
   "source": [
    "print(f'The Upper case letter count is {count_upper_case(data)}')\n",
    "print(f'The Lower case letter count is {count_lower_case(data)}')"
   ]
  },
  {
   "cell_type": "markdown",
   "id": "59ed6ead-7cb0-4384-b496-71a2e4e6c947",
   "metadata": {},
   "source": [
    "## 8. Write a Python function that takes a list and returns a new list with distinct elements from the first list.\n",
    "- Sample List : [1,2,3,3,3,3,4,5]\n",
    "- Unique List : [1, 2, 3, 4, 5] "
   ]
  },
  {
   "cell_type": "code",
   "execution_count": 24,
   "id": "d545aed3-8984-41b5-b67f-9193048309be",
   "metadata": {},
   "outputs": [],
   "source": [
    "def get_unique_elements(input_list):\n",
    "    unique_set = set(input_list) # Converted to Set for unique items\n",
    "    print(unique_set)\n",
    "    return list(unique_set)  # Converted to List for list output"
   ]
  },
  {
   "cell_type": "code",
   "execution_count": 25,
   "id": "552889a1-264c-485b-8fd0-87e8a98d86dd",
   "metadata": {},
   "outputs": [
    {
     "name": "stdout",
     "output_type": "stream",
     "text": [
      "{1, 2, 3, 4, 5}\n"
     ]
    },
    {
     "data": {
      "text/plain": [
       "[1, 2, 3, 4, 5]"
      ]
     },
     "execution_count": 25,
     "metadata": {},
     "output_type": "execute_result"
    }
   ],
   "source": [
    "get_unique_elements([1,2,3,3,3,3,4,5])"
   ]
  },
  {
   "cell_type": "markdown",
   "id": "49abcf16-9fe7-4b56-b8b7-bcf58268c107",
   "metadata": {},
   "source": [
    "## 9. Write a Python function that takes a number as a parameter and checks whether the number is prime or not. \n",
    "- Note : A prime number (or a prime) is a natural number greater than 1 and that has no positive divisors other than 1 and itself. "
   ]
  },
  {
   "cell_type": "code",
   "execution_count": 26,
   "id": "d3e9bc25-f462-4836-a0ed-dbf4993fc33c",
   "metadata": {},
   "outputs": [],
   "source": [
    "def is_prime(number):\n",
    "    if number <= 1:\n",
    "        return False\n",
    "    for i in range(2, int(number**0.5) + 1):\n",
    "        if number % i == 0:\n",
    "            return False\n",
    "    return True"
   ]
  },
  {
   "cell_type": "code",
   "execution_count": 33,
   "id": "896b4f5f-2381-4cfa-8fb1-32a0833ad39f",
   "metadata": {},
   "outputs": [
    {
     "name": "stdin",
     "output_type": "stream",
     "text": [
      "Enter a number to check whether it is prime or not 19\n"
     ]
    },
    {
     "name": "stdout",
     "output_type": "stream",
     "text": [
      "The number 19 is Prime number\n"
     ]
    }
   ],
   "source": [
    "number = int(input('Enter a number to check whether it is prime or not'))\n",
    "is_prime_number = is_prime(number)\n",
    "\n",
    "if is_prime_number:\n",
    "    print(f'The number {number} is Prime number')\n",
    "else:\n",
    "    print(f'The number {number} is not a Prime number')"
   ]
  },
  {
   "cell_type": "markdown",
   "id": "929dc5df-405f-4b03-99f5-89a1dc2fe619",
   "metadata": {},
   "source": [
    "## 10. Write a Python program to print the even numbers from a given list.\n",
    "- Sample List : [1, 2, 3, 4, 5, 6, 7, 8, 9]\n",
    "- Expected Result : [2, 4, 6, 8]"
   ]
  },
  {
   "cell_type": "code",
   "execution_count": 34,
   "id": "87c0a196-c324-4354-8f08-681312a3f452",
   "metadata": {},
   "outputs": [],
   "source": [
    "def pick_even_numbers(numbers):\n",
    "    even_numbers = []\n",
    "    for number in numbers:\n",
    "        if number % 2 == 0:\n",
    "            even_numbers.append(number)\n",
    "    return even_numbers"
   ]
  },
  {
   "cell_type": "code",
   "execution_count": 35,
   "id": "5e42c730-08cc-4679-90b0-1a967b0a9cc8",
   "metadata": {},
   "outputs": [
    {
     "data": {
      "text/plain": [
       "[2, 4, 6, 8]"
      ]
     },
     "execution_count": 35,
     "metadata": {},
     "output_type": "execute_result"
    }
   ],
   "source": [
    "pick_even_numbers([1, 2, 3, 4, 5, 6, 7, 8, 9])"
   ]
  },
  {
   "cell_type": "markdown",
   "id": "7395a12c-e9f0-40fb-9d30-78a4235da1ae",
   "metadata": {},
   "source": [
    "## 11. Write a Python function to check whether a number is \"Perfect\" or not.\n",
    "According to Wikipedia : In number theory, a perfect number is a positive integer\n",
    "that is equal to the sum of its proper positive divisors, that is, the sum of its\n",
    "positive divisors excluding the number itself (also known as its aliquot sum).\n",
    "Equivalently, a perfect number is a number that is half the sum of all of its\n",
    "positive divisors (including itself).\n",
    "Example : The first perfect number is 6, because 1, 2, and 3 are its proper positive\n",
    "divisors, and 1 + 2 + 3 = 6. Equivalently, the number 6 is equal to half the sum of\n",
    "all its positive divisors: ( 1 + 2 + 3 + 6 ) / 2 = 6. The next perfect number is 28 = 1 +\n",
    "2 + 4 + 7 + 14. This is followed by the perfect numbers 496 and 8128. \n"
   ]
  },
  {
   "cell_type": "code",
   "execution_count": 36,
   "id": "e43a8d34-df7b-4c04-8492-851c20932901",
   "metadata": {},
   "outputs": [],
   "source": [
    "pass"
   ]
  },
  {
   "cell_type": "markdown",
   "id": "5733acfa-0842-4309-8b1f-58006ce38147",
   "metadata": {},
   "source": [
    "## 12. Write a Python function that checks whether a passed string is a palindrome or not.\n",
    "- Note: A palindrome is a word, phrase, or sequence that reads the same backward as forward,\n",
    "- e.g., madam or nurses run. "
   ]
  },
  {
   "cell_type": "code",
   "execution_count": 47,
   "id": "141f52ca-e2a1-4cae-8857-3213d1ba18a9",
   "metadata": {},
   "outputs": [],
   "source": [
    "def is_palindrome(s):\n",
    "    processed_s = ''\n",
    "    for char in s:\n",
    "        if char == ' ':\n",
    "            continue\n",
    "        elif char.isupper():\n",
    "            processed_s = processed_s + char.lower()\n",
    "        else:\n",
    "            processed_s = processed_s + char\n",
    "    # print(processed_s)\n",
    "    return processed_s == processed_s[::-1]"
   ]
  },
  {
   "cell_type": "code",
   "execution_count": 50,
   "id": "81b38160-a5fd-4c52-b79c-75e61da950c2",
   "metadata": {},
   "outputs": [
    {
     "data": {
      "text/plain": [
       "True"
      ]
     },
     "execution_count": 50,
     "metadata": {},
     "output_type": "execute_result"
    }
   ],
   "source": [
    "is_palindrome('nurses run')"
   ]
  },
  {
   "cell_type": "markdown",
   "id": "e42666ec-ab92-4c75-a742-e9d6edeff755",
   "metadata": {},
   "source": [
    "# End"
   ]
  },
  {
   "cell_type": "code",
   "execution_count": null,
   "id": "7d322710-a05a-4344-8b5f-da05b0fc5ea2",
   "metadata": {},
   "outputs": [],
   "source": []
  }
 ],
 "metadata": {
  "kernelspec": {
   "display_name": "Python 3 (ipykernel)",
   "language": "python",
   "name": "python3"
  },
  "language_info": {
   "codemirror_mode": {
    "name": "ipython",
    "version": 3
   },
   "file_extension": ".py",
   "mimetype": "text/x-python",
   "name": "python",
   "nbconvert_exporter": "python",
   "pygments_lexer": "ipython3",
   "version": "3.12.7"
  }
 },
 "nbformat": 4,
 "nbformat_minor": 5
}
