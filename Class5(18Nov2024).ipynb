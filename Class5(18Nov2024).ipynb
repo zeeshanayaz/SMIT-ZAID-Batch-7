{
 "cells": [
  {
   "cell_type": "code",
   "execution_count": 11,
   "id": "530a114e-fded-411b-bc8b-c46af469c1b5",
   "metadata": {},
   "outputs": [],
   "source": [
    "thisdict = {\n",
    "  \"brand\": \"Ford\",\n",
    "  \"model\": \"Mustang\",\n",
    "  \"year\": 1964\n",
    "}"
   ]
  },
  {
   "cell_type": "code",
   "execution_count": 13,
   "id": "7e90a893-3769-4938-b117-ab42ad9b7a5d",
   "metadata": {},
   "outputs": [
    {
     "data": {
      "text/plain": [
       "'Ford'"
      ]
     },
     "execution_count": 13,
     "metadata": {},
     "output_type": "execute_result"
    }
   ],
   "source": [
    "thisdict.get(\"brand\")"
   ]
  },
  {
   "cell_type": "code",
   "execution_count": 21,
   "id": "ec17571d-8167-4939-b9c4-2fbc632fabc6",
   "metadata": {},
   "outputs": [
    {
     "data": {
      "text/plain": [
       "dict_keys(['brand', 'model', 'year'])"
      ]
     },
     "execution_count": 21,
     "metadata": {},
     "output_type": "execute_result"
    }
   ],
   "source": [
    "thisdict.keys()"
   ]
  },
  {
   "cell_type": "code",
   "execution_count": 26,
   "id": "bc1595c1-3704-4204-afb5-57f328f65186",
   "metadata": {},
   "outputs": [
    {
     "data": {
      "text/plain": [
       "dict_values(['Ford', 'Mustang', 1964])"
      ]
     },
     "execution_count": 26,
     "metadata": {},
     "output_type": "execute_result"
    }
   ],
   "source": [
    "thisdict.values()"
   ]
  },
  {
   "cell_type": "code",
   "execution_count": 28,
   "id": "6a7144f9-5d1e-42da-9a4b-8b267ec10662",
   "metadata": {},
   "outputs": [
    {
     "data": {
      "text/plain": [
       "('year', 1964)"
      ]
     },
     "execution_count": 28,
     "metadata": {},
     "output_type": "execute_result"
    }
   ],
   "source": [
    "thisdict.popitem()"
   ]
  },
  {
   "cell_type": "code",
   "execution_count": 30,
   "id": "c60b5b41-678b-431a-b23a-8f79ef140f3c",
   "metadata": {},
   "outputs": [
    {
     "data": {
      "text/plain": [
       "{'brand': 'Ford', 'model': 'Mustang'}"
      ]
     },
     "execution_count": 30,
     "metadata": {},
     "output_type": "execute_result"
    }
   ],
   "source": [
    "thisdict"
   ]
  },
  {
   "cell_type": "code",
   "execution_count": 32,
   "id": "64b52f8d-de58-4dd1-bfa2-be3ea2e1db47",
   "metadata": {},
   "outputs": [
    {
     "data": {
      "text/plain": [
       "('model', 'Mustang')"
      ]
     },
     "execution_count": 32,
     "metadata": {},
     "output_type": "execute_result"
    }
   ],
   "source": [
    "thisdict.popitem()"
   ]
  },
  {
   "cell_type": "code",
   "execution_count": 36,
   "id": "b92f0091-3731-4d63-abf2-ea1e707a38d5",
   "metadata": {},
   "outputs": [],
   "source": [
    "thisdict2 = {'person': 'hello', 'person2': 'world'}"
   ]
  },
  {
   "cell_type": "code",
   "execution_count": 38,
   "id": "cbcb169f-7ca9-41c4-ba56-384c0672dfae",
   "metadata": {},
   "outputs": [],
   "source": [
    "thisdict.update(thisdict2)"
   ]
  },
  {
   "cell_type": "code",
   "execution_count": 44,
   "id": "a9202552-185b-4bd8-8deb-0b3c4d45a170",
   "metadata": {},
   "outputs": [
    {
     "data": {
      "text/plain": [
       "{'brand': 'Ford', 'person': 'hello', 'person2': 'world'}"
      ]
     },
     "execution_count": 44,
     "metadata": {},
     "output_type": "execute_result"
    }
   ],
   "source": [
    "thisdict"
   ]
  },
  {
   "cell_type": "markdown",
   "id": "d536e93a-336f-4152-89cd-a79495a00591",
   "metadata": {},
   "source": [
    "# hello world"
   ]
  },
  {
   "cell_type": "code",
   "execution_count": 48,
   "id": "03e74608-3314-4dc2-a81d-54fbc245a157",
   "metadata": {},
   "outputs": [
    {
     "data": {
      "text/plain": [
       "0"
      ]
     },
     "execution_count": 48,
     "metadata": {},
     "output_type": "execute_result"
    }
   ],
   "source": [
    "10 and 0 and 50"
   ]
  },
  {
   "cell_type": "code",
   "execution_count": null,
   "id": "e2d3273d-2fee-406d-956c-bb491385b48d",
   "metadata": {},
   "outputs": [],
   "source": []
  }
 ],
 "metadata": {
  "kernelspec": {
   "display_name": "Python 3 (ipykernel)",
   "language": "python",
   "name": "python3"
  },
  "language_info": {
   "codemirror_mode": {
    "name": "ipython",
    "version": 3
   },
   "file_extension": ".py",
   "mimetype": "text/x-python",
   "name": "python",
   "nbconvert_exporter": "python",
   "pygments_lexer": "ipython3",
   "version": "3.12.7"
  }
 },
 "nbformat": 4,
 "nbformat_minor": 5
}
