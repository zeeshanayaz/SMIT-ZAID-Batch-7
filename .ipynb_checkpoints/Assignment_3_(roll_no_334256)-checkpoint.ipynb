{
 "cells": [
  {
   "cell_type": "markdown",
   "id": "3e6cf07b-cc50-4b2b-b927-882c3b50aac2",
   "metadata": {},
   "source": [
    "# Assignment 3\n",
    "### Name: Muhammad Zeeshan\n",
    "### Email: zeeshanayaz1@gmail.com\n",
    "### Roll: 334256"
   ]
  },
  {
   "cell_type": "markdown",
   "id": "26a850dc-0096-456b-a586-d53d230d4871",
   "metadata": {
    "jp-MarkdownHeadingCollapsed": true
   },
   "source": [
    "# A- Discounts and Pricing"
   ]
  },
  {
   "cell_type": "markdown",
   "id": "40f321c0-2c9d-49e2-a939-e775d0ac9821",
   "metadata": {
    "jp-MarkdownHeadingCollapsed": true
   },
   "source": [
    "## 1. Check Discount Eligibility\n",
    "Write a program to check if a customer is eligible for a discount. If the total purchase is more than $100, apply a 10% discount and display the final price. Otherwise, display the total price as it is."
   ]
  },
  {
   "cell_type": "code",
   "execution_count": 62,
   "id": "4668e500-8350-46da-bf87-bf8537d81369",
   "metadata": {},
   "outputs": [
    {
     "name": "stdin",
     "output_type": "stream",
     "text": [
      "Enter total purchase bill amount($):  200\n"
     ]
    },
    {
     "name": "stdout",
     "output_type": "stream",
     "text": [
      "\n",
      "    Total Purchase Amount:    $200.0\n",
      "    Discount (10%):           $20.0\n",
      "    Final Payable Amount:     $180.0\n",
      "    \n"
     ]
    }
   ],
   "source": [
    "total_purchase = float(input(\"Enter total purchase bill amount($): \"))\n",
    "\n",
    "if(total_purchase > 100):\n",
    "    discount = total_purchase * 10 / 100\n",
    "    final_price = total_purchase - discount\n",
    "    print(f\"\"\"\n",
    "    Total Purchase Amount:    ${total_purchase}\n",
    "    Discount (10%):           ${discount}\n",
    "    Final Payable Amount:     ${final_price}\n",
    "    \"\"\")\n",
    "else:\n",
    "    print(f\"\"\"\n",
    "    Total Purchase Amount:    ${total_purchase}\n",
    "    Discount (0%):            $0\n",
    "    Final Payable Amount:     ${total_purchase}\n",
    "    \"\"\")"
   ]
  },
  {
   "cell_type": "markdown",
   "id": "2e485b91-de8f-404f-917c-04b4933e73dd",
   "metadata": {},
   "source": [
    "## 2. Calculate Bulk Discount\n",
    "If a customer buys more than 5 items, apply a 15% discount on the total price. Otherwise, no discount is applied. Display the total price."
   ]
  },
  {
   "cell_type": "code",
   "execution_count": 31,
   "id": "a926c9ce-75d4-43b2-b9da-c137d9b9a7e1",
   "metadata": {},
   "outputs": [
    {
     "name": "stdin",
     "output_type": "stream",
     "text": [
      "Enter the number of items purchased:  6\n",
      "Enter total bill amount($):  200\n"
     ]
    },
    {
     "name": "stdout",
     "output_type": "stream",
     "text": [
      "\n",
      "    No of Items Purchased:    6 Items\n",
      "    Total Purchase Amount:    $200.0\n",
      "    Discount (15%):           $30.0\n",
      "    Final Payable Amount:     $170.0\n",
      "\n"
     ]
    }
   ],
   "source": [
    "no_of_items = int(input(\"Enter the number of items purchased: \"))\n",
    "total_price = float(input(\"Enter total bill amount($): \"))\n",
    "discounted_amount = 0\n",
    "\n",
    "if(no_of_items > 5):\n",
    "    discounted_amount = total_price * 15 / 100\n",
    "\n",
    "print(f\"\"\"\n",
    "    No of Items Purchased:    {no_of_items} Items\n",
    "    Total Purchase Amount:    ${total_price}\n",
    "    Discount ({'15%' if no_of_items > 5 else '0%'}):           ${discounted_amount}\n",
    "    Final Payable Amount:     ${total_price - discounted_amount}\n",
    "\"\"\")"
   ]
  },
  {
   "cell_type": "markdown",
   "id": "7a36f71c-cd02-4153-af65-caa9cd9717a8",
   "metadata": {},
   "source": [
    "## 3. Membership Discount\n",
    "Check if the customer is a member (is_member = True). Members get a 20% discount; non-members get a 5% discount. Calculate and print the discounted price."
   ]
  },
  {
   "cell_type": "code",
   "execution_count": 40,
   "id": "1e67c510-0f33-4373-9a3e-79c1c155c961",
   "metadata": {},
   "outputs": [
    {
     "name": "stdin",
     "output_type": "stream",
     "text": [
      "Enter your name:  Zeeshan\n",
      "Enter total bill amount($):  200\n"
     ]
    },
    {
     "name": "stdout",
     "output_type": "stream",
     "text": [
      "\n",
      "    Total Purchase Amount:    $200.0\n",
      "    Discount (20%):           $40.0\n",
      "    Final Payable Amount:     $160.0\n",
      "\n"
     ]
    }
   ],
   "source": [
    "members = ['adil', 'bilal', 'zeeshan', 'taha', 'faraz', 'faizan']\n",
    "\n",
    "name = input(\"Enter your name: \")\n",
    "\n",
    "total_price = float(input(\"Enter total bill amount($): \"))\n",
    "discount_percentage = 0\n",
    "\n",
    "if(name.lower() in members):\n",
    "    discount_percentage = 20\n",
    "else:\n",
    "    discount_percentage = 5\n",
    "\n",
    "discounted_amount = total_price * discount_percentage / 100\n",
    "\n",
    "print(f\"\"\"\n",
    "    Total Purchase Amount:    ${total_price}\n",
    "    Discount ({discount_percentage}%):           ${discounted_amount}\n",
    "    Final Payable Amount:     ${total_price - discounted_amount}\n",
    "\"\"\")\n"
   ]
  },
  {
   "cell_type": "markdown",
   "id": "3304add7-cbfb-4566-8387-e9d25d85a412",
   "metadata": {},
   "source": [
    "## 4. Seasonal Sale\n",
    "If today is a holiday (is_holiday = True), apply a 25% discount; otherwise, apply a 10% discount. Calculate the price after discount."
   ]
  },
  {
   "cell_type": "code",
   "execution_count": 45,
   "id": "161889a3-3526-4fbd-8e1b-ac05eb5ee059",
   "metadata": {},
   "outputs": [
    {
     "name": "stdin",
     "output_type": "stream",
     "text": [
      "What day is today:  monday\n",
      "Enter total bill amount($):  200\n"
     ]
    },
    {
     "name": "stdout",
     "output_type": "stream",
     "text": [
      "\n",
      "    Total Purchase Amount:    $200.0\n",
      "    Discount (10%):           $20.0\n",
      "    Final Payable Amount:     $180.0\n",
      "\n"
     ]
    }
   ],
   "source": [
    "holidays = ['saturday', 'sunday']\n",
    "\n",
    "day_today = input(\"What day is today: \")\n",
    "\n",
    "total_price = float(input(\"Enter total bill amount($): \"))\n",
    "discount_percentage = 0\n",
    "\n",
    "if(day_today.lower() in holidays):\n",
    "    discount_percentage = 25\n",
    "else:\n",
    "    discount_percentage = 10\n",
    "\n",
    "discounted_amount = total_price * discount_percentage / 100\n",
    "\n",
    "print(f\"\"\"\n",
    "    Total Purchase Amount:    ${total_price}\n",
    "    Discount ({discount_percentage}%):           ${discounted_amount}\n",
    "    Final Payable Amount:     ${total_price - discounted_amount}\n",
    "\"\"\")"
   ]
  },
  {
   "cell_type": "markdown",
   "id": "25a6bb83-e9d6-49c8-8722-c95e6e328695",
   "metadata": {},
   "source": [
    "## 5. Buy-One-Get-One-Free\n",
    "If a customer buys an even number of items, they get half of them for free. Otherwise,\n",
    "they pay for all. Calculate the number of items the customer has to pay for."
   ]
  },
  {
   "cell_type": "code",
   "execution_count": 52,
   "id": "89b35039-e273-48a8-bd1b-cde50beb1637",
   "metadata": {},
   "outputs": [
    {
     "name": "stdin",
     "output_type": "stream",
     "text": [
      "Enter total number of items:  6\n"
     ]
    },
    {
     "name": "stdout",
     "output_type": "stream",
     "text": [
      "\n",
      "    Congratulations!\n",
      "    You received Buy-One-Get-One-Free offer\n",
      "    You only need to pay against 3 items.\n",
      "    \n"
     ]
    }
   ],
   "source": [
    "no_of_items = int(input(\"Enter total number of items: \"))\n",
    "\n",
    "if(no_of_items % 2 == 0):\n",
    "    print(f\"\"\"\n",
    "    Congratulations!\n",
    "    You received Buy-One-Get-One-Free offer\n",
    "    You only need to pay against {no_of_items // 2} items.\n",
    "    \"\"\")\n",
    "else:\n",
    "    print(f\"You need to pay against {no_of_items} items.\")"
   ]
  },
  {
   "cell_type": "markdown",
   "id": "f56ab83a-f510-44fe-b5bc-d7f26dc59010",
   "metadata": {
    "jp-MarkdownHeadingCollapsed": true
   },
   "source": [
    "# B- Tax Calculations\n"
   ]
  },
  {
   "cell_type": "markdown",
   "id": "40fb32c2-d32c-4480-81c4-acb7d67572e2",
   "metadata": {
    "jp-MarkdownHeadingCollapsed": true
   },
   "source": [
    "## 6. Sales Tax\n",
    "If the price of an item is greater than $500, apply a luxury tax of 15%. Otherwise, apply a standard tax of 8%. Display the total price after tax."
   ]
  },
  {
   "cell_type": "code",
   "execution_count": 79,
   "id": "d0dfe7b4-6df1-4273-854f-e84d7b93c870",
   "metadata": {},
   "outputs": [
    {
     "name": "stdin",
     "output_type": "stream",
     "text": [
      "Enter total amount($):  1000\n"
     ]
    },
    {
     "name": "stdout",
     "output_type": "stream",
     "text": [
      "\n",
      "    Total Amount:             $1000.0\n",
      "    Sales Tax (15%):           $150.0\n",
      "    Final Payable Amount:     $1150.0\n",
      "    \n"
     ]
    }
   ],
   "source": [
    "total_price = float(input(\"Enter total amount($): \"))\n",
    "sales_tax = 0\n",
    "\n",
    "if(total_price > 500):\n",
    "    sales_tax = 15\n",
    "else:\n",
    "    sales_tax = 8\n",
    "\n",
    "sales_tax_amount = total_price * sales_tax / 100\n",
    "\n",
    "print(f\"\"\"\n",
    "    Total Amount:             ${total_price}\n",
    "    Sales Tax ({sales_tax}%):           ${sales_tax_amount}\n",
    "    Final Payable Amount:     ${total_price + sales_tax_amount}\n",
    "    \"\"\")"
   ]
  },
  {
   "cell_type": "markdown",
   "id": "0b4f3ae0-a9f3-4a64-95fc-6d73989aad16",
   "metadata": {},
   "source": [
    "## 7. Income Tax\n",
    "If a person's annual income is above $50,000, they pay 20% tax. Otherwise, they pay 10%. Calculate and display the tax amount."
   ]
  },
  {
   "cell_type": "code",
   "execution_count": 83,
   "id": "b77b828a-085d-42ed-b004-881d4c53d531",
   "metadata": {},
   "outputs": [
    {
     "name": "stdin",
     "output_type": "stream",
     "text": [
      "Enter your Annual Income($):  50000\n"
     ]
    },
    {
     "name": "stdout",
     "output_type": "stream",
     "text": [
      "\n",
      "    Total Annual Income:             $50000.0\n",
      "    Income Tax (10%):           $5000.0\n",
      "    \n"
     ]
    }
   ],
   "source": [
    "annual_income = float(input(\"Enter your Annual Income($): \"))\n",
    "income_tax = 0\n",
    "\n",
    "if(annual_income > 50000):\n",
    "    income_tax = 20\n",
    "else:\n",
    "    income_tax = 10\n",
    "\n",
    "income_tax_amount = annual_income * income_tax / 100\n",
    "\n",
    "print(f\"\"\"\n",
    "    Total Annual Income:             ${annual_income}\n",
    "    Income Tax ({income_tax}%):           ${income_tax_amount}\n",
    "    \"\"\")\n"
   ]
  },
  {
   "cell_type": "markdown",
   "id": "69d833fc-d055-46ff-beea-18c80a2a45bd",
   "metadata": {},
   "source": [
    "## 8. Tax Bracket\n",
    "Write a program to categorize a person into tax brackets:\n",
    "- Income < $30,000  -> Low Tax\n",
    "\n",
    "- $30,000 <= Income < $100,000  ->  Medium Tax\n",
    "\n",
    "- Income >= $100,000  ->  High Tax"
   ]
  },
  {
   "cell_type": "code",
   "execution_count": 104,
   "id": "922daf21-5d2c-433c-a3cc-3e7dfacc120a",
   "metadata": {},
   "outputs": [
    {
     "name": "stdin",
     "output_type": "stream",
     "text": [
      "Enter your Annual Income($):  200000\n"
     ]
    },
    {
     "name": "stdout",
     "output_type": "stream",
     "text": [
      "High Tax\n"
     ]
    }
   ],
   "source": [
    "annual_income = float(input(\"Enter your Annual Income($): \"))\n",
    "\n",
    "if(annual_income < 30000):\n",
    "    print(\"Low Tax\")\n",
    "elif (annual_income >= 30000 and annual_income < 100000):\n",
    "    print(\"Medium Tax\")\n",
    "else:\n",
    "    print(\"High Tax\")"
   ]
  },
  {
   "cell_type": "markdown",
   "id": "b74e9731-e255-459a-a164-c42d5f5812cb",
   "metadata": {},
   "source": [
    "## 9. VAT Calculation\n",
    "If the item is marked as essential (is_essential = True), apply a VAT of 5%. Otherwise, apply a VAT of 12%. Display the final price."
   ]
  },
  {
   "cell_type": "code",
   "execution_count": 141,
   "id": "8c8e5447-1c0e-4466-899a-eca1b8feb40e",
   "metadata": {},
   "outputs": [
    {
     "name": "stdout",
     "output_type": "stream",
     "text": [
      "Item Name       VAT (%)    Price      Final Price    \n",
      "------------------------------------------------------------\n",
      "Bread           5%         $2.50      $180.00        \n",
      "Laptop          12%        $1200.00   $180.00        \n",
      "Milk            5%         $1.80      $180.00        \n",
      "Headphones      12%        $50.00     $180.00        \n",
      "------------------------------------------------------------\n",
      "\n",
      "Total Amount:            $1254.30\n",
      "Total VAT:               $150.22\n",
      "Final Payable Amount:    $1404.51\n",
      "\n"
     ]
    }
   ],
   "source": [
    "items = [\n",
    "    {\"name\": \"Bread\", \"price\": 2.5, \"is_essential\": True},\n",
    "    {\"name\": \"Laptop\", \"price\": 1200, \"is_essential\": False},\n",
    "    {\"name\": \"Milk\", \"price\": 1.8, \"is_essential\": True},\n",
    "    {\"name\": \"Headphones\", \"price\": 50, \"is_essential\": False},\n",
    "]\n",
    "\n",
    "total_price = 0\n",
    "total_vat_amount = 0\n",
    "\n",
    "\n",
    "print(f\"{'Item Name':<15} {'VAT (%)':<10} {'Price':<10} {'Final Price':<15}\")\n",
    "print(\"-\" * 60)\n",
    "for item in items:\n",
    "    name = item[\"name\"]\n",
    "    price = item[\"price\"]\n",
    "    is_essential = item[\"is_essential\"]\n",
    "\n",
    "    total_price += price\n",
    "\n",
    "    vat_amount = 0\n",
    "    vat_percentage = 0\n",
    "    if is_essential:\n",
    "        vat_percentage = 5\n",
    "    else:\n",
    "        vat_percentage = 12\n",
    "\n",
    "    vat_amount = price * vat_percentage / 100\n",
    "    total_vat_amount += vat_amount\n",
    "\n",
    "    print(f\"{name:<15} {f'{vat_percentage}%':<10} ${price:<9.2f} ${final_price:<14.2f}\")\n",
    "\n",
    "print(\"-\" * 60)\n",
    "print(f\"\"\"\n",
    "Total Amount:            ${total_price:.2f}\n",
    "Total VAT:               ${total_vat_amount:.2f}\n",
    "Final Payable Amount:    ${total_price + total_vat_amount:.2f}\n",
    "\"\"\")"
   ]
  },
  {
   "cell_type": "markdown",
   "id": "f6b9ee46-70af-4d6e-812f-7b1e2acff9f5",
   "metadata": {},
   "source": [
    "## 10. Tax-Free Day\n",
    "If today is a tax-free day (tax_free = True), display the original price. Otherwise, add a 7% tax."
   ]
  },
  {
   "cell_type": "code",
   "execution_count": 1,
   "id": "e3532841-39c7-4730-b46c-80362bdb1bc5",
   "metadata": {},
   "outputs": [
    {
     "name": "stdin",
     "output_type": "stream",
     "text": [
      "Enter Price of Item($):  5\n"
     ]
    },
    {
     "name": "stdout",
     "output_type": "stream",
     "text": [
      "\n",
      "Original Price:            $5.00\n",
      "Final Price:               $5.35\n",
      "\n"
     ]
    }
   ],
   "source": [
    "tax_free_day = False\n",
    "original_price = float(input(\"Enter Price of Item($): \"))\n",
    "tax_percentage = 0\n",
    "\n",
    "if not tax_free_day:\n",
    "    tax_percentage = 7\n",
    "\n",
    "tax_price = original_price * tax_percentage / 100\n",
    "\n",
    "print(f\"\"\"\n",
    "Original Price:            ${original_price:.2f}\n",
    "Final Price:               ${original_price + tax_price:.2f}\n",
    "\"\"\")"
   ]
  },
  {
   "cell_type": "markdown",
   "id": "63dc5fd2-ec3c-4537-a817-3c6d97658ec7",
   "metadata": {
    "jp-MarkdownHeadingCollapsed": true
   },
   "source": [
    "# C- Shopping and Billing"
   ]
  },
  {
   "cell_type": "markdown",
   "id": "f544736b-89db-4ff0-80d7-d68f44223bcc",
   "metadata": {},
   "source": [
    "## 11. Free Shipping\n",
    "If the total purchase amount is more than $50, offer free shipping; otherwise, charge $5\n",
    "for shipping. Display the total amount including shipping."
   ]
  },
  {
   "cell_type": "code",
   "execution_count": 12,
   "id": "2fd20a9c-9661-4e18-b9aa-578f5f1f4c44",
   "metadata": {},
   "outputs": [
    {
     "name": "stdin",
     "output_type": "stream",
     "text": [
      "Enter total bill amount:  51\n"
     ]
    },
    {
     "name": "stdout",
     "output_type": "stream",
     "text": [
      "\n",
      "    Total Amount:           $51.0\n",
      "    Shipping Charges:       $0\n",
      "    ------------------------------------\n",
      "    Total Payable Amount:   $51.0\n",
      "\n"
     ]
    }
   ],
   "source": [
    "total_amount = float(input(\"Enter total bill amount: \"))\n",
    "shipping_charges = 0\n",
    "\n",
    "if total_amount <= 50:\n",
    "    shipping_charges = 5\n",
    "\n",
    "print(f\"\"\"\n",
    "    Total Amount:           ${total_amount}\n",
    "    Shipping Charges:       ${shipping_charges}\n",
    "    ------------------------------------\n",
    "    Total Payable Amount:   ${total_amount + shipping_charges}\n",
    "\"\"\")"
   ]
  },
  {
   "cell_type": "markdown",
   "id": "2f184d00-1580-443c-9792-f223ba786b52",
   "metadata": {},
   "source": [
    "## 12. Discount Code\n",
    "If a customer enters the correct discount code (DISCOUNT10), apply a 10% discount. Otherwise, charge the full amount."
   ]
  },
  {
   "cell_type": "code",
   "execution_count": 22,
   "id": "6b51a992-3e54-401a-89fb-7dd28ac839a9",
   "metadata": {},
   "outputs": [
    {
     "name": "stdin",
     "output_type": "stream",
     "text": [
      "Enter total bill amount:  10\n",
      "Enter the discount coupon code:  DISCOUNT10\n"
     ]
    },
    {
     "name": "stdout",
     "output_type": "stream",
     "text": [
      "\n",
      "    Total Amount:           $10.0\n",
      "    Discount:               $1.0\n",
      "    ------------------------------------\n",
      "    Total Payable Amount:   $9.0\n",
      "\n"
     ]
    }
   ],
   "source": [
    "discount_code_10 = \"DISCOUNT10\"\n",
    "\n",
    "total_amount = float(input(\"Enter total bill amount: \"))\n",
    "coupon_code = input(\"Enter the discount coupon code: \")\n",
    "discount_amount = 0;\n",
    "\n",
    "if coupon_code == discount_code_10:\n",
    "    discount_amount = total_amount * 10 / 100\n",
    "\n",
    "\n",
    "print(f\"\"\"\n",
    "    Total Amount:           ${total_amount}\n",
    "    Discount:               ${discount_amount}\n",
    "    ------------------------------------\n",
    "    Total Payable Amount:   ${total_amount - discount_amount}\n",
    "\"\"\")"
   ]
  },
  {
   "cell_type": "markdown",
   "id": "cd52289e-9c4a-4785-86bd-adab44891c8c",
   "metadata": {},
   "source": [
    "## 13. Tiered Discounts\n",
    "Apply discounts based on the total price:\n",
    "- $0–$50: No discount.\n",
    "\n",
    "- $50–$100: 10% discount.\n",
    "\n",
    "- Over $100: 20% discount."
   ]
  },
  {
   "cell_type": "code",
   "execution_count": 27,
   "id": "bfadea2f-9cc5-4feb-8a64-3196aaafa35c",
   "metadata": {},
   "outputs": [
    {
     "name": "stdin",
     "output_type": "stream",
     "text": [
      "Enter total bill amount:  100\n"
     ]
    },
    {
     "name": "stdout",
     "output_type": "stream",
     "text": [
      "\n",
      "    Total Amount:           $100.0\n",
      "    Discount (20%):          $20.0\n",
      "    ------------------------------------\n",
      "    Total Payable Amount:   $80.0\n",
      "\n"
     ]
    }
   ],
   "source": [
    "total_amount = float(input(\"Enter total bill amount: \"))\n",
    "discount_amount = 0;\n",
    "discount_percentage = 0\n",
    "\n",
    "if total_amount < 50:\n",
    "    discount_percentage = 0\n",
    "elif total_amount >= 50 and total_amount < 100:\n",
    "    discount_percentage = 10\n",
    "else:\n",
    "    discount_percentage =  20\n",
    "\n",
    "discount_amount = total_amount * discount_percentage / 100\n",
    "\n",
    "\n",
    "print(f\"\"\"\n",
    "    Total Amount:           ${total_amount}\n",
    "    Discount ({discount_percentage}%):          ${discount_amount}\n",
    "    ------------------------------------\n",
    "    Total Payable Amount:   ${total_amount - discount_amount}\n",
    "\"\"\")"
   ]
  },
  {
   "cell_type": "markdown",
   "id": "25d759f0-839b-4e5e-befe-88fbb2686c02",
   "metadata": {},
   "source": [
    "## 14. Minimum Purchase Requirement\n",
    "If the total amount is less than $20, display a message: \"Minimum purchase of $20 is required.\" Otherwise, display the total amount."
   ]
  },
  {
   "cell_type": "code",
   "execution_count": 36,
   "id": "8404ec00-da51-428a-b510-cb014bdad491",
   "metadata": {},
   "outputs": [
    {
     "name": "stdin",
     "output_type": "stream",
     "text": [
      "Enter total bill amount:  50\n"
     ]
    },
    {
     "name": "stdout",
     "output_type": "stream",
     "text": [
      "Total Amount:           $50.0\n"
     ]
    }
   ],
   "source": [
    "total_amount = float(input(\"Enter total bill amount: \"))\n",
    "\n",
    "if total_amount < 20:\n",
    "    print(\"Minimum purchase of $20 is required.\")\n",
    "else:\n",
    "    print(f\"Total Amount:           ${total_amount}\")"
   ]
  },
  {
   "cell_type": "markdown",
   "id": "a33ffbe5-2833-4687-af62-befc9abe7262",
   "metadata": {},
   "source": [
    "## 15. Loyalty Points\n",
    "If a customer is a loyal member (is_loyal = True), they earn double loyalty points for\n",
    "their purchase. Otherwise, they earn standard points."
   ]
  },
  {
   "cell_type": "code",
   "execution_count": 10,
   "id": "83c619aa-375a-44cc-a51f-12227d0214ab",
   "metadata": {},
   "outputs": [
    {
     "name": "stdin",
     "output_type": "stream",
     "text": [
      "Enter your name:  Zeeshan\n",
      "Enter total purchase amount:  100\n"
     ]
    },
    {
     "name": "stdout",
     "output_type": "stream",
     "text": [
      "Your new loyalty points are 200.0\n"
     ]
    }
   ],
   "source": [
    "loyal_customers = ['zeeshan', 'asad', 'ali', 'ahmed']\n",
    "name = input(\"Enter your name: \").lower()\n",
    "is_loyal = name in loyal_customers\n",
    "\n",
    "total_amount = float(input(\"Enter total purchase amount: \"))\n",
    "points_per_dollar = 1\n",
    "\n",
    "if is_loyal:\n",
    "    loyalty_points = total_amount * points_per_dollar * 2\n",
    "else:\n",
    "    loyalty_points = total_amount * points_per_dollar\n",
    "\n",
    "print(f\"Your new loyalty points are {loyalty_points}\")"
   ]
  },
  {
   "cell_type": "markdown",
   "id": "aff39f80-b2d3-4c70-93bf-388e80833cbc",
   "metadata": {
    "jp-MarkdownHeadingCollapsed": true
   },
   "source": [
    "# D- Travel and Tickets"
   ]
  },
  {
   "cell_type": "markdown",
   "id": "2abba0bf-e083-4659-8e92-9f10a74f6ef7",
   "metadata": {},
   "source": [
    "## 16. Travel Discount\n",
    "If a person is traveling more than 500 miles, offer a 20% discount on ticket price.\n",
    "Otherwise, charge the full amount."
   ]
  },
  {
   "cell_type": "code",
   "execution_count": 18,
   "id": "5b8b64bf-c306-488f-bbe3-26441220584e",
   "metadata": {},
   "outputs": [
    {
     "name": "stdin",
     "output_type": "stream",
     "text": [
      "Enter your traveling distance in miles:  750\n"
     ]
    },
    {
     "name": "stdout",
     "output_type": "stream",
     "text": [
      "\n",
      "    Ticket Price:           $1000\n",
      "    Discount:               $200.0\n",
      "    Total Payable:          $800.0\n",
      "\n"
     ]
    }
   ],
   "source": [
    "ticket_price = 1000\n",
    "miles_cover = float(input(\"Enter your traveling distance in miles: \"))\n",
    "discount = 0\n",
    "\n",
    "if miles_cover > 500:\n",
    "    discount = ticket_price * 20 / 100\n",
    "\n",
    "print(f\"\"\"\n",
    "    Ticket Price:           ${ticket_price}\n",
    "    Discount:               ${discount}\n",
    "    Total Payable:          ${ticket_price - discount}\n",
    "\"\"\")"
   ]
  },
  {
   "cell_type": "markdown",
   "id": "a1e8fcaf-0cea-4cf6-81e5-8a346601e977",
   "metadata": {},
   "source": [
    "## 17. Child or Senior Discount\n",
    "If a passenger is under 12 or over 60 years old, apply a 15% discount on the ticket price.\n",
    "Otherwise, charge the full price."
   ]
  },
  {
   "cell_type": "code",
   "execution_count": 30,
   "id": "3e24d2d8-c621-46c8-9478-347de634fad9",
   "metadata": {},
   "outputs": [
    {
     "name": "stdin",
     "output_type": "stream",
     "text": [
      "Enter your age:  70\n"
     ]
    },
    {
     "name": "stdout",
     "output_type": "stream",
     "text": [
      "\n",
      "    Ticket Price:           $1000\n",
      "    Discount:               $150.0\n",
      "    Total Payable:          $850.0\n",
      "\n"
     ]
    }
   ],
   "source": [
    "ticket_price = 1000\n",
    "age = int(input(\"Enter your age: \"))\n",
    "discount = 0\n",
    "\n",
    "if (age < 12) or (age > 60):\n",
    "    discount = ticket_price * 15 / 100\n",
    "\n",
    "print(f\"\"\"\n",
    "    Ticket Price:           ${ticket_price}\n",
    "    Discount:               ${discount}\n",
    "    Total Payable:          ${ticket_price - discount}\n",
    "\"\"\")"
   ]
  },
  {
   "cell_type": "markdown",
   "id": "ad808090-f25a-47db-9832-9f3888d1e866",
   "metadata": {},
   "source": [
    "## 18. Ticket Type Pricing\n",
    "If the ticket is for a weekend (is_weekend = True), add a 10% surcharge. Otherwise,\n",
    "charge the standard price."
   ]
  },
  {
   "cell_type": "code",
   "execution_count": 41,
   "id": "d390c70b-4dbe-45f9-b622-7689d6066794",
   "metadata": {},
   "outputs": [
    {
     "name": "stdin",
     "output_type": "stream",
     "text": [
      "If it is weekend? (Y/N):  yes\n"
     ]
    },
    {
     "name": "stdout",
     "output_type": "stream",
     "text": [
      "\n",
      "    Ticket Price:           $1000\n",
      "    Surcharge:              $100.0\n",
      "    Total Payable:          $1100.0\n",
      "\n"
     ]
    }
   ],
   "source": [
    "ticket_price = 1000\n",
    "is_weekend = input(\"If it is weekend? (Y/N): \").lower()\n",
    "surcharge = 0\n",
    "\n",
    "if is_weekend == 'y' or is_weekend == 'yes':\n",
    "    surcharge = ticket_price * 10 / 100\n",
    "\n",
    "print(f\"\"\"\n",
    "    Ticket Price:           ${ticket_price}\n",
    "    Surcharge:              ${surcharge}\n",
    "    Total Payable:          ${ticket_price + surcharge}\n",
    "\"\"\")"
   ]
  },
  {
   "cell_type": "markdown",
   "id": "9b68b37e-1b39-4101-9fc4-135b162f6725",
   "metadata": {},
   "source": [
    "## 19. Baggage Fee\n",
    "If the total baggage weight is over 20kg, charge $10 per extra kilogram. Otherwise, no\n",
    "extra fee."
   ]
  },
  {
   "cell_type": "code",
   "execution_count": 44,
   "id": "5f830579-1362-4411-b79c-e041e5f68314",
   "metadata": {},
   "outputs": [
    {
     "name": "stdin",
     "output_type": "stream",
     "text": [
      "Enter your Baggage Weight(kg):   24\n"
     ]
    },
    {
     "name": "stdout",
     "output_type": "stream",
     "text": [
      "\n",
      "    Ticket Price:           $1000\n",
      "    Extra Baggage Charge:   $40.0\n",
      "    Total Payable:          $1040.0\n",
      "\n"
     ]
    }
   ],
   "source": [
    "ticket_price = 1000\n",
    "baggage_weight = float(input(\"Enter your Baggage Weight(kg):  \"))\n",
    "extra_baggage_charge = 0\n",
    "\n",
    "if baggage_weight > 20:\n",
    "    extra_baggage_charge = (baggage_weight - 20) * 10\n",
    "\n",
    "\n",
    "print(f\"\"\"\n",
    "    Ticket Price:           ${ticket_price}\n",
    "    Extra Baggage Charge:   ${extra_baggage_charge}\n",
    "    Total Payable:          ${ticket_price + extra_baggage_charge}\n",
    "\"\"\")"
   ]
  },
  {
   "cell_type": "markdown",
   "id": "c17112b4-1b2a-4479-8369-45c2194a401f",
   "metadata": {},
   "source": [
    "## 20. Early Bird Discount\n",
    "If a ticket is booked more than 30 days in advance, apply a 10% discount. Otherwise,\n",
    "charge the full price."
   ]
  },
  {
   "cell_type": "code",
   "execution_count": 49,
   "id": "a2da8513-aacf-4789-be16-61a5f5dc3dc8",
   "metadata": {},
   "outputs": [
    {
     "name": "stdin",
     "output_type": "stream",
     "text": [
      "In how many days you are planning to travel?  40\n"
     ]
    },
    {
     "name": "stdout",
     "output_type": "stream",
     "text": [
      "\n",
      "    Ticket Price:           $1000\n",
      "    Discount:               $100.0\n",
      "    Total Payable:          $900.0\n",
      "\n"
     ]
    }
   ],
   "source": [
    "ticket_price = 1000\n",
    "days_remaining_to_travel = int(input(\"In how many days you are planning to travel? \"))\n",
    "discount = 0\n",
    "\n",
    "if(days_remaining_to_travel > 30):\n",
    "    discount = ticket_price * 10 / 100\n",
    "\n",
    "\n",
    "print(f\"\"\"\n",
    "    Ticket Price:           ${ticket_price}\n",
    "    Discount:               ${discount}\n",
    "    Total Payable:          ${ticket_price - discount}\n",
    "\"\"\")"
   ]
  },
  {
   "cell_type": "markdown",
   "id": "c01bace4-12ff-4bc4-911c-8cf09e33697f",
   "metadata": {},
   "source": [
    "# E- Grades and Performance"
   ]
  },
  {
   "cell_type": "markdown",
   "id": "b8dd8db9-9def-45e3-b551-44d2518ef28b",
   "metadata": {},
   "source": [
    "## 21. Pass or Fail\n",
    "If a student scores 40 or more, print &quot;Pass&quot;. Otherwise, print &quot;Fail&quot;."
   ]
  },
  {
   "cell_type": "code",
   "execution_count": 59,
   "id": "17348244-693c-450e-9c98-8ca9c70a3dbd",
   "metadata": {},
   "outputs": [
    {
     "name": "stdin",
     "output_type": "stream",
     "text": [
      "enter your marks:  55\n"
     ]
    },
    {
     "name": "stdout",
     "output_type": "stream",
     "text": [
      "Pass\n"
     ]
    }
   ],
   "source": [
    "score = float(input(\"enter your marks: \"))\n",
    "\n",
    "if score >= 40:\n",
    "    print(\"Pass\")\n",
    "else:\n",
    "    print(\"Fail\")"
   ]
  },
  {
   "cell_type": "markdown",
   "id": "09e6a0bf-9481-46bd-b62b-751a67e7a689",
   "metadata": {},
   "source": [
    "## 22. Grade Assignment\n",
    "Based on a student&#39;s score, assign grades:\n",
    "\n",
    " - 90 and above: A\n",
    " - 75–89: B\n",
    " - 50–74: C\n",
    " - Below 50: F"
   ]
  },
  {
   "cell_type": "code",
   "execution_count": 6,
   "id": "06415317-722a-4875-beb3-a1f9394c7563",
   "metadata": {},
   "outputs": [
    {
     "name": "stdin",
     "output_type": "stream",
     "text": [
      "enter your marks:  76\n"
     ]
    },
    {
     "name": "stdout",
     "output_type": "stream",
     "text": [
      "Grade: B\n"
     ]
    }
   ],
   "source": [
    "score = float(input(\"enter your marks: \"))\n",
    "grade = None\n",
    "if score >= 90:\n",
    "    grade = \"A\"\n",
    "elif score >= 75:\n",
    "    grade = \"B\"\n",
    "elif score >= 50:\n",
    "    grade = \"C\"\n",
    "else:\n",
    "    grade = \"F\"\n",
    "\n",
    "print(f\"Grade: {grade}\")"
   ]
  },
  {
   "cell_type": "markdown",
   "id": "1d91efc3-0ab0-43f9-8e6a-be5303e32743",
   "metadata": {},
   "source": [
    "## 23. Bonus Marks\n",
    "If a student completes all assignments, add 5 bonus marks to their score. Otherwise, no\n",
    "bonus marks."
   ]
  },
  {
   "cell_type": "code",
   "execution_count": 9,
   "id": "2bf312b9-e677-4a43-84ee-5c0b33dde5da",
   "metadata": {},
   "outputs": [
    {
     "name": "stdin",
     "output_type": "stream",
     "text": [
      "enter your marks:  50\n",
      "Have you completed all your assignment? (Y/N) y\n"
     ]
    },
    {
     "name": "stdout",
     "output_type": "stream",
     "text": [
      "Your Total score is 55.0\n"
     ]
    }
   ],
   "source": [
    "score = float(input(\"enter your marks: \"))\n",
    "assignment = input(\"Have you completed all your assignment? (Y/N)\").lower()\n",
    "bonus_marks = 0\n",
    "\n",
    "if (assignment == 'y') or (assignment == 'yes'):\n",
    "    bonus_marks = 5\n",
    "\n",
    "print(f\"Your Total score is {score + bonus_marks}\")"
   ]
  },
  {
   "cell_type": "markdown",
   "id": "0d66d78a-c47c-48ba-87df-485b1d8c2bac",
   "metadata": {},
   "source": [
    "## 24. Attendance Eligibility\n",
    "If a student&#39;s attendance is 75% or more, they are eligible to take the exam. Otherwise,\n",
    "they are not."
   ]
  },
  {
   "cell_type": "code",
   "execution_count": 18,
   "id": "9ba44cf5-b630-400a-8946-a67fa558e62b",
   "metadata": {},
   "outputs": [
    {
     "name": "stdin",
     "output_type": "stream",
     "text": [
      "Enter your attendance in %:  80\n"
     ]
    },
    {
     "name": "stdout",
     "output_type": "stream",
     "text": [
      "You are eligible to take the exam\n"
     ]
    }
   ],
   "source": [
    "attendance_percentage = float(input(\"Enter your attendance in %: \"))\n",
    "\n",
    "if attendance_percentage >= 75:\n",
    "    print(\"You are eligible to take the exam\")\n",
    "else:\n",
    "    print(\"You are not eligible to take the exam\")"
   ]
  },
  {
   "cell_type": "markdown",
   "id": "2a3c2467-a50d-46a7-885b-a82036bf3f75",
   "metadata": {},
   "source": [
    "## 25. Scholarship Eligibility\n",
    "If a student&#39;s grade is &quot;A&quot; and their annual family income is below $30,000, they are\n",
    "eligible for a scholarship. Otherwise, they are not."
   ]
  },
  {
   "cell_type": "code",
   "execution_count": 27,
   "id": "ca9b1be9-1b6f-4f74-b594-764cca8f5dd6",
   "metadata": {},
   "outputs": [
    {
     "name": "stdin",
     "output_type": "stream",
     "text": [
      "enter your marks:  90\n"
     ]
    },
    {
     "name": "stdout",
     "output_type": "stream",
     "text": [
      "Grade: A\n"
     ]
    },
    {
     "name": "stdin",
     "output_type": "stream",
     "text": [
      "Enter your annual family income:  25000\n"
     ]
    },
    {
     "name": "stdout",
     "output_type": "stream",
     "text": [
      "You are eligible for a scholarship\n"
     ]
    }
   ],
   "source": [
    "score = float(input(\"enter your marks: \"))\n",
    "grade = None\n",
    "if score >= 90:\n",
    "    grade = \"A\"\n",
    "elif score >= 75:\n",
    "    grade = \"B\"\n",
    "elif score >= 50:\n",
    "    grade = \"C\"\n",
    "else:\n",
    "    grade = \"F\"\n",
    "\n",
    "print(f\"Grade: {grade}\")\n",
    "\n",
    "if grade.lower() == \"a\":\n",
    "    family_income = float(input(\"Enter your annual family income: \"))\n",
    "    if family_income < 30000:\n",
    "        print(\"You are eligible for a scholarship\")\n",
    "    else:\n",
    "        print(\"You are not eligible for a scholarship\")\n",
    "else:\n",
    "    pass"
   ]
  },
  {
   "cell_type": "code",
   "execution_count": null,
   "id": "6ca048f4-e49c-4d71-b530-e5e9db886106",
   "metadata": {},
   "outputs": [],
   "source": []
  }
 ],
 "metadata": {
  "kernelspec": {
   "display_name": "Python 3 (ipykernel)",
   "language": "python",
   "name": "python3"
  },
  "language_info": {
   "codemirror_mode": {
    "name": "ipython",
    "version": 3
   },
   "file_extension": ".py",
   "mimetype": "text/x-python",
   "name": "python",
   "nbconvert_exporter": "python",
   "pygments_lexer": "ipython3",
   "version": "3.12.7"
  }
 },
 "nbformat": 4,
 "nbformat_minor": 5
}
