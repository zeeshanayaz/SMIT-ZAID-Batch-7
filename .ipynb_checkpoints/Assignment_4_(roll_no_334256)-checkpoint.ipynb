{
 "cells": [
  {
   "cell_type": "markdown",
   "id": "7b1e167c-50f9-4762-a480-0c4b60c16afd",
   "metadata": {},
   "source": [
    "# Assignment 4\n",
    "### Name: Muhammad Zeeshan\n",
    "### Email: zeeshanayaz1@gmail.com\n",
    "### Roll: 334256"
   ]
  },
  {
   "cell_type": "markdown",
   "id": "050792bc-805c-45f9-9244-1eb6035c0e48",
   "metadata": {},
   "source": [
    "# A. Conditional Structures"
   ]
  },
  {
   "cell_type": "markdown",
   "id": "abd3061b-4fb5-48fe-8d77-96be312361e0",
   "metadata": {},
   "source": [
    "#### 1. Write a program that prompts the user to input a number and display if the number is even or odd."
   ]
  },
  {
   "cell_type": "code",
   "execution_count": 18,
   "id": "322877ab-f31c-4e73-af78-a053126d98bf",
   "metadata": {},
   "outputs": [
    {
     "name": "stdin",
     "output_type": "stream",
     "text": [
      "Enter the number:  5\n"
     ]
    },
    {
     "name": "stdout",
     "output_type": "stream",
     "text": [
      "5 is Odd\n"
     ]
    }
   ],
   "source": [
    "number = int(input(\"Enter the number: \"))\n",
    "if number % 2 == 0:\n",
    "    print(f'{number} is Even')\n",
    "else:\n",
    "    print(f'{number} is Odd')"
   ]
  },
  {
   "cell_type": "markdown",
   "id": "120f076a-c0b8-43cb-9d51-77363972b7ed",
   "metadata": {},
   "source": [
    "#### 2. Write a Python program that takes an age as input and determines whether a person is eligible to vote. If the age is 18 or above, print \"You are eligible to vote.\" Otherwise, print \"You are not eligible to vote yet.\"."
   ]
  },
  {
   "cell_type": "code",
   "execution_count": 29,
   "id": "5b3be1d1-e7d5-4fd1-883e-5c9f1097c649",
   "metadata": {},
   "outputs": [
    {
     "name": "stdin",
     "output_type": "stream",
     "text": [
      "Enter your age:  18\n"
     ]
    },
    {
     "name": "stdout",
     "output_type": "stream",
     "text": [
      "You are eligible to vote.\n"
     ]
    }
   ],
   "source": [
    "age = int(input(\"Enter your age: \"))\n",
    "\n",
    "if age >= 18:\n",
    "    print(\"You are eligible to vote.\")\n",
    "else:\n",
    "    print(\"You are not eligible to vote yet.\")"
   ]
  },
  {
   "cell_type": "markdown",
   "id": "db26139e-f591-4074-a660-b6c1bed4eafb",
   "metadata": {},
   "source": [
    "#### 3. Write a program that prompts the user to input two integers and outputs the largest."
   ]
  },
  {
   "cell_type": "code",
   "execution_count": 36,
   "id": "e8df7428-4868-47fa-9d06-458ab9b1ae20",
   "metadata": {},
   "outputs": [
    {
     "name": "stdin",
     "output_type": "stream",
     "text": [
      "Enter first number:  10\n",
      "Enter second number:  9\n"
     ]
    },
    {
     "name": "stdout",
     "output_type": "stream",
     "text": [
      "10 is largest\n"
     ]
    }
   ],
   "source": [
    "number1 = int(input(\"Enter first number: \"))\n",
    "number2 = int(input(\"Enter second number: \"))\n",
    "\n",
    "if number1 == number2:\n",
    "    print(\"Both are equal.\")\n",
    "elif number1 > number2:\n",
    "    print(f'{number1} is largest')\n",
    "else:\n",
    "    print(f'{number2} is largest')"
   ]
  },
  {
   "cell_type": "markdown",
   "id": "0fd9a512-a1be-4237-b283-a3e714c085ea",
   "metadata": {},
   "source": [
    "#### 4. Write a program that prompts the user to enter a number and determines whether it is positive, negative, or zero. The program should print \"Positive\" if the number is greater than 0, \"Negative\" if the number is less than 0, and \"Zero\" if the number is 0."
   ]
  },
  {
   "cell_type": "code",
   "execution_count": 43,
   "id": "67b14761-a8eb-453d-bd08-e7ed3421831e",
   "metadata": {},
   "outputs": [
    {
     "name": "stdin",
     "output_type": "stream",
     "text": [
      "Enter the number:  -2\n"
     ]
    },
    {
     "name": "stdout",
     "output_type": "stream",
     "text": [
      "Negative\n"
     ]
    }
   ],
   "source": [
    "number = int(input(\"Enter the number: \"))\n",
    "\n",
    "if number == 0:\n",
    "    print(\"Zero\")\n",
    "elif number > 0:\n",
    "    print(\"Positive\")\n",
    "else:\n",
    "    print(\"Negative\")"
   ]
  },
  {
   "cell_type": "markdown",
   "id": "dc4f229a-deed-4daf-809c-f3c74cfa73b4",
   "metadata": {},
   "source": [
    "#### 5. Write a program that prompts the user to enter their age and prints the corresponding age group. The program should use the following age groups:\n",
    "- 0-12: Child\n",
    "- 13-19: Teenager\n",
    "- 20-59: Adult\n",
    "- 60 and above: Senior Citizen"
   ]
  },
  {
   "cell_type": "code",
   "execution_count": 53,
   "id": "4ce47268-41cb-4bdd-bf54-c6b431470ef5",
   "metadata": {},
   "outputs": [
    {
     "name": "stdin",
     "output_type": "stream",
     "text": [
      "Enter your age:  13\n"
     ]
    },
    {
     "name": "stdout",
     "output_type": "stream",
     "text": [
      "Teenager\n"
     ]
    }
   ],
   "source": [
    "age = int(input(\"Enter your age: \"))\n",
    "\n",
    "if age < 13:\n",
    "    print('Child')\n",
    "elif age < 19:\n",
    "    print('Teenager')\n",
    "elif age < 59:\n",
    "    print('adult')\n",
    "else:\n",
    "    print('Senior Citizen')"
   ]
  },
  {
   "cell_type": "markdown",
   "id": "c9ca4381-62ab-498e-8d58-02e14b1bb72b",
   "metadata": {},
   "source": [
    "#### 6. Write a program that prompts the user to input a number from 1 to 7. The program should display the corresponding day for the given number. For example, if the user= types 1, the output should be Sunday. If the user types 7, the output should be Saturday. If the number is not between 1 to 7 user should get error message as shown in sample output."
   ]
  },
  {
   "cell_type": "code",
   "execution_count": 64,
   "id": "bf0a1d45-9214-459d-b90c-167f8898c66a",
   "metadata": {},
   "outputs": [
    {
     "name": "stdin",
     "output_type": "stream",
     "text": [
      "Enter a number:  1\n"
     ]
    },
    {
     "name": "stdout",
     "output_type": "stream",
     "text": [
      "1 -> Sunday\n"
     ]
    }
   ],
   "source": [
    "day_number = int(input(\"Enter a number: \"))\n",
    "\n",
    "if day_number == 1:\n",
    "    print(f\"{day_number} -> Sunday\")\n",
    "elif day_number == 2:\n",
    "    print(f\"{day_number} -> Monday\")\n",
    "elif day_number == 3:\n",
    "    print(f\"{day_number} -> Tuesday\")\n",
    "elif day_number == 4:\n",
    "    print(f\"{day_number} -> Wednesday\")\n",
    "elif day_number == 5:\n",
    "    print(f\"{day_number} -> Thursday\")\n",
    "elif day_number == 6:\n",
    "    print(f\"{day_number} -> Friday\")\n",
    "elif day_number == 7:\n",
    "    print(f\"{day_number} -> Saturday\")\n",
    "else:\n",
    "    print(\"Out of bound\")"
   ]
  },
  {
   "cell_type": "markdown",
   "id": "10c03bba-4cf0-4236-b582-23dd94746764",
   "metadata": {},
   "source": [
    "#### 7. Write a program that prompts the user to enter their weight (in kilograms) and height (in meters). The program should calculate the Body Mass Index (BMI) using the formula: BMI = weight / (height * height). The program should then classify the BMI into one of the following categories:\n",
    "- less than 18.5 - Underweight\n",
    "- BMI between 18.5 and 24.9 - Normal weight\n",
    "- BMI between 25 and 29.9 - Overweight\n",
    "- BMI 30 or greater - Obesity"
   ]
  },
  {
   "cell_type": "code",
   "execution_count": 69,
   "id": "a58335f0-144b-45dc-9c72-866f5061f9b3",
   "metadata": {},
   "outputs": [
    {
     "name": "stdin",
     "output_type": "stream",
     "text": [
      "Enter your weight in kg:  60\n",
      "Enter your height in meters:  1.7\n"
     ]
    },
    {
     "name": "stdout",
     "output_type": "stream",
     "text": [
      "Normal weight\n"
     ]
    }
   ],
   "source": [
    "weight_in_kg = float(input(\"Enter your weight in kg: \"))\n",
    "height_in_meter = float(input(\"Enter your height in meters: \"))\n",
    "bmi = weight_in_kg / height_in_meter ** 2\n",
    "\n",
    "if bmi < 18.5:\n",
    "    print(\"Underweight\")\n",
    "elif bmi <= 24.9:\n",
    "    print(\"Normal weight\")\n",
    "elif bmi <= 29.9:\n",
    "    print(\"Overweight\")\n",
    "else:\n",
    "    print(\"Obesity\")"
   ]
  },
  {
   "cell_type": "markdown",
   "id": "84957126-3447-4182-ab24-27620210e9a5",
   "metadata": {},
   "source": [
    "#### 8. The marks obtained by a student in 3 different subjects are input by the user. Your program should calculate the average of subjects and display the grade. The student gets a grade as per the following rules:\n",
    "Average Grade\n",
    "- 90-100 A\n",
    "- 80-89 B\n",
    "- 70-79 C\n",
    "- 60-69 D\n",
    "- 0-59 F"
   ]
  },
  {
   "cell_type": "code",
   "execution_count": 2,
   "id": "5d8ad8a8-9b85-4f22-95fc-317e76c5221e",
   "metadata": {},
   "outputs": [
    {
     "name": "stdin",
     "output_type": "stream",
     "text": [
      "Enter marks of Subject 1:  50\n",
      "Enter marks of Subject 2:  50\n",
      "Enter marks of Subject 3:  50\n"
     ]
    },
    {
     "name": "stdout",
     "output_type": "stream",
     "text": [
      "\n",
      "    Subject 1:                   50.0/100\n",
      "    Subject 2:                   50.0/100\n",
      "    Subject 3:                   50.0/100\n",
      "    --------------------------------\n",
      "    Total Obtained Marks:        150.0/300\n",
      "    Average:                     50.0\n",
      "\n"
     ]
    }
   ],
   "source": [
    "subject1 = float(input(\"Enter marks of Subject 1: \"))\n",
    "subject2 = float(input(\"Enter marks of Subject 2: \"))\n",
    "subject3 = float(input(\"Enter marks of Subject 3: \"))\n",
    "\n",
    "total_obt_marks = subject1 + subject2 + subject3\n",
    "average = total_obt_marks / 300 * 100\n",
    "\n",
    "print(f\"\"\"\n",
    "    Subject 1:                   {subject1}/100\n",
    "    Subject 2:                   {subject2}/100\n",
    "    Subject 3:                   {subject3}/100\n",
    "    --------------------------------\n",
    "    Total Obtained Marks:        {total_obt_marks}/300\n",
    "    Average:                     {average}\n",
    "\"\"\")"
   ]
  },
  {
   "cell_type": "markdown",
   "id": "c0f9fcc7-ce16-408c-b2f5-323c45be8ced",
   "metadata": {},
   "source": [
    "#### 9. The roots of the quadratic equation ax2+ bx + c = 0, a ≠ 0 are given by the following\n",
    "\n",
    "formula:\n",
    "\n",
    "In this formula, the term b2\n",
    "\n",
    "- 4ac is called the discriminant. If b2\n",
    "\n",
    "- 4ac = 0, then the\n",
    "\n",
    "equation has two equal roots.\n",
    "If b2\n",
    "- 4ac > 0, the equation has two real roots. If b2\n",
    "\n",
    "- 4ac < 0, the equation has two\n",
    "\n",
    "complex roots.\n",
    "Write a program that prompts the user to input the value of a (the coefficient of x2\n",
    "), b\n",
    "(the coefficient of x), and c (the constant term) and outputs the roots of the quadratic\n",
    "equation."
   ]
  },
  {
   "cell_type": "code",
   "execution_count": 12,
   "id": "33c41012-a80f-43f2-8e48-6d5860b0c268",
   "metadata": {},
   "outputs": [
    {
     "name": "stdin",
     "output_type": "stream",
     "text": [
      "Enter the coefficient a:  4\n",
      "Enter the coefficient b:  -4\n",
      "Enter the coefficient c:  4\n"
     ]
    },
    {
     "name": "stdout",
     "output_type": "stream",
     "text": [
      "The roots are (0.5+0.8660254037844386j) and (0.5-0.8660254037844386j), and The Equation has two complex roots.\n"
     ]
    }
   ],
   "source": [
    "import cmath\n",
    "\n",
    "def quadratic_root(a, b, c):\n",
    "    discriminant = b**2 - 4*a*c\n",
    "    rootType = None\n",
    "    if discriminant == 0:\n",
    "        rootType = 'The Equation has two equal root'\n",
    "    elif discriminant > 0:\n",
    "        rootType = 'The Equation has two real root'\n",
    "    else:\n",
    "        rootType = 'The Equation has two complex roots.'\n",
    "    root1 = (-b + cmath.sqrt(discriminant)) / (2 * a)\n",
    "    root2 = (-b - cmath.sqrt(discriminant)) / (2 * a)\n",
    "    return root1, root2, rootType\n",
    "    \n",
    "\n",
    "a = float(input(\"Enter the coefficient a: \"))\n",
    "b = float(input(\"Enter the coefficient b: \"))\n",
    "c = float(input(\"Enter the coefficient c: \"))\n",
    "if a == 0:\n",
    "    print(\"Coefficient 'a' cannot be zero for a quadratic equation.\")\n",
    "else:\n",
    "    root1, root2, rootType = quadratic_root(a, b, c)\n",
    "    print(f\"The roots are {root1} and {root2}, and {rootType}\")"
   ]
  },
  {
   "cell_type": "markdown",
   "id": "83166c50-f5f1-4644-8e97-19cc37f902e9",
   "metadata": {},
   "source": [
    "#### 10. Write a program that prompts the user to enter three numbers and sorts them in ascending order. The program should print the sorted numbers."
   ]
  },
  {
   "cell_type": "code",
   "execution_count": 14,
   "id": "f69fef10-bfa6-498e-9834-1f6574d6488c",
   "metadata": {},
   "outputs": [
    {
     "name": "stdin",
     "output_type": "stream",
     "text": [
      "Enter first number:  1\n",
      "Enter second number:  3\n",
      "Enter third number:  2\n"
     ]
    },
    {
     "name": "stdout",
     "output_type": "stream",
     "text": [
      "Sorted List: [1, 2, 3]\n"
     ]
    }
   ],
   "source": [
    "number1 = int(input(\"Enter first number: \"))\n",
    "number2 = int(input(\"Enter second number: \"))\n",
    "number3 = int(input(\"Enter third number: \"))\n",
    "\n",
    "numList = [number1, number2, number3]\n",
    "numList.sort()\n",
    "print(f\"Sorted List: {numList}\")"
   ]
  },
  {
   "cell_type": "markdown",
   "id": "22016852-630b-4d3a-b2b8-c06ac36cab2c",
   "metadata": {},
   "source": [
    "#### 11. Write a program that prompts the user to input three integers and outputs the largest."
   ]
  },
  {
   "cell_type": "code",
   "execution_count": 15,
   "id": "b33574b5-8ab2-4eb8-b4aa-cdb634b6aa23",
   "metadata": {},
   "outputs": [
    {
     "name": "stdin",
     "output_type": "stream",
     "text": [
      "Enter first number:  4\n",
      "Enter second number:  5\n",
      "Enter third number:  2\n"
     ]
    },
    {
     "name": "stdout",
     "output_type": "stream",
     "text": [
      "Largest Number: 5\n"
     ]
    }
   ],
   "source": [
    "number1 = int(input(\"Enter first number: \"))\n",
    "number2 = int(input(\"Enter second number: \"))\n",
    "number3 = int(input(\"Enter third number: \"))\n",
    "\n",
    "numList = [number1, number2, number3]\n",
    "numList.sort()\n",
    "print(f\"Largest Number: {numList[-1]}\")"
   ]
  },
  {
   "cell_type": "markdown",
   "id": "bfc50381-1491-4d5c-b959-a82fb840eae1",
   "metadata": {},
   "source": [
    "#### 12. Write a program that prompts the user to input a character and determine the character is vowel or consonant."
   ]
  },
  {
   "cell_type": "code",
   "execution_count": 23,
   "id": "a60675fb-a8d1-4617-ac9d-5389b0526506",
   "metadata": {},
   "outputs": [
    {
     "name": "stdin",
     "output_type": "stream",
     "text": [
      "Enter character to check vowel or consonant:  o\n"
     ]
    },
    {
     "name": "stdout",
     "output_type": "stream",
     "text": [
      "o is Vowel\n"
     ]
    }
   ],
   "source": [
    "character = input(\"Enter character to check vowel or consonant: \").lower()\n",
    "vowel_list = ['a', 'e', 'i', 'o', 'u']\n",
    "\n",
    "if character in vowel_list:\n",
    "    print(f\"{character} is Vowel\")\n",
    "else:\n",
    "    print(f\"{character} is Consonant\")"
   ]
  },
  {
   "cell_type": "markdown",
   "id": "a4cdb1ec-c7fe-469e-952d-4f3a2cf6bddc",
   "metadata": {},
   "source": [
    "#### 13. Write a program that prompts the user to input a year and determine whether the year is a leap year or not.\n",
    "- Leap Years are any year that can be evenly divided by 4.\n",
    "- A year that is evenly divisible by 100 is a leap year only if it is also evenly divisible by 400. Example:\n",
    "- 1992 Leap Year\n",
    "- 2000 Leap Year\n",
    "- 1900 NOT a Leap Year\n",
    "- 1995 NOT a Leap Year"
   ]
  },
  {
   "cell_type": "code",
   "execution_count": 4,
   "id": "3f4b6846-88ed-4a49-8345-be1229ec1174",
   "metadata": {},
   "outputs": [
    {
     "name": "stdin",
     "output_type": "stream",
     "text": [
      "Enter a year:  2000\n"
     ]
    },
    {
     "name": "stdout",
     "output_type": "stream",
     "text": [
      "2000 is a Leap Year\n"
     ]
    }
   ],
   "source": [
    "year = int(input(\"Enter a year: \"))\n",
    "if (year % 4 == 0 and year % 100 != 0) or (year % 400 == 0):\n",
    "    print(f\"{year} is a Leap Year\")\n",
    "else:\n",
    "    print(f\"{year} is NOT a Leap Year\")"
   ]
  },
  {
   "cell_type": "markdown",
   "id": "546e13e6-c0d9-445a-99f6-5a7e49101256",
   "metadata": {},
   "source": [
    "#### 14. Write a program that prompts the user to input number of calls and calculate the monthly telephone bills as per the following rule:\n",
    "- Minimum Rs. 200 for up to 100 calls.\n",
    "- Plus Rs. 0.60 per call for next 50 calls.\n",
    "- Plus Rs. 0.50 per call for next 50 calls.\n",
    "- Plus Rs. 0.40 per call for any call beyond 200 calls."
   ]
  },
  {
   "cell_type": "code",
   "execution_count": 13,
   "id": "4c440b42-58f0-45fc-937d-2e8f67bdfd2d",
   "metadata": {},
   "outputs": [
    {
     "name": "stdin",
     "output_type": "stream",
     "text": [
      "Enter numbre of calls:  400\n"
     ]
    },
    {
     "name": "stdout",
     "output_type": "stream",
     "text": [
      "The monthly telephone bill for 400 call is Rs.335.0\n"
     ]
    }
   ],
   "source": [
    "no_of_calls = int(input(\"Enter numbre of calls: \"))\n",
    "bill = 0\n",
    "\n",
    "if no_of_calls <= 100:\n",
    "    bill = 200\n",
    "elif no_of_calls <=150:\n",
    "    bill = 200 + ((no_of_calls - 100) * 0.60)\n",
    "elif no_of_calls <=200:\n",
    "    bill = 230 + ((no_of_calls - 150) * 0.50)\n",
    "else:\n",
    "    bill = 255 + ((no_of_calls - 200) * 0.40)\n",
    "\n",
    "print(f\"The monthly telephone bill for {no_of_calls} call is Rs.{bill}\")"
   ]
  },
  {
   "cell_type": "markdown",
   "id": "685f1377-ef17-4eb4-886e-b52c2c665e9a",
   "metadata": {
    "jp-MarkdownHeadingCollapsed": true
   },
   "source": [
    "# B. List Assignment"
   ]
  },
  {
   "cell_type": "markdown",
   "id": "ae6c1dcb-0f39-4f24-83e0-24c4530485eb",
   "metadata": {},
   "source": [
    "#### 1. Write a program that accepts a list from user and print the alternate element of list."
   ]
  },
  {
   "cell_type": "code",
   "execution_count": 16,
   "id": "02db2108-e4ee-4f2f-a77f-ae9448a23caa",
   "metadata": {},
   "outputs": [
    {
     "name": "stdin",
     "output_type": "stream",
     "text": [
      "Enter students name separated by qoma (,):  saad,bilal,asad,umer,usman\n"
     ]
    },
    {
     "name": "stdout",
     "output_type": "stream",
     "text": [
      "Alternate elements of students list : ['saad', 'asad', 'usman']\n"
     ]
    }
   ],
   "source": [
    "students_list = input(\"Enter students name separated by qoma (,): \").split(',')\n",
    "print(f\"Alternate elements of students list : {students_list[::2]}\")"
   ]
  },
  {
   "cell_type": "markdown",
   "id": "55cf67ae-e17b-4d98-bb91-4a41908dd009",
   "metadata": {},
   "source": [
    "#### 2. Write a program that accepts a list from user. Your program should reverse the content of list and display it. Do not use reverse() method."
   ]
  },
  {
   "cell_type": "code",
   "execution_count": 18,
   "id": "54524b3a-8703-444b-9c3b-d46aa47c62a6",
   "metadata": {},
   "outputs": [
    {
     "name": "stdin",
     "output_type": "stream",
     "text": [
      "Enter students name separated by qoma (,):  saad,bilal,asad,umer,usman\n"
     ]
    },
    {
     "name": "stdout",
     "output_type": "stream",
     "text": [
      "Reverse List: ['usman', 'umer', 'asad', 'bilal', 'saad']\n"
     ]
    }
   ],
   "source": [
    "students_list = input(\"Enter students name separated by qoma (,): \").split(',')\n",
    "print(f\"Reverse List: {students_list[::-1]}\")"
   ]
  },
  {
   "cell_type": "markdown",
   "id": "a65e918e-8eaa-4905-978d-8542f3199f56",
   "metadata": {},
   "source": [
    "#### 3. Find and display the largest number of a list without using built-in function max(). Your program should ask the user to input values in list from keyboard."
   ]
  },
  {
   "cell_type": "code",
   "execution_count": 23,
   "id": "1aee7867-42a1-4884-9d24-a6130c260e0d",
   "metadata": {},
   "outputs": [
    {
     "name": "stdin",
     "output_type": "stream",
     "text": [
      "Enter the numbers in the list separated by qoma(,):  1,2,3,4,3,5,6,3,2,3,4,7,4,3,2\n"
     ]
    },
    {
     "name": "stdout",
     "output_type": "stream",
     "text": [
      "The largest number in the list is: 7\n"
     ]
    }
   ],
   "source": [
    "numbers_input = input(\"Enter the numbers in the list separated by qoma(,): \")\n",
    "numbers = list(map(int, numbers_input.split(',')))\n",
    "\n",
    "if len(numbers) > 0:\n",
    "    largest = numbers[0]\n",
    "    for num in numbers:\n",
    "        if num > largest:\n",
    "            largest = num\n",
    "    print(\"The largest number in the list is:\", largest)\n",
    "else:\n",
    "    print(\"Empty list\")"
   ]
  },
  {
   "cell_type": "markdown",
   "id": "1aee30ec-9ff7-49d2-aabc-bd241e3ea82e",
   "metadata": {},
   "source": [
    "#### 4. Write a program that rotates the element of a list so that the element at the first index moves to the second index, the element in the second index moves to the third index, etc., and the element in the last index moves to the first index."
   ]
  },
  {
   "cell_type": "code",
   "execution_count": 33,
   "id": "a3036292-834d-45d4-96e9-722e0fa6d225",
   "metadata": {},
   "outputs": [
    {
     "name": "stdout",
     "output_type": "stream",
     "text": [
      "['usman', 'saad', 'asad', 'bilal', 'umer']\n"
     ]
    }
   ],
   "source": [
    "students = ['saad', 'asad', 'bilal', 'umer', 'usman']\n",
    "\n",
    "rotate_students = []\n",
    "rotate_students.append(students[0])\n",
    "\n",
    "for student in students:\n",
    "    if students.index(student) == (len(students) - 1):\n",
    "        rotate_students[0] = student\n",
    "        break\n",
    "    rotate_students.append(student)\n",
    "\n",
    "print(rotate_students)"
   ]
  },
  {
   "cell_type": "markdown",
   "id": "5cdb14b3-987a-43ab-86c1-ba6979a85927",
   "metadata": {},
   "source": [
    "#### 5. Write a program that input a string and ask user to delete a given word from a string."
   ]
  },
  {
   "cell_type": "code",
   "execution_count": 36,
   "id": "027a59cb-6f2b-408b-a70a-467b5a68b6e2",
   "metadata": {},
   "outputs": [
    {
     "name": "stdin",
     "output_type": "stream",
     "text": [
      "Which word you want to remove from Pakistan?  an\n"
     ]
    },
    {
     "data": {
      "text/plain": [
       "'Pakist'"
      ]
     },
     "execution_count": 36,
     "metadata": {},
     "output_type": "execute_result"
    }
   ],
   "source": [
    "value = 'Pakistan'\n",
    "remove_value = input(f\"Which word you want to remove from {value}? \")\n",
    "\n",
    "value.replace(remove_value, \"\")"
   ]
  },
  {
   "cell_type": "markdown",
   "id": "3201826f-2bcb-49b0-8e22-1440938afaee",
   "metadata": {},
   "source": [
    "#### 6. Write a program that reads a string from the user containing a date in the form mm/dd/yyyy. It should print the date in the form March 12, 2021."
   ]
  },
  {
   "cell_type": "code",
   "execution_count": 40,
   "id": "42b53678-732a-4551-87e4-c86c3c1c6ea7",
   "metadata": {},
   "outputs": [
    {
     "name": "stdin",
     "output_type": "stream",
     "text": [
      "Enter date in mm/dd/yyyy format:  01/03/1995\n"
     ]
    },
    {
     "name": "stdout",
     "output_type": "stream",
     "text": [
      "January 03, 1995\n"
     ]
    }
   ],
   "source": [
    "month_names = {\n",
    "    \"01\": \"January\", \"02\": \"February\", \"03\": \"March\", \n",
    "    \"04\": \"April\", \"05\": \"May\", \"06\": \"June\", \n",
    "    \"07\": \"July\", \"08\": \"August\", \"09\": \"September\", \n",
    "    \"10\": \"October\", \"11\": \"November\", \"12\": \"December\"\n",
    "}\n",
    "\n",
    "date = input('Enter date in mm/dd/yyyy format: ')\n",
    "month, day, year = date.split('/')\n",
    "print(f\"{month_names[month]} {day}, {year}\")"
   ]
  },
  {
   "cell_type": "markdown",
   "id": "eeb8154d-b9ca-4ff8-883d-23edb7001749",
   "metadata": {},
   "source": [
    "#### 7. Write a program with a function that accepts a string from keyboard and create a new string after converting character of each word capitalized. For instance, if the sentence is \"stop and smell the roses.\" the output should be \"Stop And Smell The Roses\""
   ]
  },
  {
   "cell_type": "code",
   "execution_count": 44,
   "id": "d5e3388a-ebe7-4fee-97b4-1fae06e7e2df",
   "metadata": {},
   "outputs": [
    {
     "name": "stdin",
     "output_type": "stream",
     "text": [
      "Enter sentence to capitalize:  stop and smell the roses.\n"
     ]
    },
    {
     "name": "stdout",
     "output_type": "stream",
     "text": [
      "Stop And Smell The Roses.\n"
     ]
    }
   ],
   "source": [
    "sentence = input(\"Enter sentence to capitalize: \")\n",
    "\n",
    "print(sentence.title())"
   ]
  },
  {
   "cell_type": "markdown",
   "id": "c6bf250f-ad64-438a-976f-105f42a82c16",
   "metadata": {},
   "source": [
    "#### 8. Find the sum of each row of matrix of size m x n. For example for the following matrix output will be like this :\n",
    "- 2  11  7  12\n",
    "- 5  2  9  15\n",
    "- 8  3  10  42\n",
    "\n",
    "- Sum of row 1 = 32\n",
    "- Sum of row 2 = 31\n",
    "- Sum of row 3 = 63"
   ]
  },
  {
   "cell_type": "code",
   "execution_count": 45,
   "id": "0d89f448-bf12-4d3a-a02a-7b53d2f325f4",
   "metadata": {},
   "outputs": [
    {
     "name": "stdout",
     "output_type": "stream",
     "text": [
      "[32, 31, 63]\n"
     ]
    }
   ],
   "source": [
    "matrix = [\n",
    "    [2,11,7,12],[5,2,9,15],[8,3,10,42]\n",
    "]\n",
    "sum = []\n",
    "\n",
    "for item in matrix:\n",
    "    temp_sum = 0\n",
    "    for i in item:\n",
    "        temp_sum+=i\n",
    "    sum.append(temp_sum)\n",
    "\n",
    "print(sum)"
   ]
  },
  {
   "cell_type": "markdown",
   "id": "e2f418c2-91d4-4ce9-a1ea-c3ec00759d15",
   "metadata": {},
   "source": [
    "#### 9. Write a program to add two matrices of size n x m."
   ]
  },
  {
   "cell_type": "code",
   "execution_count": null,
   "id": "bc2ae2f8-73cb-4e2b-aea1-253a7a927ac1",
   "metadata": {},
   "outputs": [],
   "source": []
  },
  {
   "cell_type": "markdown",
   "id": "686be1ce-d9c7-4228-8c12-7e3dd50c0803",
   "metadata": {},
   "source": [
    "#### 10. Write a program to multiply two matrices"
   ]
  },
  {
   "cell_type": "code",
   "execution_count": null,
   "id": "a71cfdba-9b9b-4f8a-bf56-fe4ea57d1c5e",
   "metadata": {},
   "outputs": [],
   "source": []
  },
  {
   "cell_type": "markdown",
   "id": "0c18a6ac-0f7c-440d-9075-7200a806561f",
   "metadata": {},
   "source": [
    "# C. Looping Structures"
   ]
  },
  {
   "cell_type": "markdown",
   "id": "28d5aa30-b3d7-4fcf-939e-8b4518f9a73d",
   "metadata": {},
   "source": [
    "#### 1. Write a Python program to print the numbers from 1 to 10 using a for loop."
   ]
  },
  {
   "cell_type": "code",
   "execution_count": 47,
   "id": "caddba0f-1889-4b47-ae89-a326abc1ff42",
   "metadata": {},
   "outputs": [
    {
     "name": "stdout",
     "output_type": "stream",
     "text": [
      "1\n",
      "2\n",
      "3\n",
      "4\n",
      "5\n",
      "6\n",
      "7\n",
      "8\n",
      "9\n",
      "10\n"
     ]
    }
   ],
   "source": [
    "for i in range(1,11):\n",
    "    print(i)"
   ]
  },
  {
   "cell_type": "markdown",
   "id": "dff91795-6715-4550-aca4-6a42cd08be05",
   "metadata": {},
   "source": [
    "#### 2. Write a Python program to print the numbers from 20 to 1 using a while loop."
   ]
  },
  {
   "cell_type": "code",
   "execution_count": 51,
   "id": "b284a34e-886e-41a7-8a4e-997994d91d6b",
   "metadata": {},
   "outputs": [
    {
     "name": "stdout",
     "output_type": "stream",
     "text": [
      "20\n",
      "19\n",
      "18\n",
      "17\n",
      "16\n",
      "15\n",
      "14\n",
      "13\n",
      "12\n",
      "11\n",
      "10\n",
      "9\n",
      "8\n",
      "7\n",
      "6\n",
      "5\n",
      "4\n",
      "3\n",
      "2\n",
      "1\n"
     ]
    }
   ],
   "source": [
    "i = 20\n",
    "while i>=1:\n",
    "    print(i)\n",
    "    i-=1"
   ]
  },
  {
   "cell_type": "markdown",
   "id": "cbb11697-07b2-4606-bcad-e221db18b923",
   "metadata": {},
   "source": [
    "#### 3. Write a program to print even numbers from 1 to 10."
   ]
  },
  {
   "cell_type": "code",
   "execution_count": 60,
   "id": "c7f503f2-04ba-48cc-8ea4-2e71bc1340f9",
   "metadata": {},
   "outputs": [
    {
     "name": "stdout",
     "output_type": "stream",
     "text": [
      "0\n",
      "2\n",
      "4\n",
      "6\n",
      "8\n",
      "10\n",
      "\n",
      "2\n",
      "4\n",
      "6\n",
      "8\n",
      "10\n"
     ]
    }
   ],
   "source": [
    "for i in range(0,11,2):\n",
    "    print(i)\n",
    "\n",
    "print()\n",
    "for i in range(1,11):\n",
    "    if(i % 2 == 0):\n",
    "        print(i)"
   ]
  },
  {
   "cell_type": "markdown",
   "id": "04b5bc12-1d30-42ab-90cd-f572fab9758c",
   "metadata": {},
   "source": [
    "#### 4. Write a program that prompts the user to enter a number n and prints all the numbers from 1 to n."
   ]
  },
  {
   "cell_type": "code",
   "execution_count": 63,
   "id": "be45cd01-8c3b-49a8-bfb4-e9edae648d18",
   "metadata": {},
   "outputs": [
    {
     "name": "stdin",
     "output_type": "stream",
     "text": [
      "Enter a number to all iteration:  10\n"
     ]
    },
    {
     "name": "stdout",
     "output_type": "stream",
     "text": [
      "1\n",
      "2\n",
      "3\n",
      "4\n",
      "5\n",
      "6\n",
      "7\n",
      "8\n",
      "9\n",
      "10\n"
     ]
    }
   ],
   "source": [
    "number = int(input('Enter a number to all iteration: '))\n",
    "for i in range(1,number+1):\n",
    "    print(i)"
   ]
  },
  {
   "cell_type": "markdown",
   "id": "4dcbdb83-eab8-409c-9187-b1fbd5f56814",
   "metadata": {},
   "source": [
    "#### 5. Write a program that prompts the user to enter a number n, and then prints all the odd numbers between 1 and n."
   ]
  },
  {
   "cell_type": "code",
   "execution_count": 64,
   "id": "5e3b78c6-ca92-438d-a64a-3332fe34f4d2",
   "metadata": {},
   "outputs": [
    {
     "name": "stdin",
     "output_type": "stream",
     "text": [
      "Enter a number to all iteration:  20\n"
     ]
    },
    {
     "name": "stdout",
     "output_type": "stream",
     "text": [
      "1\n",
      "3\n",
      "5\n",
      "7\n",
      "9\n",
      "11\n",
      "13\n",
      "15\n",
      "17\n",
      "19\n"
     ]
    }
   ],
   "source": [
    "number = int(input('Enter a number to all iteration: '))\n",
    "for i in range(1,number+1,2):\n",
    "    print(i)"
   ]
  },
  {
   "cell_type": "markdown",
   "id": "29a92fc1-41e9-4b92-bade-2696fc230af4",
   "metadata": {},
   "source": [
    "#### 6. Write a program that prints 'Happy Birthday!' five times on screen."
   ]
  },
  {
   "cell_type": "code",
   "execution_count": 66,
   "id": "e8e023f9-0f6c-4823-84ba-2598b0a65dc6",
   "metadata": {},
   "outputs": [
    {
     "name": "stdout",
     "output_type": "stream",
     "text": [
      "Happy Birthday!\n",
      "Happy Birthday!\n",
      "Happy Birthday!\n",
      "Happy Birthday!\n",
      "Happy Birthday!\n"
     ]
    }
   ],
   "source": [
    "for i in range(5):\n",
    "    print(\"Happy Birthday!\")"
   ]
  },
  {
   "cell_type": "markdown",
   "id": "0b300b2a-7a71-4e4b-91a6-19d6882e55ab",
   "metadata": {},
   "source": [
    "#### 7. Write a program that takes a number n as input from the user and generates the first n terms of the series formed by squaring the natural numbers."
   ]
  },
  {
   "cell_type": "code",
   "execution_count": 68,
   "id": "1b0a3f20-0c9c-44eb-8034-a9a85a864274",
   "metadata": {},
   "outputs": [
    {
     "name": "stdin",
     "output_type": "stream",
     "text": [
      "Enter a number to all iteration:  6\n"
     ]
    },
    {
     "name": "stdout",
     "output_type": "stream",
     "text": [
      "Number Square\n",
      "1 1\n",
      "2 4\n",
      "3 9\n",
      "4 16\n",
      "5 25\n",
      "6 36\n"
     ]
    }
   ],
   "source": [
    "number = int(input('Enter a number to all iteration: '))\n",
    "print('Number', 'Square')\n",
    "for i in range(1,number+1):\n",
    "    print(i, i**2)"
   ]
  },
  {
   "cell_type": "markdown",
   "id": "c5a45c2c-d49f-487a-bb7e-f8989bdf9b99",
   "metadata": {},
   "source": [
    "#### 8. Write a program that prompts the user to input a number and prints its multiplication table."
   ]
  },
  {
   "cell_type": "code",
   "execution_count": 71,
   "id": "09050ab0-1185-40e3-bf71-85fdecb10cbb",
   "metadata": {},
   "outputs": [
    {
     "name": "stdin",
     "output_type": "stream",
     "text": [
      "Enter a number for multiplication table:  6\n"
     ]
    },
    {
     "name": "stdout",
     "output_type": "stream",
     "text": [
      "6 x 1 = 6\n",
      "6 x 2 = 12\n",
      "6 x 3 = 18\n",
      "6 x 4 = 24\n",
      "6 x 5 = 30\n",
      "6 x 6 = 36\n",
      "6 x 7 = 42\n",
      "6 x 8 = 48\n",
      "6 x 9 = 54\n",
      "6 x 10 = 60\n"
     ]
    }
   ],
   "source": [
    "number = int(input('Enter a number for multiplication table: '))\n",
    "for i in range(1,11):\n",
    "    print(f'{number} x {i} = {number * i}')"
   ]
  },
  {
   "cell_type": "markdown",
   "id": "ec529083-cc02-457e-807d-6856b1092523",
   "metadata": {},
   "source": [
    "#### 9. Write a Python program to print the first 8 terms of an arithmetic progression starting with 3 and having a common difference of 4.\n",
    "The program should output the following sequence:\n",
    "3 7 11 15 19 23 27 31"
   ]
  },
  {
   "cell_type": "code",
   "execution_count": 73,
   "id": "5b75d0a7-d321-43c2-b41a-f6615ef16abb",
   "metadata": {},
   "outputs": [
    {
     "name": "stdout",
     "output_type": "stream",
     "text": [
      "3\n",
      "7\n",
      "11\n",
      "15\n",
      "19\n",
      "23\n",
      "27\n",
      "31\n"
     ]
    }
   ],
   "source": [
    "for i in range(3, 32, 4):\n",
    "    print(i)"
   ]
  },
  {
   "cell_type": "markdown",
   "id": "c0c92a6c-c391-4deb-8da4-297e798560f6",
   "metadata": {},
   "source": [
    "#### 10. Write a Python program to print the first 6 terms of a geometric sequence starting with 2 and having a common ratio of 3.\n",
    "The program should output the following sequence:\n",
    "2 6 18 54 162 486"
   ]
  },
  {
   "cell_type": "code",
   "execution_count": 76,
   "id": "9a557b46-664c-4189-8489-9d0052417e67",
   "metadata": {},
   "outputs": [
    {
     "name": "stdout",
     "output_type": "stream",
     "text": [
      "2\n",
      "6\n",
      "18\n",
      "54\n",
      "162\n",
      "486\n"
     ]
    }
   ],
   "source": [
    "for i in range(6):\n",
    "    term = 2 * (3 ** i)\n",
    "    print(term)"
   ]
  },
  {
   "cell_type": "markdown",
   "id": "04f58880-8363-431a-8b6e-9ef85ac92bc9",
   "metadata": {},
   "source": [
    "#### 11. Write a program that asks the user for a positive integer value. The program should calculate the sum of all the integers from 1 up to the number entered. For example, if the user enters 20, the loop will find the sum of 1, 2, 3, 4, ... 20."
   ]
  },
  {
   "cell_type": "code",
   "execution_count": 79,
   "id": "968f0c2f-6543-4de8-872b-a6922ecb0b87",
   "metadata": {},
   "outputs": [
    {
     "name": "stdin",
     "output_type": "stream",
     "text": [
      "Enter a value to sum:  20\n"
     ]
    },
    {
     "name": "stdout",
     "output_type": "stream",
     "text": [
      "210\n"
     ]
    }
   ],
   "source": [
    "number = int(input('Enter a value to sum: '))\n",
    "\n",
    "sum = 0\n",
    "for i in range(1, number+1):\n",
    "    sum+=i\n",
    "\n",
    "print(sum)"
   ]
  },
  {
   "cell_type": "markdown",
   "id": "43da15bf-9391-43e2-9705-aff467d45e45",
   "metadata": {},
   "source": [
    "#### 12. write a program that takes a positive integer N as input and calculates the sum of the reciprocals of all numbers from 1 up to N. The program should display the final sum. \n",
    "Output of the program should be like:\n",
    "- Enter a positive integer: 5\n",
    "- The sum of reciprocals from 1 to 5 is: 2.28"
   ]
  },
  {
   "cell_type": "code",
   "execution_count": 86,
   "id": "246f2e89-bdfb-4bf4-9ee0-66729515a153",
   "metadata": {},
   "outputs": [
    {
     "name": "stdin",
     "output_type": "stream",
     "text": [
      "Enter a value to sum:  5\n"
     ]
    },
    {
     "name": "stdout",
     "output_type": "stream",
     "text": [
      "2.28\n"
     ]
    }
   ],
   "source": [
    "number = int(input('Enter a value to sum: '))\n",
    "\n",
    "sum = 0\n",
    "for i in range(1, number+1):\n",
    "    sum+= 1 / i\n",
    "\n",
    "print(f'{sum:.2f}')"
   ]
  },
  {
   "cell_type": "markdown",
   "id": "6c7365c9-1bf4-4cd5-b629-baec5630af6a",
   "metadata": {},
   "source": [
    "#### 13. Write a program that prompts the user to enter a number and repeats this process 5 times. The program should accumulate the numbers entered and then display the final running total.\n",
    "Sample Output:\n",
    "- Enter a number: 10\n",
    "- Enter a number: 15\n",
    "- Enter a number: 35\n",
    "- Enter a number: 40\n",
    "- Enter a number: 50\n",
    "- The final running total is: 150"
   ]
  },
  {
   "cell_type": "code",
   "execution_count": 87,
   "id": "234b43cf-3027-4b68-8fc8-6f8bac6fb5fa",
   "metadata": {},
   "outputs": [
    {
     "name": "stdin",
     "output_type": "stream",
     "text": [
      "Enter a number 10\n",
      "Enter a number 15\n",
      "Enter a number 35\n",
      "Enter a number 40\n",
      "Enter a number 50\n"
     ]
    },
    {
     "name": "stdout",
     "output_type": "stream",
     "text": [
      "The final running total is: 150\n"
     ]
    }
   ],
   "source": [
    "total = 0\n",
    "for i in range(5):\n",
    "    number = int(input(\"Enter a number\"))\n",
    "    total+= number\n",
    "\n",
    "print(f\"The final running total is: {total}\")"
   ]
  },
  {
   "cell_type": "markdown",
   "id": "9a0a1fd1-f46a-4226-aaf2-20649509aef6",
   "metadata": {},
   "source": [
    "#### 14. Write a program that prompts the user to enter a positive integer and calculates its factorial. The factorial of a positive integer 'n' is denoted as 'n!' and is calculated by multiplying all the integers from 1 to 'n' together. For example, the factorial of 5 (denoted as 5!) is calculated as 1 x 2 x 3 x 4 x 5.\n",
    "The program should display the factorial value if the input is a positive number, or\n",
    "display a message stating that the factorial does not exist for negative numbers.\n",
    "Additionally, for an input of zero, the program should output that the factorial of 0 is 1."
   ]
  },
  {
   "cell_type": "code",
   "execution_count": 90,
   "id": "79fdf112-6577-4f17-b871-374d753f97d8",
   "metadata": {},
   "outputs": [
    {
     "name": "stdin",
     "output_type": "stream",
     "text": [
      "Enter a number for factorial:  5\n"
     ]
    },
    {
     "name": "stdout",
     "output_type": "stream",
     "text": [
      "The factorial of 5 is 120\n"
     ]
    }
   ],
   "source": [
    "number = int(input(\"Enter a number for factorial: \"))\n",
    "\n",
    "if number < 0:\n",
    "    print(\"The factorial does not exist for negative numbers.\")\n",
    "elif number == 0:\n",
    "    print(\"The factorial of 0 is 1\")\n",
    "else:\n",
    "    factorial = 1\n",
    "    for i in range(1,number+1):\n",
    "        factorial = factorial * i\n",
    "    print(f\"The factorial of {number} is {factorial}\")"
   ]
  },
  {
   "cell_type": "markdown",
   "id": "4f817263-65f6-47ee-b25d-b1b14629be5f",
   "metadata": {},
   "source": [
    "#### 15. Write a Python program that prompts the user to enter a base number and an exponent, and then calculates the power of the base to the exponent. The program should not use the exponentiation operator (**) or the math.pow() function. The program should handle both positive and negative exponents."
   ]
  },
  {
   "cell_type": "code",
   "execution_count": 3,
   "id": "930b8ccf-2dc9-4c80-aeea-89d350da68cd",
   "metadata": {},
   "outputs": [
    {
     "name": "stdin",
     "output_type": "stream",
     "text": [
      "Enter base number:  5\n",
      "Enter exponent:  3\n"
     ]
    },
    {
     "name": "stdout",
     "output_type": "stream",
     "text": [
      "125\n"
     ]
    }
   ],
   "source": [
    "number = int(input(\"Enter base number: \"))\n",
    "exponent = int(input(\"Enter exponent: \"))\n",
    "\n",
    "answer = 1;\n",
    "for i in range(1, exponent + 1):\n",
    "    answer = answer * number\n",
    "\n",
    "print(answer)"
   ]
  },
  {
   "cell_type": "markdown",
   "id": "cfa7b3c5-fdf8-4529-ae03-0ccabdb6943a",
   "metadata": {
    "jp-MarkdownHeadingCollapsed": true
   },
   "source": [
    "# D. Strings Assignments"
   ]
  },
  {
   "cell_type": "markdown",
   "id": "0bd7e9ef-4235-44c5-8bfc-ebc32c72be6d",
   "metadata": {},
   "source": [
    "#### 1. Write a program that accepts a string from user. Your program should count and display number of vowels in that string."
   ]
  },
  {
   "cell_type": "code",
   "execution_count": 93,
   "id": "b517f962-72ab-418d-b0e9-f5619b196a05",
   "metadata": {},
   "outputs": [
    {
     "name": "stdin",
     "output_type": "stream",
     "text": [
      "Enter a String to count vowels:  PAKIStan\n"
     ]
    },
    {
     "name": "stdout",
     "output_type": "stream",
     "text": [
      "The number of vowel in PAKIStan is 3\n"
     ]
    }
   ],
   "source": [
    "string_value = input(\"Enter a String to count vowels: \")\n",
    "vowels = 'aeiou'\n",
    "vowel_count = 0\n",
    "\n",
    "for char in string_value:\n",
    "    if char.lower() in vowels:\n",
    "        vowel_count +=1\n",
    "\n",
    "print(f\"The number of vowel in {string_value} is {vowel_count}\")"
   ]
  },
  {
   "cell_type": "markdown",
   "id": "f1cde348-ac1b-444a-83fc-74b4cd3c84ba",
   "metadata": {},
   "source": [
    "#### 2. Write a program that reads a string from keyboard and display:\n",
    "- The number of uppercase letters in the string\n",
    "- The number of lowercase letters in the string\n",
    "- The number of digits in the string\n",
    "- The number of whitespace characters in the string"
   ]
  },
  {
   "cell_type": "code",
   "execution_count": 94,
   "id": "3704498c-485b-41e6-9117-adc90a8c3c9a",
   "metadata": {},
   "outputs": [
    {
     "name": "stdin",
     "output_type": "stream",
     "text": [
      "Enter something to precess Pakistan is my 1st country\n"
     ]
    },
    {
     "name": "stdout",
     "output_type": "stream",
     "text": [
      "\n",
      "    UpperCase:       1\n",
      "    LowerCase:       20\n",
      "    Digit:           1\n",
      "    WhiteSpace       4\n",
      "\n"
     ]
    }
   ],
   "source": [
    "value = input(\"Enter something to precess\")\n",
    "\n",
    "upper_case_count = 0\n",
    "lower_case_count = 0\n",
    "digit_count = 0\n",
    "white_space_count = 0\n",
    "\n",
    "for char in value:\n",
    "    if char.isupper():\n",
    "        upper_case_count+=1\n",
    "    if char.islower():\n",
    "        lower_case_count+=1\n",
    "    if char.isnumeric():\n",
    "        digit_count+=1\n",
    "    if char.isspace():\n",
    "        white_space_count+=1\n",
    "\n",
    "print(f\"\"\"\n",
    "    UpperCase:       {upper_case_count}\n",
    "    LowerCase:       {lower_case_count}\n",
    "    Digit:           {digit_count}\n",
    "    WhiteSpace       {white_space_count}\n",
    "\"\"\")"
   ]
  },
  {
   "cell_type": "markdown",
   "id": "02a68a86-ef83-4955-8812-54ef0ed05013",
   "metadata": {},
   "source": [
    "#### 3. Write a Python program that accepts a string from user. Your program should create and display a new string where the first and last characters have been exchanged."
   ]
  },
  {
   "cell_type": "code",
   "execution_count": 95,
   "id": "7d2cd163-3b82-4a20-9530-1a409a4b61bb",
   "metadata": {},
   "outputs": [
    {
     "name": "stdin",
     "output_type": "stream",
     "text": [
      "Enter a string to swap 1st and last character:  Pakistan\n"
     ]
    },
    {
     "name": "stdout",
     "output_type": "stream",
     "text": [
      "nakistaP\n"
     ]
    }
   ],
   "source": [
    "orig_string = input(\"Enter a string to swap 1st and last character: \")\n",
    "\n",
    "swapped_string = orig_string[-1] + orig_string[1:-1] + orig_string[0]\n",
    "\n",
    "print(swapped_string)"
   ]
  },
  {
   "cell_type": "markdown",
   "id": "9d4f4297-f795-4bc6-b1ce-cc64341839ad",
   "metadata": {},
   "source": [
    "#### 4. Write a Python program that accepts a string from user. Your program should create a new string in reverse of first string and display it.\n",
    "For example if the user enters the string 'EXAM' then new string would be 'MAXE'"
   ]
  },
  {
   "cell_type": "code",
   "execution_count": 98,
   "id": "876bec9e-5401-49e8-8778-bdfa252bac49",
   "metadata": {},
   "outputs": [
    {
     "name": "stdin",
     "output_type": "stream",
     "text": [
      "Enter a string to reverse:  PAKISTAN\n"
     ]
    },
    {
     "name": "stdout",
     "output_type": "stream",
     "text": [
      "NATSIKAP\n"
     ]
    }
   ],
   "source": [
    "orig_string = input(\"Enter a string to reverse: \")\n",
    "print(orig_string[::-1])"
   ]
  },
  {
   "cell_type": "markdown",
   "id": "bd71a61a-43cf-4f68-b05b-f0ed36a71c85",
   "metadata": {},
   "source": [
    "#### 5. Write a Python program that accepts a string from user. Your program should create a new string byshifting one position to left.\n",
    "For example if the user enters the string 'examination 2021' then new string would be 'xamination 2021e'"
   ]
  },
  {
   "cell_type": "code",
   "execution_count": 99,
   "id": "c5a82f94-385b-4d16-a6ec-e89c9ceea4fa",
   "metadata": {},
   "outputs": [
    {
     "name": "stdin",
     "output_type": "stream",
     "text": [
      "Enter a string:  examination 2021\n"
     ]
    },
    {
     "name": "stdout",
     "output_type": "stream",
     "text": [
      "xamination 2021e\n"
     ]
    }
   ],
   "source": [
    "orig_string = input(\"Enter a string: \")\n",
    "\n",
    "shifted_string = orig_string[1:] + orig_string[0]\n",
    "\n",
    "print(shifted_string)"
   ]
  },
  {
   "cell_type": "markdown",
   "id": "f3787675-cbfb-445f-bafd-7c53628863e6",
   "metadata": {},
   "source": [
    "#### 6. Write a program that asks the user to input his name and print its initials. Assuming that the user always types first name, middle name and last name and does not include any unnecessary spaces.\n",
    "For example, if the user enters Ajay Kumar Garg the program should display A. K. G.\n",
    "- Note:Don't use split() method"
   ]
  },
  {
   "cell_type": "code",
   "execution_count": 100,
   "id": "2e943a0e-c8a6-4315-97fe-18ac64ac4233",
   "metadata": {},
   "outputs": [
    {
     "name": "stdin",
     "output_type": "stream",
     "text": [
      "Enter your First, Middle and Last name Muhammad Zeeshan Ayaz\n"
     ]
    },
    {
     "name": "stdout",
     "output_type": "stream",
     "text": [
      "M. Z. A. \n"
     ]
    }
   ],
   "source": [
    "full_name = input(\"Enter your First, Middle and Last name\")\n",
    "\n",
    "initials = ''\n",
    "\n",
    "for char in full_name:\n",
    "    if char.isupper():\n",
    "        initials += char + '. '\n",
    "\n",
    "print(initials)"
   ]
  },
  {
   "cell_type": "markdown",
   "id": "179ef113-522c-4b5e-a33b-95ee57e9a845",
   "metadata": {},
   "source": [
    "#### 7. A palindrome is a string that reads the same backward as forward. For example, the words dad, madam and radar are all palindromes. Write a programs that determines whether the string is a palindrome.\n",
    "- Note: do not use reverse() method"
   ]
  },
  {
   "cell_type": "code",
   "execution_count": 103,
   "id": "c7520c3c-dba7-4749-a430-d2aa8f8603af",
   "metadata": {},
   "outputs": [
    {
     "name": "stdin",
     "output_type": "stream",
     "text": [
      "Enter value to check palindrome:  madam\n"
     ]
    },
    {
     "name": "stdout",
     "output_type": "stream",
     "text": [
      "madam is palindromes\n"
     ]
    }
   ],
   "source": [
    "input_value = input('Enter value to check palindrome: ')\n",
    "\n",
    "if input_value == input_value[::-1]:\n",
    "    print(f\"{input_value} is palindromes\")\n",
    "else:\n",
    "    print(f\"{input_value} is not palindromes\")"
   ]
  },
  {
   "cell_type": "markdown",
   "id": "7ff52558-0ee7-4450-860b-8af5a027df27",
   "metadata": {},
   "source": [
    "#### 8. Write a program that display following output:\n",
    "- SHIFT\n",
    "- HIFTS\n",
    "- IFTSH\n",
    "- FTSHI\n",
    "- TSHIF\n",
    "- SHIFT"
   ]
  },
  {
   "cell_type": "code",
   "execution_count": null,
   "id": "ecfc29cb-ca77-44e3-b395-6b4c429814f6",
   "metadata": {},
   "outputs": [],
   "source": []
  },
  {
   "cell_type": "markdown",
   "id": "a90ebe25-2ee4-478c-a215-178ed29a402a",
   "metadata": {},
   "source": [
    "#### 9. Write a program in python that accepts a string to setup a passwords. Your entered password must meet the following requirements:\n",
    "\n",
    "- The password must be at least eight characters long.\n",
    "- It must contain at least one uppercase letter.\n",
    "- It must contain at least one lowercase letter.\n",
    "- It must contain at least one numeric digit.\n",
    "- Your program should should perform this validation."
   ]
  },
  {
   "cell_type": "code",
   "execution_count": 108,
   "id": "645da3b2-7a38-47fa-8021-b6866daae298",
   "metadata": {},
   "outputs": [
    {
     "name": "stdin",
     "output_type": "stream",
     "text": [
      "Enter Password to validate:  Pakistan12\n"
     ]
    },
    {
     "name": "stdout",
     "output_type": "stream",
     "text": [
      "Password is Validated\n"
     ]
    }
   ],
   "source": [
    "password = input(\"Enter Password to validate: \")\n",
    "\n",
    "if len(password) >= 8:\n",
    "    is_upper_case = False\n",
    "    for char in password:\n",
    "        if char.isupper():\n",
    "            is_upper_case = True\n",
    "            break\n",
    "    if is_upper_case:\n",
    "        is_lower_case = False\n",
    "        for char in password:\n",
    "            if char.islower():\n",
    "                is_lower_case = True\n",
    "                break\n",
    "        if is_lower_case:\n",
    "            has_digit = False\n",
    "            for char in password:\n",
    "                if char.isnumeric():\n",
    "                    has_digit = True\n",
    "                    break\n",
    "            if has_digit:\n",
    "                print(\"Password is Validated\")\n",
    "            else:\n",
    "                print(\"It must contain at least one numeric digit.\")\n",
    "        else:\n",
    "            print(\"It must contain at least one lowercase letter.\")\n",
    "    else: \n",
    "        print(\"It must contain at least one uppercase letter.\")\n",
    "else:\n",
    "    print(\"The password must be at least eight characters long.\")"
   ]
  },
  {
   "cell_type": "markdown",
   "id": "886f53d8-7921-4bb6-a918-c3fe12d6c4b0",
   "metadata": {
    "jp-MarkdownHeadingCollapsed": true
   },
   "source": [
    "# End"
   ]
  },
  {
   "cell_type": "code",
   "execution_count": null,
   "id": "c0ad2cf3-d9d8-4843-a45f-f17f3164db22",
   "metadata": {},
   "outputs": [],
   "source": []
  }
 ],
 "metadata": {
  "kernelspec": {
   "display_name": "Python 3 (ipykernel)",
   "language": "python",
   "name": "python3"
  },
  "language_info": {
   "codemirror_mode": {
    "name": "ipython",
    "version": 3
   },
   "file_extension": ".py",
   "mimetype": "text/x-python",
   "name": "python",
   "nbconvert_exporter": "python",
   "pygments_lexer": "ipython3",
   "version": "3.12.7"
  }
 },
 "nbformat": 4,
 "nbformat_minor": 5
}
