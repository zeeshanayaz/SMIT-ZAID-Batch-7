{
 "cells": [
  {
   "cell_type": "markdown",
   "id": "ad80a23b-32c4-40ff-aa5f-ee95d8a2b080",
   "metadata": {},
   "source": [
    "# String"
   ]
  },
  {
   "cell_type": "code",
   "execution_count": 2,
   "id": "a45bcf6d-60cc-481c-8e59-5dbb9a06805f",
   "metadata": {},
   "outputs": [],
   "source": [
    "course = \"artificial inteligence\""
   ]
  },
  {
   "cell_type": "code",
   "execution_count": 4,
   "id": "175a742b-7f91-48c2-a7f1-d9f72387818f",
   "metadata": {},
   "outputs": [
    {
     "data": {
      "text/plain": [
       "'ARTIFICIAL INTELIGENCE'"
      ]
     },
     "execution_count": 4,
     "metadata": {},
     "output_type": "execute_result"
    }
   ],
   "source": [
    "course.upper()"
   ]
  },
  {
   "cell_type": "code",
   "execution_count": 6,
   "id": "f0ef1df7-b427-4a98-939b-5b0ebc631963",
   "metadata": {},
   "outputs": [
    {
     "name": "stdout",
     "output_type": "stream",
     "text": [
      "artificial inteligence\n"
     ]
    }
   ],
   "source": [
    "print(course)"
   ]
  },
  {
   "cell_type": "code",
   "execution_count": 3,
   "id": "7279bc3b-c322-4b3c-92bb-829c86de38a0",
   "metadata": {},
   "outputs": [
    {
     "name": "stdin",
     "output_type": "stream",
     "text": [
      "Enter Name:  Muhammad Zeeshan\n",
      "Enter Father Name:  Muhammad Ayaz\n",
      "Enter Age:  20\n"
     ]
    },
    {
     "name": "stdout",
     "output_type": "stream",
     "text": [
      "Mr. Muhammad Zeeshan s/o Muhammad Ayaz you are 20.0 years old.\n"
     ]
    }
   ],
   "source": [
    "name = input(\"Enter Name: \")\n",
    "fname = input(\"Enter Father Name: \")\n",
    "age = float(input(\"Enter Age: \"))\n",
    "\n",
    "print(f\"Mr. {name} s/o {fname} you are {age} years old.\")"
   ]
  },
  {
   "cell_type": "code",
   "execution_count": 5,
   "id": "50219f17-90a4-40d6-8c8f-b3b285ae34b1",
   "metadata": {},
   "outputs": [
    {
     "data": {
      "text/plain": [
       "16"
      ]
     },
     "execution_count": 5,
     "metadata": {},
     "output_type": "execute_result"
    }
   ],
   "source": [
    "len(name)"
   ]
  },
  {
   "cell_type": "code",
   "execution_count": 7,
   "id": "aa576a37-7d59-4a22-bb5b-a9e3fd364410",
   "metadata": {},
   "outputs": [
    {
     "data": {
      "text/plain": [
       "13"
      ]
     },
     "execution_count": 7,
     "metadata": {},
     "output_type": "execute_result"
    }
   ],
   "source": [
    "len(fname)"
   ]
  },
  {
   "cell_type": "code",
   "execution_count": 9,
   "id": "ef93faeb-da58-463e-9cdc-4dfc470a731b",
   "metadata": {},
   "outputs": [
    {
     "ename": "TypeError",
     "evalue": "object of type 'float' has no len()",
     "output_type": "error",
     "traceback": [
      "\u001b[1;31m---------------------------------------------------------------------------\u001b[0m",
      "\u001b[1;31mTypeError\u001b[0m                                 Traceback (most recent call last)",
      "Cell \u001b[1;32mIn[9], line 1\u001b[0m\n\u001b[1;32m----> 1\u001b[0m \u001b[38;5;28mlen\u001b[39m(age)\n",
      "\u001b[1;31mTypeError\u001b[0m: object of type 'float' has no len()"
     ]
    }
   ],
   "source": [
    "len(age)"
   ]
  },
  {
   "cell_type": "code",
   "execution_count": 21,
   "id": "8b8c9adf-cf3d-4022-9d17-d3deabea83b7",
   "metadata": {},
   "outputs": [
    {
     "data": {
      "text/plain": [
       "4"
      ]
     },
     "execution_count": 21,
     "metadata": {},
     "output_type": "execute_result"
    }
   ],
   "source": [
    "len(str(age))"
   ]
  },
  {
   "cell_type": "code",
   "execution_count": null,
   "id": "2ac539f7-38ac-4fa5-8734-98b35bd5de84",
   "metadata": {},
   "outputs": [],
   "source": []
  },
  {
   "cell_type": "code",
   "execution_count": null,
   "id": "40e1d345-f8de-47bd-a8e6-50f1cdc23309",
   "metadata": {},
   "outputs": [],
   "source": []
  }
 ],
 "metadata": {
  "kernelspec": {
   "display_name": "Python 3 (ipykernel)",
   "language": "python",
   "name": "python3"
  },
  "language_info": {
   "codemirror_mode": {
    "name": "ipython",
    "version": 3
   },
   "file_extension": ".py",
   "mimetype": "text/x-python",
   "name": "python",
   "nbconvert_exporter": "python",
   "pygments_lexer": "ipython3",
   "version": "3.12.7"
  }
 },
 "nbformat": 4,
 "nbformat_minor": 5
}
