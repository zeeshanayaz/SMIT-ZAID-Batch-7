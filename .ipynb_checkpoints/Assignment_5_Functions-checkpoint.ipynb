{
 "cells": [
  {
   "cell_type": "markdown",
   "id": "b0dace5d-4a46-49c5-8681-b9d52d70c075",
   "metadata": {},
   "source": [
    "# Assignment 4\n",
    "### Name: Muhammad Zeeshan\n",
    "### Email: zeeshanayaz1@gmail.com\n",
    "### Roll: 334256"
   ]
  },
  {
   "cell_type": "markdown",
   "id": "18f1b983-411e-46f2-a529-cfb989662b57",
   "metadata": {},
   "source": [
    "## 1. Write a Python function to find the maximum of three numbers. "
   ]
  },
  {
   "cell_type": "code",
   "execution_count": 5,
   "id": "c82bada2-0288-443d-879a-54a5e4467734",
   "metadata": {},
   "outputs": [],
   "source": [
    "def max_number(numbers):\n",
    "    max_number = numbers[0]\n",
    "    for number in numbers:\n",
    "        if number > max_number:\n",
    "            max_number = number\n",
    "    return max_number"
   ]
  },
  {
   "cell_type": "code",
   "execution_count": 7,
   "id": "7489f105-7ab0-43a0-a47d-be7f40914510",
   "metadata": {},
   "outputs": [
    {
     "data": {
      "text/plain": [
       "5"
      ]
     },
     "execution_count": 7,
     "metadata": {},
     "output_type": "execute_result"
    }
   ],
   "source": [
    "max_number([2,5,4])"
   ]
  },
  {
   "cell_type": "markdown",
   "id": "50527d4b-1ccd-490a-ba54-621303a7103c",
   "metadata": {},
   "source": [
    "## 2. Write a Python function to sum all the numbers in a list.\n",
    "- Sample List : (8, 2, 3, 0, 7)\n",
    "- Expected Output : 20"
   ]
  },
  {
   "cell_type": "code",
   "execution_count": 8,
   "id": "856ced24-f8f9-4936-a821-20f6a6e867bf",
   "metadata": {},
   "outputs": [],
   "source": [
    "def sum_list(numbers):\n",
    "    sum = 0\n",
    "    for number in numbers:\n",
    "        sum+=number\n",
    "    return sum"
   ]
  },
  {
   "cell_type": "code",
   "execution_count": 9,
   "id": "d00dd84f-4eb3-4d20-a517-236a076d5559",
   "metadata": {},
   "outputs": [
    {
     "data": {
      "text/plain": [
       "20"
      ]
     },
     "execution_count": 9,
     "metadata": {},
     "output_type": "execute_result"
    }
   ],
   "source": [
    "sum_list([8,2,3,0,7])"
   ]
  },
  {
   "cell_type": "markdown",
   "id": "91ea3aa6-f899-470f-a8fb-45f52adfd138",
   "metadata": {},
   "source": [
    "## 3. Write a Python function to multiply all the numbers in a list.\n",
    "- Sample List : (8, 2, 3, -1, 7)\n",
    "- Expected Output : -336 "
   ]
  },
  {
   "cell_type": "code",
   "execution_count": 10,
   "id": "6b7cc7c6-7a29-4f5c-9824-a562e1294438",
   "metadata": {},
   "outputs": [],
   "source": [
    "def multiply_list(numbers):\n",
    "    product = 1\n",
    "    for number in numbers:\n",
    "        product = product * number\n",
    "    return product"
   ]
  },
  {
   "cell_type": "code",
   "execution_count": 11,
   "id": "f483b46a-fb9d-413f-9d06-a6f09c70b080",
   "metadata": {},
   "outputs": [
    {
     "data": {
      "text/plain": [
       "-336"
      ]
     },
     "execution_count": 11,
     "metadata": {},
     "output_type": "execute_result"
    }
   ],
   "source": [
    "multiply_list([8,2,3,-1,7])"
   ]
  },
  {
   "cell_type": "code",
   "execution_count": null,
   "id": "c50c3cb4-8c06-4a44-98ba-ffc6eba60fa5",
   "metadata": {},
   "outputs": [],
   "source": []
  }
 ],
 "metadata": {
  "kernelspec": {
   "display_name": "Python 3 (ipykernel)",
   "language": "python",
   "name": "python3"
  },
  "language_info": {
   "codemirror_mode": {
    "name": "ipython",
    "version": 3
   },
   "file_extension": ".py",
   "mimetype": "text/x-python",
   "name": "python",
   "nbconvert_exporter": "python",
   "pygments_lexer": "ipython3",
   "version": "3.12.7"
  }
 },
 "nbformat": 4,
 "nbformat_minor": 5
}
