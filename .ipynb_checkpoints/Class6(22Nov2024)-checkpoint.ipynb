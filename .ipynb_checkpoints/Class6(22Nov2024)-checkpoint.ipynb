{
 "cells": [
  {
   "cell_type": "code",
   "execution_count": 7,
   "id": "061fb635-5bb8-4e1c-baf8-7c49482a51e5",
   "metadata": {},
   "outputs": [
    {
     "name": "stdin",
     "output_type": "stream",
     "text": [
      "Enter a number:  2\n"
     ]
    },
    {
     "name": "stdout",
     "output_type": "stream",
     "text": [
      "Even\n"
     ]
    }
   ],
   "source": [
    "number = int(input(\"Enter a number: \"))\n",
    "if number % 2 == 0:\n",
    "    print(\"Even\")\n",
    "else:\n",
    "    print(\"Odd\")"
   ]
  },
  {
   "cell_type": "code",
   "execution_count": 15,
   "id": "1ad2b980-237b-4296-84d2-a38cf89bb9f2",
   "metadata": {},
   "outputs": [
    {
     "name": "stdin",
     "output_type": "stream",
     "text": [
      "Amount:  12000\n"
     ]
    },
    {
     "name": "stdout",
     "output_type": "stream",
     "text": [
      "Discount on 12000 will be 1800.0\n",
      "Final Amount 10200.0\n"
     ]
    }
   ],
   "source": [
    "total_amount = int(input(\"Amount: \"))\n",
    "\n",
    "if total_amount > 10000:\n",
    "    discount = total_amount * 15/100\n",
    "    print(f\"Discount on {total_amount} will be {discount}\")\n",
    "    print(f\"Final Amount {total_amount - discount}\")\n",
    "else:\n",
    "    print(\"Not eligible for discount\")"
   ]
  },
  {
   "cell_type": "code",
   "execution_count": 23,
   "id": "f1181c13-e601-4f0f-bce5-b388a4c698d9",
   "metadata": {},
   "outputs": [
    {
     "name": "stdin",
     "output_type": "stream",
     "text": [
      "Enter Marks of Subject 1:  5\n",
      "Enter Marks of Subject 2:  50\n",
      "Enter Marks of Subject 3:  50\n",
      "Enter Marks of Subject 4:  50\n",
      "Enter Marks of Subject 5:  50\n"
     ]
    },
    {
     "name": "stdout",
     "output_type": "stream",
     "text": [
      "\n",
      "Total Obtained Marks: 205.0/500\n",
      "Percentage : 41.0\n",
      "Fail\n"
     ]
    }
   ],
   "source": [
    "# Input Marks from user Subject1, .... subject5\n",
    "\n",
    "subject_1 = float(input(\"Enter Marks of Subject 1: \"))\n",
    "subject_2 = float(input(\"Enter Marks of Subject 2: \"))\n",
    "subject_3 = float(input(\"Enter Marks of Subject 3: \"))\n",
    "subject_4 = float(input(\"Enter Marks of Subject 4: \"))\n",
    "subject_5 = float(input(\"Enter Marks of Subject 5: \"))\n",
    "\n",
    "total_obt = subject_1 + subject_2 + subject_3 + subject_4 + subject_5\n",
    "percentage = (total_obt / 500) * 100\n",
    "print()\n",
    "print(f\"Total Obtained Marks: {total_obt}/500\")\n",
    "print(f\"Percentage : {percentage}\")\n",
    "\n",
    "if percentage >= 90.0:\n",
    "    print(\"Grade A*\")\n",
    "elif percentage >= 80.0:\n",
    "    print(\"Grade A\")\n",
    "elif percentage >= 70.0:\n",
    "    print(\"Grade B\")\n",
    "elif percentage >= 60.0:\n",
    "    print(\"Grade C\")\n",
    "elif percentage >= 50.0:\n",
    "    print(\"Grade D\")\n",
    "else:\n",
    "    print(\"Fail\")"
   ]
  },
  {
   "cell_type": "code",
   "execution_count": 1,
   "id": "0c64cd32-9e42-4c39-90e0-14d1a038bcd5",
   "metadata": {},
   "outputs": [
    {
     "name": "stdin",
     "output_type": "stream",
     "text": [
      "Enter Marks of Subject 1:  1\n",
      "Enter Marks of Subject 2:  1\n",
      "Enter Marks of Subject 3:  1\n",
      "Enter Marks of Subject 4:  1\n",
      "Enter Marks of Subject 5:  1\n"
     ]
    },
    {
     "name": "stdout",
     "output_type": "stream",
     "text": [
      "\n",
      "\n",
      "    Subject 1: 1.0 / 100\n",
      "    Subject 2: 1.0 / 100\n",
      "    Subject 3: 1.0 / 100\n",
      "    Subject 4: 1.0 / 100\n",
      "    Subject 2: 1.0 / 100\n",
      "\n",
      "    Total Obtained Marks:5.0/500\n",
      "\n"
     ]
    }
   ],
   "source": [
    "# Input Marks from user Subject1, .... subject5\n",
    "\n",
    "subject_1 = float(input(\"Enter Marks of Subject 1: \"))\n",
    "subject_2 = float(input(\"Enter Marks of Subject 2: \"))\n",
    "subject_3 = float(input(\"Enter Marks of Subject 3: \"))\n",
    "subject_4 = float(input(\"Enter Marks of Subject 4: \"))\n",
    "subject_5 = float(input(\"Enter Marks of Subject 5: \"))\n",
    "\n",
    "total_obt = subject_1 + subject_2 + subject_3 + subject_4 + subject_5\n",
    "percentage = (total_obt / 500) * 100\n",
    "grade = None\n",
    "\n",
    "if percentage >= 90.0:\n",
    "    grade = \"A*\"\n",
    "elif percentage >= 80.0:\n",
    "    grade = \"A\"\n",
    "elif percentage >= 70.0:\n",
    "    grade = \"B\"\n",
    "elif percentage >= 60.0:\n",
    "    grade = \"C\"\n",
    "elif percentage >= 50.0:\n",
    "    grade = \"D\"\n",
    "else:\n",
    "    grade = \"FAIL\"\n",
    "\n",
    "print()\n",
    "# print(f\"Total Obtained Marks: {total_obt}/500\")\n",
    "# print(f\"Percentage : {percentage}\")\n",
    "# print(f\"Grade: {grade}\")\n",
    "\n",
    "print(f\"\"\"\n",
    "    Subject 1: {subject_1} / 100\n",
    "    Subject 2: {subject_2} / 100\n",
    "    Subject 3: {subject_3} / 100\n",
    "    Subject 4: {subject_4} / 100\n",
    "    Subject 2: {subject_5} / 100\n",
    "\n",
    "    Total Obtained Marks:{total_obt}/500\n",
    "\"\"\")"
   ]
  },
  {
   "cell_type": "code",
   "execution_count": 3,
   "id": "92832f08-9179-4ced-adb4-a125b27493af",
   "metadata": {},
   "outputs": [],
   "source": [
    "course = \"artificial intelligence\""
   ]
  },
  {
   "cell_type": "code",
   "execution_count": 9,
   "id": "7e2be35d-1eb5-4122-8f53-262767adbbe4",
   "metadata": {},
   "outputs": [
    {
     "data": {
      "text/plain": [
       "6"
      ]
     },
     "execution_count": 9,
     "metadata": {},
     "output_type": "execute_result"
    }
   ],
   "source": [
    "# c in \"artificial intelligence\" first time 6th index par aarha hai\n",
    "course.find(\"c\")"
   ]
  },
  {
   "cell_type": "code",
   "execution_count": 11,
   "id": "ba073f1f-4232-49e7-bb37-5c3f943aaf3c",
   "metadata": {},
   "outputs": [
    {
     "data": {
      "text/plain": [
       "2"
      ]
     },
     "execution_count": 11,
     "metadata": {},
     "output_type": "execute_result"
    }
   ],
   "source": [
    "# c in \"artificial intelligence\" 2 martaba repeat horha ahi\n",
    "course.count(\"c\")"
   ]
  },
  {
   "cell_type": "code",
   "execution_count": null,
   "id": "9a64f746-c76c-43a4-81ac-fd595612a998",
   "metadata": {},
   "outputs": [],
   "source": []
  }
 ],
 "metadata": {
  "kernelspec": {
   "display_name": "Python 3 (ipykernel)",
   "language": "python",
   "name": "python3"
  },
  "language_info": {
   "codemirror_mode": {
    "name": "ipython",
    "version": 3
   },
   "file_extension": ".py",
   "mimetype": "text/x-python",
   "name": "python",
   "nbconvert_exporter": "python",
   "pygments_lexer": "ipython3",
   "version": "3.12.7"
  }
 },
 "nbformat": 4,
 "nbformat_minor": 5
}
