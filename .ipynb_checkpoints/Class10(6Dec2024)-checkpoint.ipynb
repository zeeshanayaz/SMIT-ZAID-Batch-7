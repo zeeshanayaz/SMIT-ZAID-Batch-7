{
 "cells": [
  {
   "cell_type": "markdown",
   "id": "5287c150-2fd6-4955-8be4-5518f794a039",
   "metadata": {},
   "source": [
    "# More on Function\n",
    "    - return\n",
    "    - global and local variable"
   ]
  },
  {
   "cell_type": "code",
   "execution_count": 1,
   "id": "e4fe2d39-307d-4656-b755-f3df04fd3edc",
   "metadata": {},
   "outputs": [],
   "source": [
    "def sum_list(lst):\n",
    "    sum = 0\n",
    "    for value in lst:\n",
    "        sum+=value\n",
    "    return sum"
   ]
  },
  {
   "cell_type": "code",
   "execution_count": 2,
   "id": "fb6d832a-73c1-4cc0-80a7-e790447d6ee9",
   "metadata": {},
   "outputs": [
    {
     "data": {
      "text/plain": [
       "55"
      ]
     },
     "execution_count": 2,
     "metadata": {},
     "output_type": "execute_result"
    }
   ],
   "source": [
    "sum_list([1,2,3,4,5,6,7,8,9,10])"
   ]
  },
  {
   "cell_type": "markdown",
   "id": "9345020d-ad1a-478a-ab20-4be9bf5391b2",
   "metadata": {},
   "source": [
    "### Find Max number in list"
   ]
  },
  {
   "cell_type": "code",
   "execution_count": 11,
   "id": "22181675-8b7e-4a3e-8976-5f58edf16ef9",
   "metadata": {},
   "outputs": [],
   "source": [
    "def min_number(lst):\n",
    "    min_number = lst[0]\n",
    "    for value in lst:\n",
    "        if value < min_number:\n",
    "            min_number = value\n",
    "    return min_number"
   ]
  },
  {
   "cell_type": "code",
   "execution_count": 8,
   "id": "18b2d469-d2bd-44c1-9e71-6ed62963d018",
   "metadata": {},
   "outputs": [],
   "source": [
    "def max_number(lst):\n",
    "    max_number = lst[0]\n",
    "    for value in lst:\n",
    "        if value > max_number:\n",
    "            max_number = value\n",
    "    return max_number"
   ]
  },
  {
   "cell_type": "code",
   "execution_count": 9,
   "id": "21e1e083-f82a-483d-86ab-d06515a5925b",
   "metadata": {},
   "outputs": [],
   "source": [
    "list = [12,34,34,23,45,65,78,90,34,2]"
   ]
  },
  {
   "cell_type": "code",
   "execution_count": 10,
   "id": "252489fd-41c4-44cb-8a7a-7bd88504f897",
   "metadata": {},
   "outputs": [
    {
     "data": {
      "text/plain": [
       "90"
      ]
     },
     "execution_count": 10,
     "metadata": {},
     "output_type": "execute_result"
    }
   ],
   "source": [
    "max_number(list)"
   ]
  },
  {
   "cell_type": "code",
   "execution_count": 12,
   "id": "c4c98ff7-f18d-4f2a-9632-cea79c848cee",
   "metadata": {},
   "outputs": [
    {
     "data": {
      "text/plain": [
       "2"
      ]
     },
     "execution_count": 12,
     "metadata": {},
     "output_type": "execute_result"
    }
   ],
   "source": [
    "min_number(list)"
   ]
  },
  {
   "cell_type": "code",
   "execution_count": null,
   "id": "ae1a301a-63bf-4dbc-b706-54ed505a35b3",
   "metadata": {},
   "outputs": [],
   "source": [
    "bn - input(\"\").split(\",\")\n",
    "for n in bn:\n",
    "    dec_value = int(binary_number, 2)\n",
    "    if dec_value %% 5 = 0:\n",
    "    "
   ]
  }
 ],
 "metadata": {
  "kernelspec": {
   "display_name": "Python 3 (ipykernel)",
   "language": "python",
   "name": "python3"
  },
  "language_info": {
   "codemirror_mode": {
    "name": "ipython",
    "version": 3
   },
   "file_extension": ".py",
   "mimetype": "text/x-python",
   "name": "python",
   "nbconvert_exporter": "python",
   "pygments_lexer": "ipython3",
   "version": "3.12.7"
  }
 },
 "nbformat": 4,
 "nbformat_minor": 5
}
