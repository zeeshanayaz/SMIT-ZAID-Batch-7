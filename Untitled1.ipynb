{
 "cells": [
  {
   "cell_type": "code",
   "execution_count": 1,
   "id": "4d57e5d7-6d76-4078-9651-1033590cd491",
   "metadata": {},
   "outputs": [
    {
     "name": "stdout",
     "output_type": "stream",
     "text": [
      "False\n"
     ]
    }
   ],
   "source": [
    "x = \"20\" \n",
    "y = \"30\" \n",
    "print(x > y)"
   ]
  },
  {
   "cell_type": "code",
   "execution_count": 2,
   "id": "fbe43641-c69e-43b6-9fc1-c53dac54e4b1",
   "metadata": {},
   "outputs": [
    {
     "ename": "SyntaxError",
     "evalue": "positional argument follows keyword argument (3359544515.py, line 1)",
     "output_type": "error",
     "traceback": [
      "\u001b[1;36m  Cell \u001b[1;32mIn[2], line 1\u001b[1;36m\u001b[0m\n\u001b[1;33m    print(sep='-', \"asdkljaslkdasldj\")\u001b[0m\n\u001b[1;37m                                     ^\u001b[0m\n\u001b[1;31mSyntaxError\u001b[0m\u001b[1;31m:\u001b[0m positional argument follows keyword argument\n"
     ]
    }
   ],
   "source": [
    "print(sep='-', \"asdkljaslkdasldj\")"
   ]
  },
  {
   "cell_type": "code",
   "execution_count": 3,
   "id": "8128b873-eebd-43c1-b6ce-88449b8bec91",
   "metadata": {},
   "outputs": [
    {
     "ename": "SyntaxError",
     "evalue": "positional argument follows keyword argument (1709515899.py, line 1)",
     "output_type": "error",
     "traceback": [
      "\u001b[1;36m  Cell \u001b[1;32mIn[3], line 1\u001b[1;36m\u001b[0m\n\u001b[1;33m    print(sep='--', 'Ben', 25, 'California')\u001b[0m\n\u001b[1;37m                                           ^\u001b[0m\n\u001b[1;31mSyntaxError\u001b[0m\u001b[1;31m:\u001b[0m positional argument follows keyword argument\n"
     ]
    }
   ],
   "source": [
    "print(sep='--', 'Ben', 25, 'California')"
   ]
  },
  {
   "cell_type": "code",
   "execution_count": 4,
   "id": "b70dfe97-84fa-4a3e-9e3f-ef2ec49fc8a7",
   "metadata": {},
   "outputs": [
    {
     "name": "stdout",
     "output_type": "stream",
     "text": [
      "True\n"
     ]
    }
   ],
   "source": [
    "def foo(x):\n",
    "    x[0] = ['def']\n",
    "    x[1] = ['abc']\n",
    "    return id(x)\n",
    "\n",
    "q = ['abc', 'def']\n",
    "print(id(q) == foo(q))"
   ]
  },
  {
   "cell_type": "code",
   "execution_count": 5,
   "id": "55250e15-5172-4e6a-8dec-cebe93f76aad",
   "metadata": {},
   "outputs": [
    {
     "name": "stdout",
     "output_type": "stream",
     "text": [
      "my, name, is, x, "
     ]
    }
   ],
   "source": [
    "string = \"my name is x\"\n",
    "for i in string.split():    \n",
    "      print (i, end=\", \")"
   ]
  },
  {
   "cell_type": "code",
   "execution_count": 7,
   "id": "42643f78-d519-417f-9957-830bca7ebec5",
   "metadata": {},
   "outputs": [
    {
     "name": "stdout",
     "output_type": "stream",
     "text": [
      "0\n",
      "1\n",
      "2\n"
     ]
    }
   ],
   "source": [
    "x = (i for i in range(3))\n",
    "for i in x:\n",
    "    print(i)\n",
    "for i in x:\n",
    "    print(i)"
   ]
  },
  {
   "cell_type": "code",
   "execution_count": 8,
   "id": "60400be2-8248-4be4-b6c3-7903932dd523",
   "metadata": {},
   "outputs": [
    {
     "name": "stdout",
     "output_type": "stream",
     "text": [
      "0\n"
     ]
    }
   ],
   "source": [
    "def addItem(listParam):\n",
    "\n",
    "        listParam += [1]\n",
    "        listParam.clear()\n",
    "\n",
    "mylist = [1, 2, 3, 4]\n",
    "\n",
    "addItem(mylist)\n",
    "\n",
    "print(len(mylist))"
   ]
  },
  {
   "cell_type": "code",
   "execution_count": 9,
   "id": "52612139-398e-43ff-b3cb-daf91763e7c8",
   "metadata": {},
   "outputs": [
    {
     "ename": "SyntaxError",
     "evalue": "invalid character '“' (U+201C) (796898151.py, line 3)",
     "output_type": "error",
     "traceback": [
      "\u001b[1;36m  Cell \u001b[1;32mIn[9], line 3\u001b[1;36m\u001b[0m\n\u001b[1;33m    motorcycles.remove(“Honda”)\u001b[0m\n\u001b[1;37m                       ^\u001b[0m\n\u001b[1;31mSyntaxError\u001b[0m\u001b[1;31m:\u001b[0m invalid character '“' (U+201C)\n"
     ]
    }
   ],
   "source": [
    "\n",
    "motorcycles = ['honda', 'yamaha', 'suzuki'] \n",
    "\n",
    "motorcycles.remove(“Honda”)\n",
    "\n",
    "print(motorcycles)"
   ]
  },
  {
   "cell_type": "code",
   "execution_count": 11,
   "id": "e435b0f4-d7e2-41de-b162-456822e50f9c",
   "metadata": {},
   "outputs": [
    {
     "name": "stdout",
     "output_type": "stream",
     "text": [
      "None\n"
     ]
    }
   ],
   "source": [
    "def foo():\n",
    "    try:\n",
    "        return \"Hello Python\"\n",
    "    finally:\n",
    "        return\n",
    "\n",
    "k = foo()\n",
    "\n",
    "print(k)"
   ]
  },
  {
   "cell_type": "code",
   "execution_count": 13,
   "id": "faf8e878-2ad2-47f6-a03b-2d93e0845772",
   "metadata": {},
   "outputs": [
    {
     "ename": "TypeError",
     "evalue": "can only concatenate str (not \"int\") to str",
     "output_type": "error",
     "traceback": [
      "\u001b[1;31m---------------------------------------------------------------------------\u001b[0m",
      "\u001b[1;31mTypeError\u001b[0m                                 Traceback (most recent call last)",
      "Cell \u001b[1;32mIn[13], line 5\u001b[0m\n\u001b[0;32m      1\u001b[0m country\u001b[38;5;241m=\u001b[39m\u001b[38;5;124m\"\u001b[39m\u001b[38;5;124mpakistan\u001b[39m\u001b[38;5;124m\"\u001b[39m\n\u001b[0;32m      3\u001b[0m independence_day\u001b[38;5;241m=\u001b[39m\u001b[38;5;241m1947\u001b[39m\n\u001b[1;32m----> 5\u001b[0m \u001b[38;5;28mprint\u001b[39m(country\u001b[38;5;241m+\u001b[39mindependence_day)\n",
      "\u001b[1;31mTypeError\u001b[0m: can only concatenate str (not \"int\") to str"
     ]
    }
   ],
   "source": [
    "country=\"pakistan\"\n",
    "\n",
    "independence_day=1947\n",
    "\n",
    "print(country+independence_day)"
   ]
  },
  {
   "cell_type": "code",
   "execution_count": 14,
   "id": "5d2de658-ead8-4418-aaba-80f20295c50b",
   "metadata": {},
   "outputs": [
    {
     "name": "stdout",
     "output_type": "stream",
     "text": [
      "0\n",
      "1\n",
      "2\n"
     ]
    }
   ],
   "source": [
    "i = 0\n",
    "while i < 5:\n",
    "    print(i)\n",
    "    i += 1\n",
    "    if i == 3:\n",
    "        break\n",
    "else:\n",
    "    print(0)"
   ]
  },
  {
   "cell_type": "code",
   "execution_count": 15,
   "id": "57277ce9-2283-4965-9924-e519f78d4872",
   "metadata": {},
   "outputs": [
    {
     "name": "stdout",
     "output_type": "stream",
     "text": [
      "pythonpythonpythonpythonpythonpython"
     ]
    }
   ],
   "source": [
    "s = 'python' \n",
    "\n",
    "for i in range(len(s)): \n",
    "    i = s[i].upper() \n",
    "    print(s, end=\"\")"
   ]
  },
  {
   "cell_type": "code",
   "execution_count": null,
   "id": "3cebc566-baec-461d-9e13-dfd828553320",
   "metadata": {},
   "outputs": [],
   "source": [
    "f = open('','r')\n",
    "f.re"
   ]
  }
 ],
 "metadata": {
  "kernelspec": {
   "display_name": "Python 3 (ipykernel)",
   "language": "python",
   "name": "python3"
  },
  "language_info": {
   "codemirror_mode": {
    "name": "ipython",
    "version": 3
   },
   "file_extension": ".py",
   "mimetype": "text/x-python",
   "name": "python",
   "nbconvert_exporter": "python",
   "pygments_lexer": "ipython3",
   "version": "3.12.7"
  }
 },
 "nbformat": 4,
 "nbformat_minor": 5
}
