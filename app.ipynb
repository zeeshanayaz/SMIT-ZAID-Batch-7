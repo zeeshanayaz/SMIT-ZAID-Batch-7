{
 "cells": [
  {
   "cell_type": "code",
   "execution_count": 23,
   "id": "8aea76d5-8643-46d3-8a53-17ebb943db98",
   "metadata": {},
   "outputs": [
    {
     "name": "stdout",
     "output_type": "stream",
     "text": [
      "Bismillah in Python\n"
     ]
    }
   ],
   "source": [
    "print('Bismillah in Python')"
   ]
  },
  {
   "cell_type": "code",
   "execution_count": 27,
   "id": "756b5370-8b61-4c16-9f93-cbf05bfe189c",
   "metadata": {},
   "outputs": [
    {
     "name": "stdout",
     "output_type": "stream",
     "text": [
      "Data Science and AI\n"
     ]
    }
   ],
   "source": [
    "course = \"Data Science and AI\"\n",
    "print(course)"
   ]
  },
  {
   "cell_type": "code",
   "execution_count": null,
   "id": "ac67db4a-b7ed-4476-a8ad-4dd44f160938",
   "metadata": {},
   "outputs": [],
   "source": []
  }
 ],
 "metadata": {
  "kernelspec": {
   "display_name": "Python 3 (ipykernel)",
   "language": "python",
   "name": "python3"
  },
  "language_info": {
   "codemirror_mode": {
    "name": "ipython",
    "version": 3
   },
   "file_extension": ".py",
   "mimetype": "text/x-python",
   "name": "python",
   "nbconvert_exporter": "python",
   "pygments_lexer": "ipython3",
   "version": "3.12.7"
  }
 },
 "nbformat": 4,
 "nbformat_minor": 5
}
